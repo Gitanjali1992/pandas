{
  "nbformat": 4,
  "nbformat_minor": 0,
  "metadata": {
    "colab": {
      "provenance": [],
      "collapsed_sections": [
        "IUCv2axICAce",
        "X6Ts8zo_I9Qc",
        "MflQSTMWM3ZP",
        "D4RG6lrjXQIz",
        "3nySu6e0cyra",
        "BTzjnQ5Aiimb",
        "47FD3yoHwla0",
        "2Kij3KUq8vpv",
        "czp1yc40GuoB",
        "YvKuCkMOTlGU",
        "Z2Qg9otraFGD",
        "WFWlnHMAg1gz",
        "jko8HzOpq69B",
        "LkWvpWnowlkM",
        "dFwf2YdiTkMe",
        "w2Z5OK0sasHl",
        "iG_jmZMGbN-L",
        "BMQUtBBlltAI"
      ],
      "authorship_tag": "ABX9TyPQPc7qFbwYw1uzgzL4wl8G",
      "include_colab_link": true
    },
    "kernelspec": {
      "name": "python3",
      "display_name": "Python 3"
    },
    "language_info": {
      "name": "python"
    }
  },
  "cells": [
    {
      "cell_type": "markdown",
      "metadata": {
        "id": "view-in-github",
        "colab_type": "text"
      },
      "source": [
        "<a href=\"https://colab.research.google.com/github/Gitanjali1992/pandas/blob/main/Series_At_a_Glance.ipynb\" target=\"_parent\"><img src=\"https://colab.research.google.com/assets/colab-badge.svg\" alt=\"Open In Colab\"/></a>"
      ]
    },
    {
      "cell_type": "code",
      "execution_count": 3,
      "metadata": {
        "id": "_2eKQB6TBvgT"
      },
      "outputs": [],
      "source": [
        "import pandas as pd"
      ]
    },
    {
      "cell_type": "markdown",
      "source": [
        "## What is a Series?"
      ],
      "metadata": {
        "id": "IUCv2axICAce"
      }
    },
    {
      "cell_type": "code",
      "source": [
        "students = ['Gitanjali','Abhay','Dipti']"
      ],
      "metadata": {
        "id": "S-hNj9b0B9pG"
      },
      "execution_count": 4,
      "outputs": []
    },
    {
      "cell_type": "code",
      "source": [
        "pd.Series(students)"
      ],
      "metadata": {
        "colab": {
          "base_uri": "https://localhost:8080/"
        },
        "id": "4TDhN3S4CtRg",
        "outputId": "0cfc4b8c-de1b-4e15-c0ea-3816efc21db9"
      },
      "execution_count": 5,
      "outputs": [
        {
          "output_type": "execute_result",
          "data": {
            "text/plain": [
              "0    Gitanjali\n",
              "1        Abhay\n",
              "2        Dipti\n",
              "dtype: object"
            ]
          },
          "metadata": {},
          "execution_count": 5
        }
      ]
    },
    {
      "cell_type": "code",
      "source": [
        "age = [30,21,28]"
      ],
      "metadata": {
        "id": "-SZXoNjgC6X6"
      },
      "execution_count": 6,
      "outputs": []
    },
    {
      "cell_type": "code",
      "source": [
        "pd.Series(age)"
      ],
      "metadata": {
        "colab": {
          "base_uri": "https://localhost:8080/"
        },
        "id": "aTwXTvcGDBFW",
        "outputId": "ce8e6975-bac7-45e4-94b3-715e9e75f48a"
      },
      "execution_count": 7,
      "outputs": [
        {
          "output_type": "execute_result",
          "data": {
            "text/plain": [
              "0    30\n",
              "1    21\n",
              "2    28\n",
              "dtype: int64"
            ]
          },
          "metadata": {},
          "execution_count": 7
        }
      ]
    },
    {
      "cell_type": "code",
      "source": [
        "height = [150,162.5,152]"
      ],
      "metadata": {
        "id": "Ft_mTFxzDDX4"
      },
      "execution_count": 8,
      "outputs": []
    },
    {
      "cell_type": "code",
      "source": [
        "pd.Series(height)"
      ],
      "metadata": {
        "colab": {
          "base_uri": "https://localhost:8080/"
        },
        "id": "NeCjL6Q9DMtI",
        "outputId": "c2e77a77-b1f0-4dc1-b0d3-9a88d7930047"
      },
      "execution_count": 9,
      "outputs": [
        {
          "output_type": "execute_result",
          "data": {
            "text/plain": [
              "0    150.0\n",
              "1    162.5\n",
              "2    152.0\n",
              "dtype: float64"
            ]
          },
          "metadata": {},
          "execution_count": 9
        }
      ]
    },
    {
      "cell_type": "markdown",
      "source": [
        "Unlike numpy and darrays, Pandas Series **supports mixed datatypes**"
      ],
      "metadata": {
        "id": "BxtawsLMHkwz"
      }
    },
    {
      "cell_type": "code",
      "source": [
        "mixed = [True, 'say', {'my_motivation': 100}]"
      ],
      "metadata": {
        "id": "KZjr65tHDO02"
      },
      "execution_count": 10,
      "outputs": []
    },
    {
      "cell_type": "code",
      "source": [
        "pd.Series(mixed)"
      ],
      "metadata": {
        "colab": {
          "base_uri": "https://localhost:8080/"
        },
        "id": "iPvd37QqHeYx",
        "outputId": "c2c560a8-ae5b-474f-a4d3-3ace240473bc"
      },
      "execution_count": 11,
      "outputs": [
        {
          "output_type": "execute_result",
          "data": {
            "text/plain": [
              "0                      True\n",
              "1                       say\n",
              "2    {'my_motivation': 100}\n",
              "dtype: object"
            ]
          },
          "metadata": {},
          "execution_count": 11
        }
      ]
    },
    {
      "cell_type": "markdown",
      "source": [
        "# Parameters vs. Arguments"
      ],
      "metadata": {
        "id": "X6Ts8zo_I9Qc"
      }
    },
    {
      "cell_type": "code",
      "source": [
        "pd.Series(students)"
      ],
      "metadata": {
        "colab": {
          "base_uri": "https://localhost:8080/"
        },
        "id": "4uVVA-qSJCDi",
        "outputId": "e39f3e23-6fe8-4db8-a6cb-9c294a364959"
      },
      "execution_count": 12,
      "outputs": [
        {
          "output_type": "execute_result",
          "data": {
            "text/plain": [
              "0    Gitanjali\n",
              "1        Abhay\n",
              "2        Dipti\n",
              "dtype: object"
            ]
          },
          "metadata": {},
          "execution_count": 12
        }
      ]
    },
    {
      "cell_type": "code",
      "source": [
        "pd.Series(data=students)"
      ],
      "metadata": {
        "colab": {
          "base_uri": "https://localhost:8080/"
        },
        "id": "U5uZfOhAMIyK",
        "outputId": "7d35ab65-0403-420b-8f93-9464a3eb67c6"
      },
      "execution_count": 13,
      "outputs": [
        {
          "output_type": "execute_result",
          "data": {
            "text/plain": [
              "0    Gitanjali\n",
              "1        Abhay\n",
              "2        Dipti\n",
              "dtype: object"
            ]
          },
          "metadata": {},
          "execution_count": 13
        }
      ]
    },
    {
      "cell_type": "markdown",
      "source": [
        "# What 's in the data?"
      ],
      "metadata": {
        "id": "MflQSTMWM3ZP"
      }
    },
    {
      "cell_type": "code",
      "source": [
        "books_list = ['Thursday Murder Club', 'Almost Single', 'The Fault in our stars']"
      ],
      "metadata": {
        "id": "cmjiNuyrM7W9"
      },
      "execution_count": 14,
      "outputs": []
    },
    {
      "cell_type": "code",
      "source": [
        "list_s = pd.Series(books_list)"
      ],
      "metadata": {
        "id": "924XTakLNQzs"
      },
      "execution_count": 15,
      "outputs": []
    },
    {
      "cell_type": "code",
      "source": [
        "books_dict = {0: 'Thursday Murder Club', 1: 'Almost Single', 2: 'The Fault in our stars'}\n",
        "books_dict2 = {1: 'Thursday Murder Club', 2: 'Almost Single', 3: 'The Fault in our stars'}"
      ],
      "metadata": {
        "id": "6jiqWOuQNTCI"
      },
      "execution_count": 16,
      "outputs": []
    },
    {
      "cell_type": "code",
      "source": [
        "dict_s = pd.Series(books_dict)"
      ],
      "metadata": {
        "id": "Jn3M7eJNQFQr"
      },
      "execution_count": 17,
      "outputs": []
    },
    {
      "cell_type": "code",
      "source": [
        "pd.Series(books_dict2)"
      ],
      "metadata": {
        "colab": {
          "base_uri": "https://localhost:8080/"
        },
        "id": "gn-jBh1gQJES",
        "outputId": "c7535ab0-cf4a-4a26-c4e2-2aeef8ce484c"
      },
      "execution_count": 18,
      "outputs": [
        {
          "output_type": "execute_result",
          "data": {
            "text/plain": [
              "1      Thursday Murder Club\n",
              "2             Almost Single\n",
              "3    The Fault in our stars\n",
              "dtype: object"
            ]
          },
          "metadata": {},
          "execution_count": 18
        }
      ]
    },
    {
      "cell_type": "code",
      "source": [
        "list_s.equals(dict_s)"
      ],
      "metadata": {
        "colab": {
          "base_uri": "https://localhost:8080/"
        },
        "id": "GkkIF2kGQ7Ts",
        "outputId": "89e45c18-5f35-4f3e-e6f1-71eea9cbad22"
      },
      "execution_count": 19,
      "outputs": [
        {
          "output_type": "execute_result",
          "data": {
            "text/plain": [
              "True"
            ]
          },
          "metadata": {},
          "execution_count": 19
        }
      ]
    },
    {
      "cell_type": "code",
      "source": [
        "pd.Series(1992)"
      ],
      "metadata": {
        "colab": {
          "base_uri": "https://localhost:8080/"
        },
        "id": "eKg6DJ2VSbpk",
        "outputId": "0d0915c7-efd0-4a03-d2f9-47d335ffd681"
      },
      "execution_count": 20,
      "outputs": [
        {
          "output_type": "execute_result",
          "data": {
            "text/plain": [
              "0    1992\n",
              "dtype: int64"
            ]
          },
          "metadata": {},
          "execution_count": 20
        }
      ]
    },
    {
      "cell_type": "code",
      "source": [
        "pd.Series('Gitanjali')"
      ],
      "metadata": {
        "colab": {
          "base_uri": "https://localhost:8080/"
        },
        "id": "3fICLJsMW1jr",
        "outputId": "b6a5b528-4586-4b39-e9e1-530299ecff05"
      },
      "execution_count": 21,
      "outputs": [
        {
          "output_type": "execute_result",
          "data": {
            "text/plain": [
              "0    Gitanjali\n",
              "dtype: object"
            ]
          },
          "metadata": {},
          "execution_count": 21
        }
      ]
    },
    {
      "cell_type": "markdown",
      "source": [
        "# The .dtype Attribute"
      ],
      "metadata": {
        "id": "D4RG6lrjXQIz"
      }
    },
    {
      "cell_type": "code",
      "source": [
        "pd.Series(age)"
      ],
      "metadata": {
        "colab": {
          "base_uri": "https://localhost:8080/"
        },
        "id": "VNLPZzBKXV6j",
        "outputId": "aff84036-0b4e-49b1-afae-084eb58c1c55"
      },
      "execution_count": 22,
      "outputs": [
        {
          "output_type": "execute_result",
          "data": {
            "text/plain": [
              "0    30\n",
              "1    21\n",
              "2    28\n",
              "dtype: int64"
            ]
          },
          "metadata": {},
          "execution_count": 22
        }
      ]
    },
    {
      "cell_type": "markdown",
      "source": [
        "Pandas automatically infers the dtype of series based on data we provided to Series constructor.\n",
        "\n",
        "However, we can specify dtype ourselves."
      ],
      "metadata": {
        "id": "Ve-ZZOHzYuyB"
      }
    },
    {
      "cell_type": "code",
      "source": [
        "pd.Series(age, dtype='float')"
      ],
      "metadata": {
        "colab": {
          "base_uri": "https://localhost:8080/"
        },
        "id": "r-yjP6fYYhvn",
        "outputId": "900d063b-e460-4d86-c27a-813071e13aa0"
      },
      "execution_count": 23,
      "outputs": [
        {
          "output_type": "execute_result",
          "data": {
            "text/plain": [
              "0    30.0\n",
              "1    21.0\n",
              "2    28.0\n",
              "dtype: float64"
            ]
          },
          "metadata": {},
          "execution_count": 23
        }
      ]
    },
    {
      "cell_type": "code",
      "source": [
        "name_series = pd.Series(students)"
      ],
      "metadata": {
        "id": "N2IALQCuYsOs"
      },
      "execution_count": 24,
      "outputs": []
    },
    {
      "cell_type": "code",
      "source": [
        "name_series"
      ],
      "metadata": {
        "colab": {
          "base_uri": "https://localhost:8080/"
        },
        "id": "dZmjyN-paTLG",
        "outputId": "ed1d190e-b0dd-40de-c0c7-cfe923506096"
      },
      "execution_count": 25,
      "outputs": [
        {
          "output_type": "execute_result",
          "data": {
            "text/plain": [
              "0    Gitanjali\n",
              "1        Abhay\n",
              "2        Dipti\n",
              "dtype: object"
            ]
          },
          "metadata": {},
          "execution_count": 25
        }
      ]
    },
    {
      "cell_type": "code",
      "source": [
        "name_series.dtype"
      ],
      "metadata": {
        "colab": {
          "base_uri": "https://localhost:8080/"
        },
        "id": "WjK_g7Xnabqw",
        "outputId": "b1882ada-d366-4579-925f-6e0df4e5ed1a"
      },
      "execution_count": 26,
      "outputs": [
        {
          "output_type": "execute_result",
          "data": {
            "text/plain": [
              "dtype('O')"
            ]
          },
          "metadata": {},
          "execution_count": 26
        }
      ]
    },
    {
      "cell_type": "code",
      "source": [
        "age_series = pd.Series(age)"
      ],
      "metadata": {
        "id": "gxLHrXXfaew0"
      },
      "execution_count": 27,
      "outputs": []
    },
    {
      "cell_type": "code",
      "source": [
        "age_series"
      ],
      "metadata": {
        "colab": {
          "base_uri": "https://localhost:8080/"
        },
        "id": "S4ph3eVca1WK",
        "outputId": "83660485-b6b5-41f9-9c2c-f2f79ccd49a5"
      },
      "execution_count": 28,
      "outputs": [
        {
          "output_type": "execute_result",
          "data": {
            "text/plain": [
              "0    30\n",
              "1    21\n",
              "2    28\n",
              "dtype: int64"
            ]
          },
          "metadata": {},
          "execution_count": 28
        }
      ]
    },
    {
      "cell_type": "code",
      "source": [
        "age_series.dtype"
      ],
      "metadata": {
        "colab": {
          "base_uri": "https://localhost:8080/"
        },
        "id": "L8gyr8gQa3Tk",
        "outputId": "20e94077-56ff-4c71-fcb9-0691ea469b65"
      },
      "execution_count": 29,
      "outputs": [
        {
          "output_type": "execute_result",
          "data": {
            "text/plain": [
              "dtype('int64')"
            ]
          },
          "metadata": {},
          "execution_count": 29
        }
      ]
    },
    {
      "cell_type": "code",
      "source": [
        "height_series = pd.Series(height)"
      ],
      "metadata": {
        "id": "2j4T8CAda5UW"
      },
      "execution_count": 30,
      "outputs": []
    },
    {
      "cell_type": "code",
      "source": [
        "height_series.dtype"
      ],
      "metadata": {
        "colab": {
          "base_uri": "https://localhost:8080/"
        },
        "id": "7gVzWe9lbUv1",
        "outputId": "ac3ad96f-1ea4-4623-b854-03610630f3c2"
      },
      "execution_count": 31,
      "outputs": [
        {
          "output_type": "execute_result",
          "data": {
            "text/plain": [
              "dtype('float64')"
            ]
          },
          "metadata": {},
          "execution_count": 31
        }
      ]
    },
    {
      "cell_type": "markdown",
      "source": [
        "# What is dtype('O'), Really?\n",
        "Mostly to do with:\n",
        "- numpy only dealing with homogeneous(of same fixed size in memory) multi-dimensional arrays.\n",
        "- Strings not being homogeneous or of fixed size."
      ],
      "metadata": {
        "id": "3nySu6e0cyra"
      }
    },
    {
      "cell_type": "code",
      "source": [
        "heights2 = [120.4, '102.5',167.8]"
      ],
      "metadata": {
        "id": "qTLAA299bXCl"
      },
      "execution_count": 32,
      "outputs": []
    },
    {
      "cell_type": "code",
      "source": [
        "pd.Series(heights2)"
      ],
      "metadata": {
        "colab": {
          "base_uri": "https://localhost:8080/"
        },
        "id": "nEArp5L0hZ13",
        "outputId": "b57d76b8-1426-4814-c33b-e6e84625cef2"
      },
      "execution_count": 33,
      "outputs": [
        {
          "output_type": "execute_result",
          "data": {
            "text/plain": [
              "0    120.4\n",
              "1    102.5\n",
              "2    167.8\n",
              "dtype: object"
            ]
          },
          "metadata": {},
          "execution_count": 33
        }
      ]
    },
    {
      "cell_type": "markdown",
      "source": [
        "# Index and RangeIndex\n",
        "- Create Custome index/labels\n",
        "- When not specified, Pandas creates immutable RangeIndex for performance optimization reasons "
      ],
      "metadata": {
        "id": "BTzjnQ5Aiimb"
      }
    },
    {
      "cell_type": "code",
      "source": [
        "books_list"
      ],
      "metadata": {
        "colab": {
          "base_uri": "https://localhost:8080/"
        },
        "id": "5GgyuYTdio3i",
        "outputId": "61a83168-78cd-4968-95fd-8818519d427b"
      },
      "execution_count": 34,
      "outputs": [
        {
          "output_type": "execute_result",
          "data": {
            "text/plain": [
              "['Thursday Murder Club', 'Almost Single', 'The Fault in our stars']"
            ]
          },
          "metadata": {},
          "execution_count": 34
        }
      ]
    },
    {
      "cell_type": "code",
      "source": [
        "list_s"
      ],
      "metadata": {
        "colab": {
          "base_uri": "https://localhost:8080/"
        },
        "id": "MK7g5CTAjl6x",
        "outputId": "25f00479-64e1-494b-8258-921c7b120c30"
      },
      "execution_count": 35,
      "outputs": [
        {
          "output_type": "execute_result",
          "data": {
            "text/plain": [
              "0      Thursday Murder Club\n",
              "1             Almost Single\n",
              "2    The Fault in our stars\n",
              "dtype: object"
            ]
          },
          "metadata": {},
          "execution_count": 35
        }
      ]
    },
    {
      "cell_type": "markdown",
      "source": [
        "We can provide our own labels using \"Index\" parameter of pd.Series() constructor."
      ],
      "metadata": {
        "id": "B2C4LenulZfA"
      }
    },
    {
      "cell_type": "code",
      "source": [
        "# using keyword/named arguments\n",
        "pd.Series(data=books_list, index=['Thriller', 'Humour', 'Romantic'])"
      ],
      "metadata": {
        "colab": {
          "base_uri": "https://localhost:8080/"
        },
        "id": "xXhKXurdjm2k",
        "outputId": "bedcd728-8610-45dc-c283-bc050c042018"
      },
      "execution_count": 36,
      "outputs": [
        {
          "output_type": "execute_result",
          "data": {
            "text/plain": [
              "Thriller      Thursday Murder Club\n",
              "Humour               Almost Single\n",
              "Romantic    The Fault in our stars\n",
              "dtype: object"
            ]
          },
          "metadata": {},
          "execution_count": 36
        }
      ]
    },
    {
      "cell_type": "code",
      "source": [
        "# Using positional arguments\n",
        "pd.Series(books_list, ['Thriller', 'Humour', 'Romantic'])"
      ],
      "metadata": {
        "colab": {
          "base_uri": "https://localhost:8080/"
        },
        "id": "9rBRmO6jlW6q",
        "outputId": "eaa4e98a-b281-44e3-bd6a-236247285e07"
      },
      "execution_count": 37,
      "outputs": [
        {
          "output_type": "execute_result",
          "data": {
            "text/plain": [
              "Thriller      Thursday Murder Club\n",
              "Humour               Almost Single\n",
              "Romantic    The Fault in our stars\n",
              "dtype: object"
            ]
          },
          "metadata": {},
          "execution_count": 37
        }
      ]
    },
    {
      "cell_type": "code",
      "source": [
        "# using mixed arguments\n",
        "pd.Series(books_list, ['Thriller', 'Humour', 'Romantic'], dtype = 'object')"
      ],
      "metadata": {
        "colab": {
          "base_uri": "https://localhost:8080/"
        },
        "id": "m6FRrhLal-3A",
        "outputId": "9d19629c-66aa-41b9-86b9-0802be0edeb6"
      },
      "execution_count": 38,
      "outputs": [
        {
          "output_type": "execute_result",
          "data": {
            "text/plain": [
              "Thriller      Thursday Murder Club\n",
              "Humour               Almost Single\n",
              "Romantic    The Fault in our stars\n",
              "dtype: object"
            ]
          },
          "metadata": {},
          "execution_count": 38
        }
      ]
    },
    {
      "cell_type": "code",
      "source": [
        "pd.__version__"
      ],
      "metadata": {
        "colab": {
          "base_uri": "https://localhost:8080/",
          "height": 0
        },
        "id": "BCkh5c1RmqBH",
        "outputId": "f1454172-a083-4b59-d5c2-e4f5ca13d612"
      },
      "execution_count": 39,
      "outputs": [
        {
          "output_type": "execute_result",
          "data": {
            "text/plain": [
              "'1.3.5'"
            ],
            "application/vnd.google.colaboratory.intrinsic+json": {
              "type": "string"
            }
          },
          "metadata": {},
          "execution_count": 39
        }
      ]
    },
    {
      "cell_type": "code",
      "source": [
        "# stringdtype() from pandas version 1 and later\n",
        "pd.Series(books_list, ['Thriller', 'Humour', 'Romantic'], dtype = 'string')"
      ],
      "metadata": {
        "colab": {
          "base_uri": "https://localhost:8080/"
        },
        "id": "-8faZthCnCx4",
        "outputId": "547262e4-5575-43a5-b567-e7922b650add"
      },
      "execution_count": 40,
      "outputs": [
        {
          "output_type": "execute_result",
          "data": {
            "text/plain": [
              "Thriller      Thursday Murder Club\n",
              "Humour               Almost Single\n",
              "Romantic    The Fault in our stars\n",
              "dtype: string"
            ]
          },
          "metadata": {},
          "execution_count": 40
        }
      ]
    },
    {
      "cell_type": "markdown",
      "source": [
        "RangeIndex --> x.index\n",
        "- When we don't specify an index explicitly. \n",
        "- Is sequence of integers starting from 0\n",
        "- Built-in Pandas object"
      ],
      "metadata": {
        "id": "3Iy2LuiBpVyX"
      }
    },
    {
      "cell_type": "code",
      "source": [
        "list_s.index"
      ],
      "metadata": {
        "colab": {
          "base_uri": "https://localhost:8080/"
        },
        "id": "5LUguOpdoUFO",
        "outputId": "7f710123-0a04-4561-da0f-f45e9af93235"
      },
      "execution_count": 41,
      "outputs": [
        {
          "output_type": "execute_result",
          "data": {
            "text/plain": [
              "RangeIndex(start=0, stop=3, step=1)"
            ]
          },
          "metadata": {},
          "execution_count": 41
        }
      ]
    },
    {
      "cell_type": "code",
      "source": [
        "type(list_s.index)"
      ],
      "metadata": {
        "colab": {
          "base_uri": "https://localhost:8080/"
        },
        "id": "KGOnyqlepQzB",
        "outputId": "d54893b3-8548-42f6-a941-6e3534dc6b7f"
      },
      "execution_count": 42,
      "outputs": [
        {
          "output_type": "execute_result",
          "data": {
            "text/plain": [
              "pandas.core.indexes.range.RangeIndex"
            ]
          },
          "metadata": {},
          "execution_count": 42
        }
      ]
    },
    {
      "cell_type": "markdown",
      "source": [
        "Creating our own Ranging (RangeIndex)"
      ],
      "metadata": {
        "id": "PGeql2ffsNXO"
      }
    },
    {
      "cell_type": "code",
      "source": [
        "pd.RangeIndex(start=4, stop=7, step=1)"
      ],
      "metadata": {
        "colab": {
          "base_uri": "https://localhost:8080/"
        },
        "id": "CTfhQhZqrWoh",
        "outputId": "5df67e54-ab22-4909-d033-490182a22f01"
      },
      "execution_count": 43,
      "outputs": [
        {
          "output_type": "execute_result",
          "data": {
            "text/plain": [
              "RangeIndex(start=4, stop=7, step=1)"
            ]
          },
          "metadata": {},
          "execution_count": 43
        }
      ]
    },
    {
      "cell_type": "code",
      "source": [
        "list(pd.RangeIndex(start=4, stop=7, step=1))"
      ],
      "metadata": {
        "colab": {
          "base_uri": "https://localhost:8080/"
        },
        "id": "4mMIUjbKsXF7",
        "outputId": "8173e871-1106-4025-a83a-b4fd56756676"
      },
      "execution_count": 44,
      "outputs": [
        {
          "output_type": "execute_result",
          "data": {
            "text/plain": [
              "[4, 5, 6]"
            ]
          },
          "metadata": {},
          "execution_count": 44
        }
      ]
    },
    {
      "cell_type": "code",
      "source": [
        "list(pd.RangeIndex(start=10, stop=-11, step=-1))"
      ],
      "metadata": {
        "colab": {
          "base_uri": "https://localhost:8080/"
        },
        "id": "CB9wOimhsdWX",
        "outputId": "837d5e76-ecdf-409b-f61c-5585059f7673"
      },
      "execution_count": 45,
      "outputs": [
        {
          "output_type": "execute_result",
          "data": {
            "text/plain": [
              "[10, 9, 8, 7, 6, 5, 4, 3, 2, 1, 0, -1, -2, -3, -4, -5, -6, -7, -8, -9, -10]"
            ]
          },
          "metadata": {},
          "execution_count": 45
        }
      ]
    },
    {
      "cell_type": "markdown",
      "source": [
        "# Series and Index Names\n",
        "- Series can have names which later become column names in data frames\n",
        "- series index can also have names"
      ],
      "metadata": {
        "id": "47FD3yoHwla0"
      }
    },
    {
      "cell_type": "code",
      "source": [
        "list_s"
      ],
      "metadata": {
        "id": "tPbX_l5dwoeL",
        "colab": {
          "base_uri": "https://localhost:8080/"
        },
        "outputId": "7e863916-6378-4aea-cbc6-8520dc4cb559"
      },
      "execution_count": 46,
      "outputs": [
        {
          "output_type": "execute_result",
          "data": {
            "text/plain": [
              "0      Thursday Murder Club\n",
              "1             Almost Single\n",
              "2    The Fault in our stars\n",
              "dtype: object"
            ]
          },
          "metadata": {},
          "execution_count": 46
        }
      ]
    },
    {
      "cell_type": "code",
      "source": [
        "# inttelligable: capable of being understood"
      ],
      "metadata": {
        "id": "jVChvuOm2H0H"
      },
      "execution_count": 47,
      "outputs": []
    },
    {
      "cell_type": "code",
      "source": [
        "books_series = list_s"
      ],
      "metadata": {
        "id": "GQ2_ITcI3A0e"
      },
      "execution_count": 48,
      "outputs": []
    },
    {
      "cell_type": "code",
      "source": [
        "books_series"
      ],
      "metadata": {
        "colab": {
          "base_uri": "https://localhost:8080/"
        },
        "id": "2P2zcLav3ESW",
        "outputId": "a3a8707b-ad51-42f3-8e8f-af93be7e6efe"
      },
      "execution_count": 49,
      "outputs": [
        {
          "output_type": "execute_result",
          "data": {
            "text/plain": [
              "0      Thursday Murder Club\n",
              "1             Almost Single\n",
              "2    The Fault in our stars\n",
              "dtype: object"
            ]
          },
          "metadata": {},
          "execution_count": 49
        }
      ]
    },
    {
      "cell_type": "code",
      "source": [
        "# Attribute\n",
        "books_series.size"
      ],
      "metadata": {
        "colab": {
          "base_uri": "https://localhost:8080/"
        },
        "id": "fhdztFlS3R3u",
        "outputId": "02cfeb4b-a458-4db9-f0e8-14bfcf98882f"
      },
      "execution_count": 50,
      "outputs": [
        {
          "output_type": "execute_result",
          "data": {
            "text/plain": [
              "3"
            ]
          },
          "metadata": {},
          "execution_count": 50
        }
      ]
    },
    {
      "cell_type": "code",
      "source": [
        "# Method\n",
        "list_s.equals(dict_s)"
      ],
      "metadata": {
        "colab": {
          "base_uri": "https://localhost:8080/"
        },
        "id": "pT_m5H403VjH",
        "outputId": "0f0be45b-d040-435d-c43e-f4d7c69c43e0"
      },
      "execution_count": 51,
      "outputs": [
        {
          "output_type": "execute_result",
          "data": {
            "text/plain": [
              "True"
            ]
          },
          "metadata": {},
          "execution_count": 51
        }
      ]
    },
    {
      "cell_type": "code",
      "source": [
        "# Attribute:\n",
        "books_series.dtype"
      ],
      "metadata": {
        "colab": {
          "base_uri": "https://localhost:8080/"
        },
        "id": "97-BMzPs3afH",
        "outputId": "f7586b79-3d7f-4c28-94e6-b14df0a8b58b"
      },
      "execution_count": 52,
      "outputs": [
        {
          "output_type": "execute_result",
          "data": {
            "text/plain": [
              "dtype('O')"
            ]
          },
          "metadata": {},
          "execution_count": 52
        }
      ]
    },
    {
      "cell_type": "code",
      "source": [
        "books_series.name"
      ],
      "metadata": {
        "id": "rCZ2ChkD58Sq"
      },
      "execution_count": 53,
      "outputs": []
    },
    {
      "cell_type": "code",
      "source": [
        "books_series.name == None"
      ],
      "metadata": {
        "colab": {
          "base_uri": "https://localhost:8080/"
        },
        "id": "AZQCSpN_6A20",
        "outputId": "3a21371d-f620-4e10-c890-2e904944d35f"
      },
      "execution_count": 54,
      "outputs": [
        {
          "output_type": "execute_result",
          "data": {
            "text/plain": [
              "True"
            ]
          },
          "metadata": {},
          "execution_count": 54
        }
      ]
    },
    {
      "cell_type": "code",
      "source": [
        "books_series.name = 'my books read in 2022'"
      ],
      "metadata": {
        "id": "S9qsKu036Egz"
      },
      "execution_count": 55,
      "outputs": []
    },
    {
      "cell_type": "code",
      "source": [
        "books_series.name"
      ],
      "metadata": {
        "colab": {
          "base_uri": "https://localhost:8080/",
          "height": 0
        },
        "id": "2VzzpBVR6JQM",
        "outputId": "2fea4df1-7e32-49f4-80ca-a02be48c234e"
      },
      "execution_count": 56,
      "outputs": [
        {
          "output_type": "execute_result",
          "data": {
            "text/plain": [
              "'my books read in 2022'"
            ],
            "application/vnd.google.colaboratory.intrinsic+json": {
              "type": "string"
            }
          },
          "metadata": {},
          "execution_count": 56
        }
      ]
    },
    {
      "cell_type": "code",
      "source": [
        "books_series\n",
        "# inaddition to dtype attribute, we now have additional Name attribute also now that we have set it"
      ],
      "metadata": {
        "colab": {
          "base_uri": "https://localhost:8080/"
        },
        "id": "7tZPLiYT6LUZ",
        "outputId": "9e35023c-22f2-4b9f-f747-da4328e1f205"
      },
      "execution_count": 57,
      "outputs": [
        {
          "output_type": "execute_result",
          "data": {
            "text/plain": [
              "0      Thursday Murder Club\n",
              "1             Almost Single\n",
              "2    The Fault in our stars\n",
              "Name: my books read in 2022, dtype: object"
            ]
          },
          "metadata": {},
          "execution_count": 57
        }
      ]
    },
    {
      "cell_type": "code",
      "source": [
        "books_series.index.name"
      ],
      "metadata": {
        "id": "OCjq1s0I6NSa"
      },
      "execution_count": 58,
      "outputs": []
    },
    {
      "cell_type": "code",
      "source": [
        "books_series.index.name == None"
      ],
      "metadata": {
        "colab": {
          "base_uri": "https://localhost:8080/"
        },
        "id": "0mgI8Vr78SLs",
        "outputId": "5699d57b-dd0f-47b7-fd8a-862eadcf6a26"
      },
      "execution_count": 59,
      "outputs": [
        {
          "output_type": "execute_result",
          "data": {
            "text/plain": [
              "True"
            ]
          },
          "metadata": {},
          "execution_count": 59
        }
      ]
    },
    {
      "cell_type": "code",
      "source": [
        "books_series.index.name = 'My Books'"
      ],
      "metadata": {
        "id": "6URezXTr8T1t"
      },
      "execution_count": 60,
      "outputs": []
    },
    {
      "cell_type": "code",
      "source": [
        "books_series\n",
        "# Additional index name appears on top of labels"
      ],
      "metadata": {
        "colab": {
          "base_uri": "https://localhost:8080/"
        },
        "id": "hYMjTpJS8VXK",
        "outputId": "57d90094-1091-45fe-efb3-c03a90a85d76"
      },
      "execution_count": 61,
      "outputs": [
        {
          "output_type": "execute_result",
          "data": {
            "text/plain": [
              "My Books\n",
              "0      Thursday Murder Club\n",
              "1             Almost Single\n",
              "2    The Fault in our stars\n",
              "Name: my books read in 2022, dtype: object"
            ]
          },
          "metadata": {},
          "execution_count": 61
        }
      ]
    },
    {
      "cell_type": "code",
      "source": [],
      "metadata": {
        "id": "xuZvWCTv8XUX"
      },
      "execution_count": 61,
      "outputs": []
    },
    {
      "cell_type": "markdown",
      "source": [
        "# Skills Challenge"
      ],
      "metadata": {
        "id": "2Kij3KUq8vpv"
      }
    },
    {
      "cell_type": "markdown",
      "source": [
        "Task 1.\n",
        "- Create a Python list of length 4 that contains some of your favaourite actors. \n",
        "- So this should be a list of strings.\n",
        "- Call this list-nassign it to a variable: actor_names"
      ],
      "metadata": {
        "id": "Aga26dIO9ohU"
      }
    },
    {
      "cell_type": "code",
      "source": [
        "actor_names = ['Leonardo', 'Blake', 'Kate', 'Reynolds']"
      ],
      "metadata": {
        "id": "zUL8SYIt9To1"
      },
      "execution_count": 62,
      "outputs": []
    },
    {
      "cell_type": "markdown",
      "source": [
        "Task 2.\n",
        "- Create another list of same length that contains your guesses of how old each actor is, feel free to just use integers or floats.\n",
        "- Call thsi list actor_ages"
      ],
      "metadata": {
        "id": "aJvPoYhr9vCP"
      }
    },
    {
      "cell_type": "code",
      "source": [
        "actor_ages = [58, 44, 60, 48]"
      ],
      "metadata": {
        "id": "Ig0leQli9iaQ"
      },
      "execution_count": 63,
      "outputs": []
    },
    {
      "cell_type": "markdown",
      "source": [
        "Task 3.\n",
        "- Create a series that contains actors ages and labels the ages using the actor names.\n",
        "- Give this series a name of actors."
      ],
      "metadata": {
        "id": "cIGixkEJ-SfT"
      }
    },
    {
      "cell_type": "code",
      "source": [
        "actors = pd.Series(actor_ages, index= actor_names, name = 'actors')"
      ],
      "metadata": {
        "id": "uO_qKmLH-KBN"
      },
      "execution_count": 64,
      "outputs": []
    },
    {
      "cell_type": "code",
      "source": [
        "actors"
      ],
      "metadata": {
        "colab": {
          "base_uri": "https://localhost:8080/"
        },
        "id": "E1cpteh1-3qp",
        "outputId": "082ef9b6-67fb-4f8b-cf03-91adb7a56859"
      },
      "execution_count": 65,
      "outputs": [
        {
          "output_type": "execute_result",
          "data": {
            "text/plain": [
              "Leonardo    58\n",
              "Blake       44\n",
              "Kate        60\n",
              "Reynolds    48\n",
              "Name: actors, dtype: int64"
            ]
          },
          "metadata": {},
          "execution_count": 65
        }
      ]
    },
    {
      "cell_type": "markdown",
      "source": [
        "Task 4.\n",
        "- Repeat step 3 but this time create the series from a Python Dictionary.\n",
        "- As an additional challenge, try not to type the dictionary manually but instead dynamically create it using the two lists defined in step 1 and step 2."
      ],
      "metadata": {
        "id": "GRkMbbsQ-7QP"
      }
    },
    {
      "cell_type": "code",
      "source": [
        "actor_dict = dict(zip(actor_names, actor_ages)) #pure functions\n",
        "actor_dict2 = {name:age for name, age in zip(actor_names, actor_ages)} #dict comprehennsions and pure function"
      ],
      "metadata": {
        "id": "Am-Sh5qj-42Z"
      },
      "execution_count": 66,
      "outputs": []
    },
    {
      "cell_type": "code",
      "source": [
        "pd.Series(actor_dict, name = 'actors')"
      ],
      "metadata": {
        "colab": {
          "base_uri": "https://localhost:8080/"
        },
        "id": "9AT_VIvIAD_o",
        "outputId": "09d6e7b6-ff63-4bfd-bc38-b102f3c6a637"
      },
      "execution_count": 67,
      "outputs": [
        {
          "output_type": "execute_result",
          "data": {
            "text/plain": [
              "Leonardo    58\n",
              "Blake       44\n",
              "Kate        60\n",
              "Reynolds    48\n",
              "Name: actors, dtype: int64"
            ]
          },
          "metadata": {},
          "execution_count": 67
        }
      ]
    },
    {
      "cell_type": "code",
      "source": [
        "pd.Series(actor_dict2, name = 'actors')"
      ],
      "metadata": {
        "colab": {
          "base_uri": "https://localhost:8080/"
        },
        "id": "bqtupYCLFVwz",
        "outputId": "919c1f88-76ef-4018-d0f1-0383d596c533"
      },
      "execution_count": 68,
      "outputs": [
        {
          "output_type": "execute_result",
          "data": {
            "text/plain": [
              "Leonardo    58\n",
              "Blake       44\n",
              "Kate        60\n",
              "Reynolds    48\n",
              "Name: actors, dtype: int64"
            ]
          },
          "metadata": {},
          "execution_count": 68
        }
      ]
    },
    {
      "cell_type": "markdown",
      "source": [
        "# The head() and tail() Method"
      ],
      "metadata": {
        "id": "czp1yc40GuoB"
      }
    },
    {
      "cell_type": "code",
      "source": [
        "int_series = pd.Series(range(10))"
      ],
      "metadata": {
        "id": "vFc0nimxG0WC"
      },
      "execution_count": 69,
      "outputs": []
    },
    {
      "cell_type": "code",
      "source": [
        "int_series"
      ],
      "metadata": {
        "colab": {
          "base_uri": "https://localhost:8080/"
        },
        "id": "9tk4mQwMIATr",
        "outputId": "0147e09d-9abe-4271-ac8f-de709a538aa6"
      },
      "execution_count": 70,
      "outputs": [
        {
          "output_type": "execute_result",
          "data": {
            "text/plain": [
              "0    0\n",
              "1    1\n",
              "2    2\n",
              "3    3\n",
              "4    4\n",
              "5    5\n",
              "6    6\n",
              "7    7\n",
              "8    8\n",
              "9    9\n",
              "dtype: int64"
            ]
          },
          "metadata": {},
          "execution_count": 70
        }
      ]
    },
    {
      "cell_type": "code",
      "source": [
        "int_series.size"
      ],
      "metadata": {
        "colab": {
          "base_uri": "https://localhost:8080/"
        },
        "id": "u5mCBGM9ICOB",
        "outputId": "1d6f66a1-77f4-4eec-ed7e-2fba3cb6643d"
      },
      "execution_count": 71,
      "outputs": [
        {
          "output_type": "execute_result",
          "data": {
            "text/plain": [
              "10"
            ]
          },
          "metadata": {},
          "execution_count": 71
        }
      ]
    },
    {
      "cell_type": "code",
      "source": [
        "len(int_series)\n",
        "# Python men() function also works just fine"
      ],
      "metadata": {
        "colab": {
          "base_uri": "https://localhost:8080/"
        },
        "id": "FN0DdKFLIEt8",
        "outputId": "d749f293-f4c3-4973-9df3-c9cdc8561f76"
      },
      "execution_count": 72,
      "outputs": [
        {
          "output_type": "execute_result",
          "data": {
            "text/plain": [
              "10"
            ]
          },
          "metadata": {},
          "execution_count": 72
        }
      ]
    },
    {
      "cell_type": "code",
      "source": [
        "# To sneak peek 1st 5 elements of series:\n",
        "int_series.head()"
      ],
      "metadata": {
        "colab": {
          "base_uri": "https://localhost:8080/"
        },
        "id": "DUIh0KRsIITs",
        "outputId": "aac92bc4-56a6-41c8-b6de-c7f44c18fbf7"
      },
      "execution_count": 73,
      "outputs": [
        {
          "output_type": "execute_result",
          "data": {
            "text/plain": [
              "0    0\n",
              "1    1\n",
              "2    2\n",
              "3    3\n",
              "4    4\n",
              "dtype: int64"
            ]
          },
          "metadata": {},
          "execution_count": 73
        }
      ]
    },
    {
      "cell_type": "code",
      "source": [
        "# To sneak peek last 5 elements of series:\n",
        "int_series.tail()"
      ],
      "metadata": {
        "colab": {
          "base_uri": "https://localhost:8080/"
        },
        "id": "Pu26XIw-KDKQ",
        "outputId": "b34e9389-a55b-4f92-f237-66e6f50405f0"
      },
      "execution_count": 74,
      "outputs": [
        {
          "output_type": "execute_result",
          "data": {
            "text/plain": [
              "5    5\n",
              "6    6\n",
              "7    7\n",
              "8    8\n",
              "9    9\n",
              "dtype: int64"
            ]
          },
          "metadata": {},
          "execution_count": 74
        }
      ]
    },
    {
      "cell_type": "code",
      "source": [
        "# We can also specify the number of elements we want to see using the n parameter of these methods:\n",
        "int_series.head(n=3) # or int_series.head(3)"
      ],
      "metadata": {
        "colab": {
          "base_uri": "https://localhost:8080/"
        },
        "id": "3x_ySjR4KHxI",
        "outputId": "f92a46ed-8b81-4587-cc29-850fc14a2cbc"
      },
      "execution_count": 75,
      "outputs": [
        {
          "output_type": "execute_result",
          "data": {
            "text/plain": [
              "0    0\n",
              "1    1\n",
              "2    2\n",
              "dtype: int64"
            ]
          },
          "metadata": {},
          "execution_count": 75
        }
      ]
    },
    {
      "cell_type": "code",
      "source": [
        "int_series.tail(n=4) # or int_series.tail(4)"
      ],
      "metadata": {
        "colab": {
          "base_uri": "https://localhost:8080/"
        },
        "id": "KDjJsncHL4CT",
        "outputId": "e5048297-acc5-48ac-d5cc-244b68c10cec"
      },
      "execution_count": 76,
      "outputs": [
        {
          "output_type": "execute_result",
          "data": {
            "text/plain": [
              "6    6\n",
              "7    7\n",
              "8    8\n",
              "9    9\n",
              "dtype: int64"
            ]
          },
          "metadata": {},
          "execution_count": 76
        }
      ]
    },
    {
      "cell_type": "code",
      "source": [
        "# Notebook environments already truncate teh output of we have large series:\n",
        "pd.Series(range(10000000))"
      ],
      "metadata": {
        "colab": {
          "base_uri": "https://localhost:8080/"
        },
        "id": "Zj534T2cL9JQ",
        "outputId": "47afc7b4-ad13-4179-f352-eec53b5bfb59"
      },
      "execution_count": 77,
      "outputs": [
        {
          "output_type": "execute_result",
          "data": {
            "text/plain": [
              "0                0\n",
              "1                1\n",
              "2                2\n",
              "3                3\n",
              "4                4\n",
              "            ...   \n",
              "9999995    9999995\n",
              "9999996    9999996\n",
              "9999997    9999997\n",
              "9999998    9999998\n",
              "9999999    9999999\n",
              "Length: 10000000, dtype: int64"
            ]
          },
          "metadata": {},
          "execution_count": 77
        }
      ]
    },
    {
      "cell_type": "code",
      "source": [
        "# can change display options to chnage above behaviour\n",
        "# i.e. force pands to return n rows of series \n",
        "pd.options.display.min_rows = 40"
      ],
      "metadata": {
        "id": "xqsrsGChOA54"
      },
      "execution_count": 78,
      "outputs": []
    },
    {
      "cell_type": "markdown",
      "source": [
        "# Extracting By Index Position"
      ],
      "metadata": {
        "id": "YvKuCkMOTlGU"
      }
    },
    {
      "cell_type": "code",
      "source": [
        "from string import ascii_lowercase"
      ],
      "metadata": {
        "id": "kN5I1IzkPkLW"
      },
      "execution_count": 79,
      "outputs": []
    },
    {
      "cell_type": "code",
      "source": [
        "ascii_lowercase"
      ],
      "metadata": {
        "colab": {
          "base_uri": "https://localhost:8080/",
          "height": 0
        },
        "id": "GejAEiOlVrG0",
        "outputId": "7a604820-9156-4e07-d126-3125c9e00b78"
      },
      "execution_count": 80,
      "outputs": [
        {
          "output_type": "execute_result",
          "data": {
            "text/plain": [
              "'abcdefghijklmnopqrstuvwxyz'"
            ],
            "application/vnd.google.colaboratory.intrinsic+json": {
              "type": "string"
            }
          },
          "metadata": {},
          "execution_count": 80
        }
      ]
    },
    {
      "cell_type": "code",
      "source": [
        "letters = list(ascii_lowercase)"
      ],
      "metadata": {
        "id": "6hwDQFJxVd8A"
      },
      "execution_count": 81,
      "outputs": []
    },
    {
      "cell_type": "code",
      "source": [
        "letters"
      ],
      "metadata": {
        "id": "R1Ga2RbeVp_I",
        "colab": {
          "base_uri": "https://localhost:8080/"
        },
        "outputId": "54bfd85f-354e-4f75-9cdf-ceb8e1db492f"
      },
      "execution_count": 82,
      "outputs": [
        {
          "output_type": "execute_result",
          "data": {
            "text/plain": [
              "['a',\n",
              " 'b',\n",
              " 'c',\n",
              " 'd',\n",
              " 'e',\n",
              " 'f',\n",
              " 'g',\n",
              " 'h',\n",
              " 'i',\n",
              " 'j',\n",
              " 'k',\n",
              " 'l',\n",
              " 'm',\n",
              " 'n',\n",
              " 'o',\n",
              " 'p',\n",
              " 'q',\n",
              " 'r',\n",
              " 's',\n",
              " 't',\n",
              " 'u',\n",
              " 'v',\n",
              " 'w',\n",
              " 'x',\n",
              " 'y',\n",
              " 'z']"
            ]
          },
          "metadata": {},
          "execution_count": 82
        }
      ]
    },
    {
      "cell_type": "code",
      "source": [
        "alphabet = pd.Series(letters)"
      ],
      "metadata": {
        "id": "KY0LPzksVvqt"
      },
      "execution_count": 83,
      "outputs": []
    },
    {
      "cell_type": "code",
      "source": [
        "alphabet.head(6)"
      ],
      "metadata": {
        "colab": {
          "base_uri": "https://localhost:8080/"
        },
        "id": "PrK8M90uV9qS",
        "outputId": "3ece56a6-c000-45c6-efa1-f0b20c634385"
      },
      "execution_count": 84,
      "outputs": [
        {
          "output_type": "execute_result",
          "data": {
            "text/plain": [
              "0    a\n",
              "1    b\n",
              "2    c\n",
              "3    d\n",
              "4    e\n",
              "5    f\n",
              "dtype: object"
            ]
          },
          "metadata": {},
          "execution_count": 84
        }
      ]
    },
    {
      "cell_type": "code",
      "source": [
        "# What is the 1st letter?\n",
        "# What is the 11th letter?\n",
        "# What are the first three letters?\n",
        "# What are the sixth through tenth letters?\n",
        "# What are the last six letters?"
      ],
      "metadata": {
        "id": "awwFtwEaWBLJ"
      },
      "execution_count": 85,
      "outputs": []
    },
    {
      "cell_type": "code",
      "source": [
        "# 1\n",
        "alphabet[0]"
      ],
      "metadata": {
        "colab": {
          "base_uri": "https://localhost:8080/",
          "height": 0
        },
        "id": "HFbw6v_kXyZp",
        "outputId": "6a87873a-f5ba-4442-8870-3de52963a709"
      },
      "execution_count": 86,
      "outputs": [
        {
          "output_type": "execute_result",
          "data": {
            "text/plain": [
              "'a'"
            ],
            "application/vnd.google.colaboratory.intrinsic+json": {
              "type": "string"
            }
          },
          "metadata": {},
          "execution_count": 86
        }
      ]
    },
    {
      "cell_type": "code",
      "source": [
        "# 2\n",
        "alphabet[10]"
      ],
      "metadata": {
        "colab": {
          "base_uri": "https://localhost:8080/",
          "height": 0
        },
        "id": "JGBoxpF-X17x",
        "outputId": "05f5d5b7-04f9-452a-f12e-4072511dd880"
      },
      "execution_count": 87,
      "outputs": [
        {
          "output_type": "execute_result",
          "data": {
            "text/plain": [
              "'k'"
            ],
            "application/vnd.google.colaboratory.intrinsic+json": {
              "type": "string"
            }
          },
          "metadata": {},
          "execution_count": 87
        }
      ]
    },
    {
      "cell_type": "code",
      "source": [
        "# 3\n",
        "alphabet[:3]"
      ],
      "metadata": {
        "colab": {
          "base_uri": "https://localhost:8080/"
        },
        "id": "_qw4ZzOnX3k5",
        "outputId": "4420708c-ad27-4ecd-e4e5-a3a376cc69e8"
      },
      "execution_count": 88,
      "outputs": [
        {
          "output_type": "execute_result",
          "data": {
            "text/plain": [
              "0    a\n",
              "1    b\n",
              "2    c\n",
              "dtype: object"
            ]
          },
          "metadata": {},
          "execution_count": 88
        }
      ]
    },
    {
      "cell_type": "code",
      "source": [
        "# 4\n",
        "alphabet[5:10]"
      ],
      "metadata": {
        "colab": {
          "base_uri": "https://localhost:8080/"
        },
        "id": "aww7aSOuX8Bx",
        "outputId": "0901f92c-4eb0-4754-f4a0-f9b8ad244677"
      },
      "execution_count": 89,
      "outputs": [
        {
          "output_type": "execute_result",
          "data": {
            "text/plain": [
              "5    f\n",
              "6    g\n",
              "7    h\n",
              "8    i\n",
              "9    j\n",
              "dtype: object"
            ]
          },
          "metadata": {},
          "execution_count": 89
        }
      ]
    },
    {
      "cell_type": "code",
      "source": [
        "# 5\n",
        "alphabet[-6:]"
      ],
      "metadata": {
        "colab": {
          "base_uri": "https://localhost:8080/"
        },
        "id": "Lqw6L_d1ZoLN",
        "outputId": "2f3dc9b2-5338-4080-afde-cb10e54051f3"
      },
      "execution_count": 90,
      "outputs": [
        {
          "output_type": "execute_result",
          "data": {
            "text/plain": [
              "20    u\n",
              "21    v\n",
              "22    w\n",
              "23    x\n",
              "24    y\n",
              "25    z\n",
              "dtype: object"
            ]
          },
          "metadata": {},
          "execution_count": 90
        }
      ]
    },
    {
      "cell_type": "markdown",
      "source": [
        "# Accessing Elements by Label"
      ],
      "metadata": {
        "id": "Z2Qg9otraFGD"
      }
    },
    {
      "cell_type": "code",
      "source": [
        "from string import ascii_uppercase"
      ],
      "metadata": {
        "id": "B2rCSrZLZ5r8"
      },
      "execution_count": 91,
      "outputs": []
    },
    {
      "cell_type": "code",
      "source": [
        "ascii_uppercase"
      ],
      "metadata": {
        "colab": {
          "base_uri": "https://localhost:8080/",
          "height": 0
        },
        "id": "AoQl2XDnbHld",
        "outputId": "11ec84e9-fbc8-4d2e-8ff1-2ba8df9a8eb6"
      },
      "execution_count": 92,
      "outputs": [
        {
          "output_type": "execute_result",
          "data": {
            "text/plain": [
              "'ABCDEFGHIJKLMNOPQRSTUVWXYZ'"
            ],
            "application/vnd.google.colaboratory.intrinsic+json": {
              "type": "string"
            }
          },
          "metadata": {},
          "execution_count": 92
        }
      ]
    },
    {
      "cell_type": "code",
      "source": [
        "labeled_alphabet = pd.Series(data = list(ascii_lowercase), index = list(map(lambda i: 'label_'+i, list(ascii_uppercase))))"
      ],
      "metadata": {
        "id": "0xJG6ItNbKEx"
      },
      "execution_count": 93,
      "outputs": []
    },
    {
      "cell_type": "code",
      "source": [
        "labeled_alphabet.head(3)"
      ],
      "metadata": {
        "colab": {
          "base_uri": "https://localhost:8080/"
        },
        "id": "4YE333v_b5UV",
        "outputId": "b35ff0c6-fb25-4025-bfcd-0627533c38f5"
      },
      "execution_count": 94,
      "outputs": [
        {
          "output_type": "execute_result",
          "data": {
            "text/plain": [
              "label_A    a\n",
              "label_B    b\n",
              "label_C    c\n",
              "dtype: object"
            ]
          },
          "metadata": {},
          "execution_count": 94
        }
      ]
    },
    {
      "cell_type": "code",
      "source": [
        "# What is the 1st letter?\n",
        "# What is the 11th letter?\n",
        "# What are the first three letters?\n",
        "# What are the sixth through tenth letters?\n",
        "# What are the last six letters?"
      ],
      "metadata": {
        "id": "L150wnk7cAEV"
      },
      "execution_count": 95,
      "outputs": []
    },
    {
      "cell_type": "code",
      "source": [
        "# 1\n",
        "# labeled_alphabet[0] #the first approach by index position\n",
        "labeled_alphabet['label_A']"
      ],
      "metadata": {
        "colab": {
          "base_uri": "https://localhost:8080/",
          "height": 0
        },
        "id": "PWwiG3TEdCA7",
        "outputId": "a13a8613-0515-4514-d2bc-e59174470cbe"
      },
      "execution_count": 96,
      "outputs": [
        {
          "output_type": "execute_result",
          "data": {
            "text/plain": [
              "'a'"
            ],
            "application/vnd.google.colaboratory.intrinsic+json": {
              "type": "string"
            }
          },
          "metadata": {},
          "execution_count": 96
        }
      ]
    },
    {
      "cell_type": "code",
      "source": [
        "# 2\n",
        "# labeled_alphabet[10] #the first approach by index position\n",
        "labeled_alphabet['label_K']"
      ],
      "metadata": {
        "colab": {
          "base_uri": "https://localhost:8080/",
          "height": 0
        },
        "id": "8jHMbSMBdwtE",
        "outputId": "451af592-5734-44b9-ea35-98cc2055f06e"
      },
      "execution_count": 97,
      "outputs": [
        {
          "output_type": "execute_result",
          "data": {
            "text/plain": [
              "'k'"
            ],
            "application/vnd.google.colaboratory.intrinsic+json": {
              "type": "string"
            }
          },
          "metadata": {},
          "execution_count": 97
        }
      ]
    },
    {
      "cell_type": "code",
      "source": [
        "# 3\n",
        "# labeled_alphabet[:3] #the first approach by index position\n",
        "labeled_alphabet[:'label_C']\n",
        "# Notice how stop is inclusive in labels and exclusive in position"
      ],
      "metadata": {
        "colab": {
          "base_uri": "https://localhost:8080/"
        },
        "id": "TR0YvFTCd2kB",
        "outputId": "face07be-b626-4bd2-a6f3-e04af281e240"
      },
      "execution_count": 98,
      "outputs": [
        {
          "output_type": "execute_result",
          "data": {
            "text/plain": [
              "label_A    a\n",
              "label_B    b\n",
              "label_C    c\n",
              "dtype: object"
            ]
          },
          "metadata": {},
          "execution_count": 98
        }
      ]
    },
    {
      "cell_type": "code",
      "source": [
        "# 4\n",
        "# labeled_alphabet[5:10] #the first approach by index position\n",
        "labeled_alphabet['label_F':'label_J']"
      ],
      "metadata": {
        "colab": {
          "base_uri": "https://localhost:8080/"
        },
        "id": "7RfaeOMyeAEd",
        "outputId": "3e609ded-3791-4d87-c63e-2f435a5280e1"
      },
      "execution_count": 99,
      "outputs": [
        {
          "output_type": "execute_result",
          "data": {
            "text/plain": [
              "label_F    f\n",
              "label_G    g\n",
              "label_H    h\n",
              "label_I    i\n",
              "label_J    j\n",
              "dtype: object"
            ]
          },
          "metadata": {},
          "execution_count": 99
        }
      ]
    },
    {
      "cell_type": "code",
      "source": [
        "# 5\n",
        "# labeled_alphabet[-6:] #the first approach by index position\n",
        "labeled_alphabet['label_U':]"
      ],
      "metadata": {
        "colab": {
          "base_uri": "https://localhost:8080/"
        },
        "id": "Od9zneV0fPM5",
        "outputId": "11cb4e20-9536-4a1f-afc8-8de25fb9167c"
      },
      "execution_count": 100,
      "outputs": [
        {
          "output_type": "execute_result",
          "data": {
            "text/plain": [
              "label_U    u\n",
              "label_V    v\n",
              "label_W    w\n",
              "label_X    x\n",
              "label_Y    y\n",
              "label_Z    z\n",
              "dtype: object"
            ]
          },
          "metadata": {},
          "execution_count": 100
        }
      ]
    },
    {
      "cell_type": "markdown",
      "source": [
        "# The add_prefix() and The add_suffix() Methods"
      ],
      "metadata": {
        "id": "WFWlnHMAg1gz"
      }
    },
    {
      "cell_type": "code",
      "source": [
        "alphabet.head(3)"
      ],
      "metadata": {
        "colab": {
          "base_uri": "https://localhost:8080/"
        },
        "id": "3Etn1VYsg9sR",
        "outputId": "8bc9315a-30c9-44e8-e66b-8bbebedfc49c"
      },
      "execution_count": 101,
      "outputs": [
        {
          "output_type": "execute_result",
          "data": {
            "text/plain": [
              "0    a\n",
              "1    b\n",
              "2    c\n",
              "dtype: object"
            ]
          },
          "metadata": {},
          "execution_count": 101
        }
      ]
    },
    {
      "cell_type": "code",
      "source": [
        "alphabet.add_prefix('label_').head(3)"
      ],
      "metadata": {
        "colab": {
          "base_uri": "https://localhost:8080/"
        },
        "id": "Zslu7LecjPkr",
        "outputId": "acf21bd3-411c-4ef4-8273-45a4f8a5f423"
      },
      "execution_count": 102,
      "outputs": [
        {
          "output_type": "execute_result",
          "data": {
            "text/plain": [
              "label_0    a\n",
              "label_1    b\n",
              "label_2    c\n",
              "dtype: object"
            ]
          },
          "metadata": {},
          "execution_count": 102
        }
      ]
    },
    {
      "cell_type": "code",
      "source": [
        "alphabet.add_suffix('_end_cool').head(3)"
      ],
      "metadata": {
        "colab": {
          "base_uri": "https://localhost:8080/"
        },
        "id": "XN7-v5nNjVS8",
        "outputId": "b6d4a3fd-ecf5-4d8e-a18b-eb0724c3599b"
      },
      "execution_count": 103,
      "outputs": [
        {
          "output_type": "execute_result",
          "data": {
            "text/plain": [
              "0_end_cool    a\n",
              "1_end_cool    b\n",
              "2_end_cool    c\n",
              "dtype: object"
            ]
          },
          "metadata": {},
          "execution_count": 103
        }
      ]
    },
    {
      "cell_type": "code",
      "source": [
        "# Redoing below logic using add_prefix() method\n",
        "# labeled_alphabet = pd.Series(data = list(ascii_lowercase), index = list(map(lambda i: 'label_'+i, list(ascii_uppercase))))\n",
        "prefix_alphabet = pd.Series(data = list(ascii_lowercase), index = list(ascii_uppercase)).add_prefix('label_')"
      ],
      "metadata": {
        "id": "dS09462rjesZ"
      },
      "execution_count": 104,
      "outputs": []
    },
    {
      "cell_type": "code",
      "source": [
        "prefix_alphabet.head(3)"
      ],
      "metadata": {
        "colab": {
          "base_uri": "https://localhost:8080/"
        },
        "id": "LYPBPJzbj1A3",
        "outputId": "7b9ea845-3e08-42dd-e3e4-eaffd3a448e0"
      },
      "execution_count": 105,
      "outputs": [
        {
          "output_type": "execute_result",
          "data": {
            "text/plain": [
              "label_A    a\n",
              "label_B    b\n",
              "label_C    c\n",
              "dtype: object"
            ]
          },
          "metadata": {},
          "execution_count": 105
        }
      ]
    },
    {
      "cell_type": "code",
      "source": [
        "alphabet.head(3)\n",
        "# the original alphabet series is not modified by these methods. It remains intact \n",
        "# we just got a copy of series where the index was modified."
      ],
      "metadata": {
        "colab": {
          "base_uri": "https://localhost:8080/"
        },
        "id": "uAHvit35kF4l",
        "outputId": "95de157a-a065-430b-bc36-f25e10db9deb"
      },
      "execution_count": 106,
      "outputs": [
        {
          "output_type": "execute_result",
          "data": {
            "text/plain": [
              "0    a\n",
              "1    b\n",
              "2    c\n",
              "dtype: object"
            ]
          },
          "metadata": {},
          "execution_count": 106
        }
      ]
    },
    {
      "cell_type": "code",
      "source": [
        "# to actually modify teh series, assign it to the actual variable name:\n",
        "alphabet = alphabet.add_suffix('_end_cool').head(3)"
      ],
      "metadata": {
        "id": "FAO7SYzNl0cL"
      },
      "execution_count": 107,
      "outputs": []
    },
    {
      "cell_type": "code",
      "source": [
        "alphabet.head(3)"
      ],
      "metadata": {
        "colab": {
          "base_uri": "https://localhost:8080/"
        },
        "id": "cNOZq9vIm-YK",
        "outputId": "d4dd75ae-7309-4537-841e-1914e08d9e39"
      },
      "execution_count": 108,
      "outputs": [
        {
          "output_type": "execute_result",
          "data": {
            "text/plain": [
              "0_end_cool    a\n",
              "1_end_cool    b\n",
              "2_end_cool    c\n",
              "dtype: object"
            ]
          },
          "metadata": {},
          "execution_count": 108
        }
      ]
    },
    {
      "cell_type": "markdown",
      "source": [
        "# Using Dot Notation"
      ],
      "metadata": {
        "id": "jko8HzOpq69B"
      }
    },
    {
      "cell_type": "code",
      "source": [
        "labeled_alphabet.label_V"
      ],
      "metadata": {
        "colab": {
          "base_uri": "https://localhost:8080/",
          "height": 0
        },
        "id": "zkXH8VTJq-tD",
        "outputId": "c92173db-e272-4fe4-c94e-5064db2a97b5"
      },
      "execution_count": 109,
      "outputs": [
        {
          "output_type": "execute_result",
          "data": {
            "text/plain": [
              "'v'"
            ],
            "application/vnd.google.colaboratory.intrinsic+json": {
              "type": "string"
            }
          },
          "metadata": {},
          "execution_count": 109
        }
      ]
    },
    {
      "cell_type": "code",
      "source": [
        "labeled_alphabet['label_V']"
      ],
      "metadata": {
        "colab": {
          "base_uri": "https://localhost:8080/",
          "height": 0
        },
        "id": "MAKhuHkkv96k",
        "outputId": "9659ac76-9994-4fbc-a934-021ad1b63ee4"
      },
      "execution_count": 110,
      "outputs": [
        {
          "output_type": "execute_result",
          "data": {
            "text/plain": [
              "'v'"
            ],
            "application/vnd.google.colaboratory.intrinsic+json": {
              "type": "string"
            }
          },
          "metadata": {},
          "execution_count": 110
        }
      ]
    },
    {
      "cell_type": "code",
      "source": [
        "labeled_alphabet['label_V':'label_Y']"
      ],
      "metadata": {
        "colab": {
          "base_uri": "https://localhost:8080/"
        },
        "id": "ISFl4C0OwB4c",
        "outputId": "b8230ae4-49d3-4b6d-9dbc-391d83768623"
      },
      "execution_count": 111,
      "outputs": [
        {
          "output_type": "execute_result",
          "data": {
            "text/plain": [
              "label_V    v\n",
              "label_W    w\n",
              "label_X    x\n",
              "label_Y    y\n",
              "dtype: object"
            ]
          },
          "metadata": {},
          "execution_count": 111
        }
      ]
    },
    {
      "cell_type": "code",
      "source": [
        "# labeled_alphabet.label_V:label_Y # We will get NameError: name 'label_Y' is not defined"
      ],
      "metadata": {
        "id": "vvE53rqBwG6H"
      },
      "execution_count": 112,
      "outputs": []
    },
    {
      "cell_type": "markdown",
      "source": [
        "# Boolean Masks and the .loc Indexer"
      ],
      "metadata": {
        "id": "LkWvpWnowlkM"
      }
    },
    {
      "cell_type": "code",
      "source": [
        "labeled_alphabet['label_F':'label_J']"
      ],
      "metadata": {
        "id": "cCElS1DEwqzQ",
        "colab": {
          "base_uri": "https://localhost:8080/"
        },
        "outputId": "d094c125-bb55-4928-ce3b-965675003636"
      },
      "execution_count": 113,
      "outputs": [
        {
          "output_type": "execute_result",
          "data": {
            "text/plain": [
              "label_F    f\n",
              "label_G    g\n",
              "label_H    h\n",
              "label_I    i\n",
              "label_J    j\n",
              "dtype: object"
            ]
          },
          "metadata": {},
          "execution_count": 113
        }
      ]
    },
    {
      "cell_type": "code",
      "source": [
        "labeled_alphabet.loc['label_F':'label_J']"
      ],
      "metadata": {
        "colab": {
          "base_uri": "https://localhost:8080/"
        },
        "id": "_V7nLGqFLlgL",
        "outputId": "bfae6246-5c09-478c-a195-bd1ae55f315e"
      },
      "execution_count": 114,
      "outputs": [
        {
          "output_type": "execute_result",
          "data": {
            "text/plain": [
              "label_F    f\n",
              "label_G    g\n",
              "label_H    h\n",
              "label_I    i\n",
              "label_J    j\n",
              "dtype: object"
            ]
          },
          "metadata": {},
          "execution_count": 114
        }
      ]
    },
    {
      "cell_type": "code",
      "source": [
        "books_series"
      ],
      "metadata": {
        "colab": {
          "base_uri": "https://localhost:8080/"
        },
        "id": "iSbD69gaLqkF",
        "outputId": "664d55ef-1da1-4027-a1b0-f2dbfc762360"
      },
      "execution_count": 115,
      "outputs": [
        {
          "output_type": "execute_result",
          "data": {
            "text/plain": [
              "My Books\n",
              "0      Thursday Murder Club\n",
              "1             Almost Single\n",
              "2    The Fault in our stars\n",
              "Name: my books read in 2022, dtype: object"
            ]
          },
          "metadata": {},
          "execution_count": 115
        }
      ]
    },
    {
      "cell_type": "code",
      "source": [
        "books_series.loc[[True, True, True]]"
      ],
      "metadata": {
        "colab": {
          "base_uri": "https://localhost:8080/"
        },
        "id": "cSbwy9cIL1pL",
        "outputId": "59adb095-145e-4973-c62e-ba367e1cccf0"
      },
      "execution_count": 116,
      "outputs": [
        {
          "output_type": "execute_result",
          "data": {
            "text/plain": [
              "My Books\n",
              "0      Thursday Murder Club\n",
              "1             Almost Single\n",
              "2    The Fault in our stars\n",
              "Name: my books read in 2022, dtype: object"
            ]
          },
          "metadata": {},
          "execution_count": 116
        }
      ]
    },
    {
      "cell_type": "code",
      "source": [
        "books_series.loc[[True, False, True]]"
      ],
      "metadata": {
        "colab": {
          "base_uri": "https://localhost:8080/"
        },
        "id": "HLm9cQ4DPk96",
        "outputId": "e0dfb460-9cdd-49c0-f54d-e041117eac55"
      },
      "execution_count": 117,
      "outputs": [
        {
          "output_type": "execute_result",
          "data": {
            "text/plain": [
              "My Books\n",
              "0      Thursday Murder Club\n",
              "2    The Fault in our stars\n",
              "Name: my books read in 2022, dtype: object"
            ]
          },
          "metadata": {},
          "execution_count": 117
        }
      ]
    },
    {
      "cell_type": "code",
      "source": [
        "# books_series.loc[[True, False]]\n",
        "# length of boolean mass muct match the length of the series"
      ],
      "metadata": {
        "id": "BbyitDkSPpBH"
      },
      "execution_count": 118,
      "outputs": []
    },
    {
      "cell_type": "code",
      "source": [
        "labeled_alphabet.loc[[True for i in range(labeled_alphabet.size)]]"
      ],
      "metadata": {
        "colab": {
          "base_uri": "https://localhost:8080/"
        },
        "id": "-3x7XzEsQ8PJ",
        "outputId": "99176fec-2635-4c33-91f2-08c55a0d693f"
      },
      "execution_count": 119,
      "outputs": [
        {
          "output_type": "execute_result",
          "data": {
            "text/plain": [
              "label_A    a\n",
              "label_B    b\n",
              "label_C    c\n",
              "label_D    d\n",
              "label_E    e\n",
              "label_F    f\n",
              "label_G    g\n",
              "label_H    h\n",
              "label_I    i\n",
              "label_J    j\n",
              "label_K    k\n",
              "label_L    l\n",
              "label_M    m\n",
              "label_N    n\n",
              "label_O    o\n",
              "label_P    p\n",
              "label_Q    q\n",
              "label_R    r\n",
              "label_S    s\n",
              "label_T    t\n",
              "label_U    u\n",
              "label_V    v\n",
              "label_W    w\n",
              "label_X    x\n",
              "label_Y    y\n",
              "label_Z    z\n",
              "dtype: object"
            ]
          },
          "metadata": {},
          "execution_count": 119
        }
      ]
    },
    {
      "cell_type": "code",
      "source": [
        "labeled_alphabet[[True for i in range(labeled_alphabet.size)]]"
      ],
      "metadata": {
        "colab": {
          "base_uri": "https://localhost:8080/"
        },
        "id": "K0euxJUWRBvz",
        "outputId": "ed701ec8-2744-4525-dd86-de8639b86666"
      },
      "execution_count": 120,
      "outputs": [
        {
          "output_type": "execute_result",
          "data": {
            "text/plain": [
              "label_A    a\n",
              "label_B    b\n",
              "label_C    c\n",
              "label_D    d\n",
              "label_E    e\n",
              "label_F    f\n",
              "label_G    g\n",
              "label_H    h\n",
              "label_I    i\n",
              "label_J    j\n",
              "label_K    k\n",
              "label_L    l\n",
              "label_M    m\n",
              "label_N    n\n",
              "label_O    o\n",
              "label_P    p\n",
              "label_Q    q\n",
              "label_R    r\n",
              "label_S    s\n",
              "label_T    t\n",
              "label_U    u\n",
              "label_V    v\n",
              "label_W    w\n",
              "label_X    x\n",
              "label_Y    y\n",
              "label_Z    z\n",
              "dtype: object"
            ]
          },
          "metadata": {},
          "execution_count": 120
        }
      ]
    },
    {
      "cell_type": "code",
      "source": [
        "# Extract every odd items:\n",
        "labeled_alphabet.loc[[True if i%2 == 0 else False for i in range(labeled_alphabet.size)]]"
      ],
      "metadata": {
        "colab": {
          "base_uri": "https://localhost:8080/"
        },
        "id": "Y1wE_qn0RXTo",
        "outputId": "15d1508e-3b5d-47ab-8198-9806bc2dd9fc"
      },
      "execution_count": 121,
      "outputs": [
        {
          "output_type": "execute_result",
          "data": {
            "text/plain": [
              "label_A    a\n",
              "label_C    c\n",
              "label_E    e\n",
              "label_G    g\n",
              "label_I    i\n",
              "label_K    k\n",
              "label_M    m\n",
              "label_O    o\n",
              "label_Q    q\n",
              "label_S    s\n",
              "label_U    u\n",
              "label_W    w\n",
              "label_Y    y\n",
              "dtype: object"
            ]
          },
          "metadata": {},
          "execution_count": 121
        }
      ]
    },
    {
      "cell_type": "markdown",
      "source": [
        "# Extracting by Position with .iloc"
      ],
      "metadata": {
        "id": "dFwf2YdiTkMe"
      }
    },
    {
      "cell_type": "code",
      "source": [
        "labeled_alphabet.iloc[0]"
      ],
      "metadata": {
        "colab": {
          "base_uri": "https://localhost:8080/",
          "height": 0
        },
        "id": "O1zwBW_CTnjK",
        "outputId": "fd577799-08eb-4e4d-b7c4-1eaff5c06f98"
      },
      "execution_count": 122,
      "outputs": [
        {
          "output_type": "execute_result",
          "data": {
            "text/plain": [
              "'a'"
            ],
            "application/vnd.google.colaboratory.intrinsic+json": {
              "type": "string"
            }
          },
          "metadata": {},
          "execution_count": 122
        }
      ]
    },
    {
      "cell_type": "code",
      "source": [
        "labeled_alphabet.iloc[1:3]"
      ],
      "metadata": {
        "colab": {
          "base_uri": "https://localhost:8080/"
        },
        "id": "G_tXR4LlYwa0",
        "outputId": "3278df3d-d07c-4007-9cf8-b11a798ca58c"
      },
      "execution_count": 123,
      "outputs": [
        {
          "output_type": "execute_result",
          "data": {
            "text/plain": [
              "label_B    b\n",
              "label_C    c\n",
              "dtype: object"
            ]
          },
          "metadata": {},
          "execution_count": 123
        }
      ]
    },
    {
      "cell_type": "code",
      "source": [
        "labeled_alphabet[1:3]\n",
        "# similar to index slicing if iloc is not used."
      ],
      "metadata": {
        "colab": {
          "base_uri": "https://localhost:8080/"
        },
        "id": "pahNtfcKZaot",
        "outputId": "e63ed2d0-d029-4443-acaa-c5f5f058a309"
      },
      "execution_count": 124,
      "outputs": [
        {
          "output_type": "execute_result",
          "data": {
            "text/plain": [
              "label_B    b\n",
              "label_C    c\n",
              "dtype: object"
            ]
          },
          "metadata": {},
          "execution_count": 124
        }
      ]
    },
    {
      "cell_type": "code",
      "source": [
        "labeled_alphabet.iloc[[1,4,6]]"
      ],
      "metadata": {
        "colab": {
          "base_uri": "https://localhost:8080/"
        },
        "id": "6AZ0U9K-ZVGw",
        "outputId": "0a660211-9000-48e3-a8ea-c702d9427057"
      },
      "execution_count": 125,
      "outputs": [
        {
          "output_type": "execute_result",
          "data": {
            "text/plain": [
              "label_B    b\n",
              "label_E    e\n",
              "label_G    g\n",
              "dtype: object"
            ]
          },
          "metadata": {},
          "execution_count": 125
        }
      ]
    },
    {
      "cell_type": "markdown",
      "source": [
        "# Bonus: Using Callables with .loc And .iloc"
      ],
      "metadata": {
        "id": "w2Z5OK0sasHl"
      }
    },
    {
      "cell_type": "code",
      "source": [
        "labeled_alphabet.loc['label_V']"
      ],
      "metadata": {
        "id": "5WTwltfsaykJ",
        "colab": {
          "base_uri": "https://localhost:8080/",
          "height": 35
        },
        "outputId": "c7cf900a-6bb9-49b1-f882-7f6e199e3b4f"
      },
      "execution_count": 126,
      "outputs": [
        {
          "output_type": "execute_result",
          "data": {
            "text/plain": [
              "'v'"
            ],
            "application/vnd.google.colaboratory.intrinsic+json": {
              "type": "string"
            }
          },
          "metadata": {},
          "execution_count": 126
        }
      ]
    },
    {
      "cell_type": "code",
      "source": [
        "labeled_alphabet.loc[lambda x: 'label_V']"
      ],
      "metadata": {
        "colab": {
          "base_uri": "https://localhost:8080/",
          "height": 35
        },
        "id": "_BMmSgIkVgMd",
        "outputId": "2a6dc2cf-7cfa-4970-a4b6-01e220649d64"
      },
      "execution_count": 127,
      "outputs": [
        {
          "output_type": "execute_result",
          "data": {
            "text/plain": [
              "'v'"
            ],
            "application/vnd.google.colaboratory.intrinsic+json": {
              "type": "string"
            }
          },
          "metadata": {},
          "execution_count": 127
        }
      ]
    },
    {
      "cell_type": "code",
      "source": [
        "labeled_alphabet.loc[lambda x: ['label_V','label_A']]"
      ],
      "metadata": {
        "colab": {
          "base_uri": "https://localhost:8080/"
        },
        "id": "gsXMhk_sVmc7",
        "outputId": "cad1bfd7-7e50-41fa-b002-b19271793684"
      },
      "execution_count": 128,
      "outputs": [
        {
          "output_type": "execute_result",
          "data": {
            "text/plain": [
              "label_V    v\n",
              "label_A    a\n",
              "dtype: object"
            ]
          },
          "metadata": {},
          "execution_count": 128
        }
      ]
    },
    {
      "cell_type": "code",
      "source": [
        "# labeled_alphabet.loc[lambda x: [True,True]] # Throws: IndexError: Boolean index has wrong length: 2 instead of 26\n",
        "labeled_alphabet.loc[lambda x: [True for i in range(x.size)]]"
      ],
      "metadata": {
        "colab": {
          "base_uri": "https://localhost:8080/"
        },
        "id": "ND0U6MphVuv9",
        "outputId": "1e57546e-10ae-46bb-c6fb-13e935548274"
      },
      "execution_count": 136,
      "outputs": [
        {
          "output_type": "execute_result",
          "data": {
            "text/plain": [
              "label_A    a\n",
              "label_B    b\n",
              "label_C    c\n",
              "label_D    d\n",
              "label_E    e\n",
              "label_F    f\n",
              "label_G    g\n",
              "label_H    h\n",
              "label_I    i\n",
              "label_J    j\n",
              "label_K    k\n",
              "label_L    l\n",
              "label_M    m\n",
              "label_N    n\n",
              "label_O    o\n",
              "label_P    p\n",
              "label_Q    q\n",
              "label_R    r\n",
              "label_S    s\n",
              "label_T    t\n",
              "label_U    u\n",
              "label_V    v\n",
              "label_W    w\n",
              "label_X    x\n",
              "label_Y    y\n",
              "label_Z    z\n",
              "dtype: object"
            ]
          },
          "metadata": {},
          "execution_count": 136
        }
      ]
    },
    {
      "cell_type": "code",
      "source": [
        "def every_fifth(x):\n",
        "  return [True if i%5==0 else False for i in range(x.size)]"
      ],
      "metadata": {
        "id": "7tfRjHjgWsOc"
      },
      "execution_count": 137,
      "outputs": []
    },
    {
      "cell_type": "code",
      "source": [
        "labeled_alphabet.iloc[every_fifth]"
      ],
      "metadata": {
        "colab": {
          "base_uri": "https://localhost:8080/"
        },
        "id": "q-Dyf1enZXms",
        "outputId": "d435420b-aa14-4b17-cdec-f63f37926447"
      },
      "execution_count": 138,
      "outputs": [
        {
          "output_type": "execute_result",
          "data": {
            "text/plain": [
              "label_A    a\n",
              "label_F    f\n",
              "label_K    k\n",
              "label_P    p\n",
              "label_U    u\n",
              "label_Z    z\n",
              "dtype: object"
            ]
          },
          "metadata": {},
          "execution_count": 138
        }
      ]
    },
    {
      "cell_type": "code",
      "source": [
        "def every_fifth_refined(x):\n",
        "  return [True if (i+1)%5==0 else False for i in range(x.size)]"
      ],
      "metadata": {
        "id": "FBa68C8lZfrP"
      },
      "execution_count": 139,
      "outputs": []
    },
    {
      "cell_type": "code",
      "source": [
        "labeled_alphabet.iloc[every_fifth_refined]"
      ],
      "metadata": {
        "colab": {
          "base_uri": "https://localhost:8080/"
        },
        "id": "4Pm_t0JsbJgm",
        "outputId": "ce1f72a0-f9e9-4cca-e2c0-4e2d8a90c997"
      },
      "execution_count": 140,
      "outputs": [
        {
          "output_type": "execute_result",
          "data": {
            "text/plain": [
              "label_E    e\n",
              "label_J    j\n",
              "label_O    o\n",
              "label_T    t\n",
              "label_Y    y\n",
              "dtype: object"
            ]
          },
          "metadata": {},
          "execution_count": 140
        }
      ]
    },
    {
      "cell_type": "markdown",
      "source": [
        "# Selecting with .get()"
      ],
      "metadata": {
        "id": "iG_jmZMGbN-L"
      }
    },
    {
      "cell_type": "code",
      "source": [
        "labeled_alphabet.get('label_I')"
      ],
      "metadata": {
        "colab": {
          "base_uri": "https://localhost:8080/",
          "height": 35
        },
        "id": "kCr3Ob7DbTwf",
        "outputId": "5e9ff0cf-df09-41da-e726-c42f78b8e723"
      },
      "execution_count": 141,
      "outputs": [
        {
          "output_type": "execute_result",
          "data": {
            "text/plain": [
              "'i'"
            ],
            "application/vnd.google.colaboratory.intrinsic+json": {
              "type": "string"
            }
          },
          "metadata": {},
          "execution_count": 141
        }
      ]
    },
    {
      "cell_type": "code",
      "source": [
        "labeled_alphabet.loc['label_I']"
      ],
      "metadata": {
        "colab": {
          "base_uri": "https://localhost:8080/",
          "height": 35
        },
        "id": "KEOV5AsKdAI1",
        "outputId": "3429ed26-d085-42fd-b085-498eaa02cb9f"
      },
      "execution_count": 142,
      "outputs": [
        {
          "output_type": "execute_result",
          "data": {
            "text/plain": [
              "'i'"
            ],
            "application/vnd.google.colaboratory.intrinsic+json": {
              "type": "string"
            }
          },
          "metadata": {},
          "execution_count": 142
        }
      ]
    },
    {
      "cell_type": "code",
      "source": [
        "labeled_alphabet['label_I']"
      ],
      "metadata": {
        "colab": {
          "base_uri": "https://localhost:8080/",
          "height": 35
        },
        "id": "oWGeSN_qdC9r",
        "outputId": "02c450fb-63d3-4990-ac70-40ca9a1f8d7b"
      },
      "execution_count": 143,
      "outputs": [
        {
          "output_type": "execute_result",
          "data": {
            "text/plain": [
              "'i'"
            ],
            "application/vnd.google.colaboratory.intrinsic+json": {
              "type": "string"
            }
          },
          "metadata": {},
          "execution_count": 143
        }
      ]
    },
    {
      "cell_type": "code",
      "source": [
        "labeled_alphabet.get('label_nonexisting')"
      ],
      "metadata": {
        "id": "LJPdlBEOdGGv"
      },
      "execution_count": 146,
      "outputs": []
    },
    {
      "cell_type": "code",
      "source": [
        "labeled_alphabet.get('label_nonexisting') == None"
      ],
      "metadata": {
        "colab": {
          "base_uri": "https://localhost:8080/"
        },
        "id": "KJmW8oeae-bw",
        "outputId": "6b7812e4-3179-4055-a19c-16499cae0372"
      },
      "execution_count": 147,
      "outputs": [
        {
          "output_type": "execute_result",
          "data": {
            "text/plain": [
              "True"
            ]
          },
          "metadata": {},
          "execution_count": 147
        }
      ]
    },
    {
      "cell_type": "code",
      "source": [
        "labeled_alphabet.get('label_nonexisting', default = None)"
      ],
      "metadata": {
        "id": "PA-fHjxTfITN"
      },
      "execution_count": 148,
      "outputs": []
    },
    {
      "cell_type": "code",
      "source": [
        "labeled_alphabet.get('label_nonexisting', default = 'Could not find anything with that label')"
      ],
      "metadata": {
        "colab": {
          "base_uri": "https://localhost:8080/",
          "height": 35
        },
        "id": "cbjy7MYRfK69",
        "outputId": "92f36273-3407-40d3-9a3b-f3b53e51d47b"
      },
      "execution_count": 149,
      "outputs": [
        {
          "output_type": "execute_result",
          "data": {
            "text/plain": [
              "'Could not find anything with that label'"
            ],
            "application/vnd.google.colaboratory.intrinsic+json": {
              "type": "string"
            }
          },
          "metadata": {},
          "execution_count": 149
        }
      ]
    },
    {
      "cell_type": "code",
      "source": [
        "labeled_alphabet.get('label_nonexisting', default = 0)"
      ],
      "metadata": {
        "colab": {
          "base_uri": "https://localhost:8080/"
        },
        "id": "K13IDDIkfQKs",
        "outputId": "b4d412fe-ecf5-4c3b-fa8a-b6a1fcf1c6a0"
      },
      "execution_count": 150,
      "outputs": [
        {
          "output_type": "execute_result",
          "data": {
            "text/plain": [
              "0"
            ]
          },
          "metadata": {},
          "execution_count": 150
        }
      ]
    },
    {
      "cell_type": "code",
      "source": [
        "labeled_alphabet.get('label_nonexisting', default = {19:'20'})"
      ],
      "metadata": {
        "colab": {
          "base_uri": "https://localhost:8080/"
        },
        "id": "ZlelF4Rhgmks",
        "outputId": "85e205f1-e2e0-457e-cba5-18c817c8c282"
      },
      "execution_count": 152,
      "outputs": [
        {
          "output_type": "execute_result",
          "data": {
            "text/plain": [
              "{19: '20'}"
            ]
          },
          "metadata": {},
          "execution_count": 152
        }
      ]
    },
    {
      "cell_type": "code",
      "source": [
        "labeled_alphabet.get(8)"
      ],
      "metadata": {
        "colab": {
          "base_uri": "https://localhost:8080/",
          "height": 35
        },
        "id": "BOoJmheagsA9",
        "outputId": "f5c09fb6-7475-42ae-f04e-3f3d671c813d"
      },
      "execution_count": 153,
      "outputs": [
        {
          "output_type": "execute_result",
          "data": {
            "text/plain": [
              "'i'"
            ],
            "application/vnd.google.colaboratory.intrinsic+json": {
              "type": "string"
            }
          },
          "metadata": {},
          "execution_count": 153
        }
      ]
    },
    {
      "cell_type": "code",
      "source": [
        "labeled_alphabet.iloc[8]"
      ],
      "metadata": {
        "colab": {
          "base_uri": "https://localhost:8080/",
          "height": 35
        },
        "id": "TOjr8JldhTx5",
        "outputId": "fd999e27-5735-4c8e-c711-3f1ef06f5eeb"
      },
      "execution_count": 154,
      "outputs": [
        {
          "output_type": "execute_result",
          "data": {
            "text/plain": [
              "'i'"
            ],
            "application/vnd.google.colaboratory.intrinsic+json": {
              "type": "string"
            }
          },
          "metadata": {},
          "execution_count": 154
        }
      ]
    },
    {
      "cell_type": "code",
      "source": [
        "labeled_alphabet[8]"
      ],
      "metadata": {
        "colab": {
          "base_uri": "https://localhost:8080/",
          "height": 35
        },
        "id": "dG30XFXKhWIT",
        "outputId": "0b630b2d-8266-4d96-d5c9-a01178a2d45f"
      },
      "execution_count": 155,
      "outputs": [
        {
          "output_type": "execute_result",
          "data": {
            "text/plain": [
              "'i'"
            ],
            "application/vnd.google.colaboratory.intrinsic+json": {
              "type": "string"
            }
          },
          "metadata": {},
          "execution_count": 155
        }
      ]
    },
    {
      "cell_type": "markdown",
      "source": [
        "# Skill Challenge"
      ],
      "metadata": {
        "id": "BMQUtBBlltAI"
      }
    },
    {
      "cell_type": "markdown",
      "source": [
        "Step1. \n",
        "Create a series of length 100 containing the squares of the integers from 0 to 99. \n",
        "Assign it to te variable squares"
      ],
      "metadata": {
        "id": "sJuY8QvnlzwM"
      }
    },
    {
      "cell_type": "code",
      "source": [
        "squares = pd.Series(i*i for i in range(100))\n",
        "# squares = pd.Series(data = [i**2 for i in range(100)])"
      ],
      "metadata": {
        "id": "sDfwsbEtlw1a"
      },
      "execution_count": 176,
      "outputs": []
    },
    {
      "cell_type": "code",
      "source": [
        "squares.head()"
      ],
      "metadata": {
        "colab": {
          "base_uri": "https://localhost:8080/"
        },
        "id": "4UrfsaJDmqTx",
        "outputId": "23f831a5-1930-486e-c8cb-e1ee476e3246"
      },
      "execution_count": 177,
      "outputs": [
        {
          "output_type": "execute_result",
          "data": {
            "text/plain": [
              "0     0\n",
              "1     1\n",
              "2     4\n",
              "3     9\n",
              "4    16\n",
              "dtype: int64"
            ]
          },
          "metadata": {},
          "execution_count": 177
        }
      ]
    },
    {
      "cell_type": "markdown",
      "source": [
        "Step2. \n",
        "Extract the last three elements from the *squares* series using [] indexing"
      ],
      "metadata": {
        "id": "7djO3vAgnb36"
      }
    },
    {
      "cell_type": "code",
      "source": [
        "# squares[-3:]\n",
        "squares.iloc[-3:]\n",
        "#  either of the two works same"
      ],
      "metadata": {
        "colab": {
          "base_uri": "https://localhost:8080/"
        },
        "id": "Hp4dijR_mvb7",
        "outputId": "34291946-f05f-438c-de92-a74e00b91092"
      },
      "execution_count": 174,
      "outputs": [
        {
          "output_type": "execute_result",
          "data": {
            "text/plain": [
              "97    9409\n",
              "98    9604\n",
              "99    9801\n",
              "dtype: int64"
            ]
          },
          "metadata": {},
          "execution_count": 174
        }
      ]
    },
    {
      "cell_type": "markdown",
      "source": [
        "Step3. \n",
        "Repeat above step, but now using tail() method"
      ],
      "metadata": {
        "id": "fZrFQOQonsNJ"
      }
    },
    {
      "cell_type": "code",
      "source": [
        "squares.tail(3)"
      ],
      "metadata": {
        "colab": {
          "base_uri": "https://localhost:8080/"
        },
        "id": "YhK4ga88noKV",
        "outputId": "cdd261c2-7703-4422-d68e-9ece8bfb2c40"
      },
      "execution_count": 168,
      "outputs": [
        {
          "output_type": "execute_result",
          "data": {
            "text/plain": [
              "97    9409\n",
              "98    9604\n",
              "99    9801\n",
              "dtype: int64"
            ]
          },
          "metadata": {},
          "execution_count": 168
        }
      ]
    },
    {
      "cell_type": "markdown",
      "source": [
        "Step4. \n",
        "Verify the putput of step 2 and step 3 is same"
      ],
      "metadata": {
        "id": "Ss70GT0an6xB"
      }
    },
    {
      "cell_type": "code",
      "source": [
        "squares[-3:].equals(squares.tail(3))"
      ],
      "metadata": {
        "colab": {
          "base_uri": "https://localhost:8080/"
        },
        "id": "b46LOMRen0cf",
        "outputId": "74100ec3-4955-4320-91fe-4a54d97fa485"
      },
      "execution_count": 170,
      "outputs": [
        {
          "output_type": "execute_result",
          "data": {
            "text/plain": [
              "True"
            ]
          },
          "metadata": {},
          "execution_count": 170
        }
      ]
    },
    {
      "cell_type": "code",
      "source": [
        "a = squares.iloc[-3:]\n",
        "b = squares.tail(3)"
      ],
      "metadata": {
        "id": "N8aWKNBRoKW6"
      },
      "execution_count": 179,
      "outputs": []
    },
    {
      "cell_type": "code",
      "source": [
        "a.equals(b)"
      ],
      "metadata": {
        "colab": {
          "base_uri": "https://localhost:8080/"
        },
        "id": "Q33dG86EpaOu",
        "outputId": "336918f8-1754-47aa-cc6a-21ba37c20d4b"
      },
      "execution_count": 180,
      "outputs": [
        {
          "output_type": "execute_result",
          "data": {
            "text/plain": [
              "True"
            ]
          },
          "metadata": {},
          "execution_count": 180
        }
      ]
    },
    {
      "cell_type": "code",
      "source": [
        "b.equals(a)"
      ],
      "metadata": {
        "colab": {
          "base_uri": "https://localhost:8080/"
        },
        "id": "yv00I6RHpk7v",
        "outputId": "088e47e9-2b0c-4423-e2c9-49bcf8cd0e57"
      },
      "execution_count": 181,
      "outputs": [
        {
          "output_type": "execute_result",
          "data": {
            "text/plain": [
              "True"
            ]
          },
          "metadata": {},
          "execution_count": 181
        }
      ]
    },
    {
      "cell_type": "code",
      "source": [
        "a == b"
      ],
      "metadata": {
        "colab": {
          "base_uri": "https://localhost:8080/"
        },
        "id": "0yx6_5UdpmN4",
        "outputId": "1c768c84-334b-4c7c-d059-71846be940e6"
      },
      "execution_count": 182,
      "outputs": [
        {
          "output_type": "execute_result",
          "data": {
            "text/plain": [
              "97    True\n",
              "98    True\n",
              "99    True\n",
              "dtype: bool"
            ]
          },
          "metadata": {},
          "execution_count": 182
        }
      ]
    }
  ]
}