{
  "nbformat": 4,
  "nbformat_minor": 0,
  "metadata": {
    "colab": {
      "provenance": [],
      "collapsed_sections": [
        "IUCv2axICAce",
        "X6Ts8zo_I9Qc",
        "MflQSTMWM3ZP",
        "D4RG6lrjXQIz",
        "3nySu6e0cyra",
        "BTzjnQ5Aiimb",
        "47FD3yoHwla0",
        "2Kij3KUq8vpv",
        "czp1yc40GuoB",
        "YvKuCkMOTlGU",
        "Z2Qg9otraFGD",
        "WFWlnHMAg1gz",
        "jko8HzOpq69B",
        "LkWvpWnowlkM",
        "dFwf2YdiTkMe"
      ],
      "authorship_tag": "ABX9TyOAjQbxjtJWXF6q8HJk3L/A",
      "include_colab_link": true
    },
    "kernelspec": {
      "name": "python3",
      "display_name": "Python 3"
    },
    "language_info": {
      "name": "python"
    }
  },
  "cells": [
    {
      "cell_type": "markdown",
      "metadata": {
        "id": "view-in-github",
        "colab_type": "text"
      },
      "source": [
        "<a href=\"https://colab.research.google.com/github/Gitanjali1992/pandas/blob/main/Series_At_a_Glance.ipynb\" target=\"_parent\"><img src=\"https://colab.research.google.com/assets/colab-badge.svg\" alt=\"Open In Colab\"/></a>"
      ]
    },
    {
      "cell_type": "code",
      "execution_count": 1,
      "metadata": {
        "id": "_2eKQB6TBvgT"
      },
      "outputs": [],
      "source": [
        "import pandas as pd"
      ]
    },
    {
      "cell_type": "markdown",
      "source": [
        "## What is a Series?"
      ],
      "metadata": {
        "id": "IUCv2axICAce"
      }
    },
    {
      "cell_type": "code",
      "source": [
        "students = ['Gitanjali','Abhay','Dipti']"
      ],
      "metadata": {
        "id": "S-hNj9b0B9pG"
      },
      "execution_count": 60,
      "outputs": []
    },
    {
      "cell_type": "code",
      "source": [
        "pd.Series(students)"
      ],
      "metadata": {
        "colab": {
          "base_uri": "https://localhost:8080/"
        },
        "id": "4TDhN3S4CtRg",
        "outputId": "e77dc9fe-aafa-4072-e9a4-65ed409ac0ea"
      },
      "execution_count": 61,
      "outputs": [
        {
          "output_type": "execute_result",
          "data": {
            "text/plain": [
              "0    Gitanjali\n",
              "1        Abhay\n",
              "2        Dipti\n",
              "dtype: object"
            ]
          },
          "metadata": {},
          "execution_count": 61
        }
      ]
    },
    {
      "cell_type": "code",
      "source": [
        "age = [30,21,28]"
      ],
      "metadata": {
        "id": "-SZXoNjgC6X6"
      },
      "execution_count": 62,
      "outputs": []
    },
    {
      "cell_type": "code",
      "source": [
        "pd.Series(age)"
      ],
      "metadata": {
        "colab": {
          "base_uri": "https://localhost:8080/"
        },
        "id": "aTwXTvcGDBFW",
        "outputId": "e0aab4fd-6335-4856-8d57-10f5946e12c2"
      },
      "execution_count": 63,
      "outputs": [
        {
          "output_type": "execute_result",
          "data": {
            "text/plain": [
              "0    30\n",
              "1    21\n",
              "2    28\n",
              "dtype: int64"
            ]
          },
          "metadata": {},
          "execution_count": 63
        }
      ]
    },
    {
      "cell_type": "code",
      "source": [
        "height = [150,162.5,152]"
      ],
      "metadata": {
        "id": "Ft_mTFxzDDX4"
      },
      "execution_count": 64,
      "outputs": []
    },
    {
      "cell_type": "code",
      "source": [
        "pd.Series(height)"
      ],
      "metadata": {
        "colab": {
          "base_uri": "https://localhost:8080/"
        },
        "id": "NeCjL6Q9DMtI",
        "outputId": "ac696e27-7f6f-42a2-f8b5-17d5e15a339c"
      },
      "execution_count": 65,
      "outputs": [
        {
          "output_type": "execute_result",
          "data": {
            "text/plain": [
              "0    150.0\n",
              "1    162.5\n",
              "2    152.0\n",
              "dtype: float64"
            ]
          },
          "metadata": {},
          "execution_count": 65
        }
      ]
    },
    {
      "cell_type": "markdown",
      "source": [
        "Unlike numpy and darrays, Pandas Series **supports mixed datatypes**"
      ],
      "metadata": {
        "id": "BxtawsLMHkwz"
      }
    },
    {
      "cell_type": "code",
      "source": [
        "mixed = [True, 'say', {'my_motivation': 100}]"
      ],
      "metadata": {
        "id": "KZjr65tHDO02"
      },
      "execution_count": 66,
      "outputs": []
    },
    {
      "cell_type": "code",
      "source": [
        "pd.Series(mixed)"
      ],
      "metadata": {
        "colab": {
          "base_uri": "https://localhost:8080/"
        },
        "id": "iPvd37QqHeYx",
        "outputId": "d257cd89-48da-499a-998c-29efad9d77e9"
      },
      "execution_count": 67,
      "outputs": [
        {
          "output_type": "execute_result",
          "data": {
            "text/plain": [
              "0                      True\n",
              "1                       say\n",
              "2    {'my_motivation': 100}\n",
              "dtype: object"
            ]
          },
          "metadata": {},
          "execution_count": 67
        }
      ]
    },
    {
      "cell_type": "markdown",
      "source": [
        "# Parameters vs. Arguments"
      ],
      "metadata": {
        "id": "X6Ts8zo_I9Qc"
      }
    },
    {
      "cell_type": "code",
      "source": [
        "pd.Series(students)"
      ],
      "metadata": {
        "colab": {
          "base_uri": "https://localhost:8080/"
        },
        "id": "4uVVA-qSJCDi",
        "outputId": "cabe01a1-71c3-4d2c-e533-421ac01f9474"
      },
      "execution_count": 68,
      "outputs": [
        {
          "output_type": "execute_result",
          "data": {
            "text/plain": [
              "0    Gitanjali\n",
              "1        Abhay\n",
              "2        Dipti\n",
              "dtype: object"
            ]
          },
          "metadata": {},
          "execution_count": 68
        }
      ]
    },
    {
      "cell_type": "code",
      "source": [
        "pd.Series(data=students)"
      ],
      "metadata": {
        "colab": {
          "base_uri": "https://localhost:8080/"
        },
        "id": "U5uZfOhAMIyK",
        "outputId": "a4f34bc6-eae0-4af2-e958-bb582c933848"
      },
      "execution_count": 69,
      "outputs": [
        {
          "output_type": "execute_result",
          "data": {
            "text/plain": [
              "0    Gitanjali\n",
              "1        Abhay\n",
              "2        Dipti\n",
              "dtype: object"
            ]
          },
          "metadata": {},
          "execution_count": 69
        }
      ]
    },
    {
      "cell_type": "markdown",
      "source": [
        "# What 's in the data?"
      ],
      "metadata": {
        "id": "MflQSTMWM3ZP"
      }
    },
    {
      "cell_type": "code",
      "source": [
        "books_list = ['Thursday Murder Club', 'Almost Single', 'The Fault in our stars']"
      ],
      "metadata": {
        "id": "cmjiNuyrM7W9"
      },
      "execution_count": 70,
      "outputs": []
    },
    {
      "cell_type": "code",
      "source": [
        "list_s = pd.Series(books_list)"
      ],
      "metadata": {
        "id": "924XTakLNQzs"
      },
      "execution_count": 71,
      "outputs": []
    },
    {
      "cell_type": "code",
      "source": [
        "books_dict = {0: 'Thursday Murder Club', 1: 'Almost Single', 2: 'The Fault in our stars'}\n",
        "books_dict2 = {1: 'Thursday Murder Club', 2: 'Almost Single', 3: 'The Fault in our stars'}"
      ],
      "metadata": {
        "id": "6jiqWOuQNTCI"
      },
      "execution_count": 72,
      "outputs": []
    },
    {
      "cell_type": "code",
      "source": [
        "dict_s = pd.Series(books_dict)"
      ],
      "metadata": {
        "id": "Jn3M7eJNQFQr"
      },
      "execution_count": 73,
      "outputs": []
    },
    {
      "cell_type": "code",
      "source": [
        "pd.Series(books_dict2)"
      ],
      "metadata": {
        "colab": {
          "base_uri": "https://localhost:8080/"
        },
        "id": "gn-jBh1gQJES",
        "outputId": "b1839d9f-15cd-4f55-f597-ec1f997779b1"
      },
      "execution_count": 74,
      "outputs": [
        {
          "output_type": "execute_result",
          "data": {
            "text/plain": [
              "1      Thursday Murder Club\n",
              "2             Almost Single\n",
              "3    The Fault in our stars\n",
              "dtype: object"
            ]
          },
          "metadata": {},
          "execution_count": 74
        }
      ]
    },
    {
      "cell_type": "code",
      "source": [
        "list_s.equals(dict_s)"
      ],
      "metadata": {
        "colab": {
          "base_uri": "https://localhost:8080/"
        },
        "id": "GkkIF2kGQ7Ts",
        "outputId": "e6f06a72-9799-4bec-c327-4daf94df46bc"
      },
      "execution_count": 75,
      "outputs": [
        {
          "output_type": "execute_result",
          "data": {
            "text/plain": [
              "True"
            ]
          },
          "metadata": {},
          "execution_count": 75
        }
      ]
    },
    {
      "cell_type": "code",
      "source": [
        "pd.Series(1992)"
      ],
      "metadata": {
        "colab": {
          "base_uri": "https://localhost:8080/"
        },
        "id": "eKg6DJ2VSbpk",
        "outputId": "10b6d46e-28bb-4b0b-a078-a3746072409b"
      },
      "execution_count": 76,
      "outputs": [
        {
          "output_type": "execute_result",
          "data": {
            "text/plain": [
              "0    1992\n",
              "dtype: int64"
            ]
          },
          "metadata": {},
          "execution_count": 76
        }
      ]
    },
    {
      "cell_type": "code",
      "source": [
        "pd.Series('Gitanjali')"
      ],
      "metadata": {
        "colab": {
          "base_uri": "https://localhost:8080/"
        },
        "id": "3fICLJsMW1jr",
        "outputId": "72aa20c7-eb47-45b2-e766-1d556dff7643"
      },
      "execution_count": 77,
      "outputs": [
        {
          "output_type": "execute_result",
          "data": {
            "text/plain": [
              "0    Gitanjali\n",
              "dtype: object"
            ]
          },
          "metadata": {},
          "execution_count": 77
        }
      ]
    },
    {
      "cell_type": "markdown",
      "source": [
        "# The .dtype Attribute"
      ],
      "metadata": {
        "id": "D4RG6lrjXQIz"
      }
    },
    {
      "cell_type": "code",
      "source": [
        "pd.Series(age)"
      ],
      "metadata": {
        "colab": {
          "base_uri": "https://localhost:8080/"
        },
        "id": "VNLPZzBKXV6j",
        "outputId": "963f7084-a4dc-455c-8790-6ab5f8c9dbc0"
      },
      "execution_count": 78,
      "outputs": [
        {
          "output_type": "execute_result",
          "data": {
            "text/plain": [
              "0    30\n",
              "1    21\n",
              "2    28\n",
              "dtype: int64"
            ]
          },
          "metadata": {},
          "execution_count": 78
        }
      ]
    },
    {
      "cell_type": "markdown",
      "source": [
        "Pandas automatically infers the dtype of series based on data we provided to Series constructor.\n",
        "\n",
        "However, we can specify dtype ourselves."
      ],
      "metadata": {
        "id": "Ve-ZZOHzYuyB"
      }
    },
    {
      "cell_type": "code",
      "source": [
        "pd.Series(age, dtype='float')"
      ],
      "metadata": {
        "colab": {
          "base_uri": "https://localhost:8080/"
        },
        "id": "r-yjP6fYYhvn",
        "outputId": "d6a6bb6d-9fc6-49d2-a185-6b788c15d3ba"
      },
      "execution_count": 79,
      "outputs": [
        {
          "output_type": "execute_result",
          "data": {
            "text/plain": [
              "0    30.0\n",
              "1    21.0\n",
              "2    28.0\n",
              "dtype: float64"
            ]
          },
          "metadata": {},
          "execution_count": 79
        }
      ]
    },
    {
      "cell_type": "code",
      "source": [
        "name_series = pd.Series(students)"
      ],
      "metadata": {
        "id": "N2IALQCuYsOs"
      },
      "execution_count": 80,
      "outputs": []
    },
    {
      "cell_type": "code",
      "source": [
        "name_series"
      ],
      "metadata": {
        "colab": {
          "base_uri": "https://localhost:8080/"
        },
        "id": "dZmjyN-paTLG",
        "outputId": "079700f9-31f4-46bf-cc8c-9205c56d88e8"
      },
      "execution_count": 81,
      "outputs": [
        {
          "output_type": "execute_result",
          "data": {
            "text/plain": [
              "0    Gitanjali\n",
              "1        Abhay\n",
              "2        Dipti\n",
              "dtype: object"
            ]
          },
          "metadata": {},
          "execution_count": 81
        }
      ]
    },
    {
      "cell_type": "code",
      "source": [
        "name_series.dtype"
      ],
      "metadata": {
        "colab": {
          "base_uri": "https://localhost:8080/"
        },
        "id": "WjK_g7Xnabqw",
        "outputId": "13aa1f78-6dd0-4219-c0ee-56317153ef70"
      },
      "execution_count": 82,
      "outputs": [
        {
          "output_type": "execute_result",
          "data": {
            "text/plain": [
              "dtype('O')"
            ]
          },
          "metadata": {},
          "execution_count": 82
        }
      ]
    },
    {
      "cell_type": "code",
      "source": [
        "age_series = pd.Series(age)"
      ],
      "metadata": {
        "id": "gxLHrXXfaew0"
      },
      "execution_count": 83,
      "outputs": []
    },
    {
      "cell_type": "code",
      "source": [
        "age_series"
      ],
      "metadata": {
        "colab": {
          "base_uri": "https://localhost:8080/"
        },
        "id": "S4ph3eVca1WK",
        "outputId": "34c95a7a-746b-4724-b067-4a74ae5ae358"
      },
      "execution_count": 84,
      "outputs": [
        {
          "output_type": "execute_result",
          "data": {
            "text/plain": [
              "0    30\n",
              "1    21\n",
              "2    28\n",
              "dtype: int64"
            ]
          },
          "metadata": {},
          "execution_count": 84
        }
      ]
    },
    {
      "cell_type": "code",
      "source": [
        "age_series.dtype"
      ],
      "metadata": {
        "colab": {
          "base_uri": "https://localhost:8080/"
        },
        "id": "L8gyr8gQa3Tk",
        "outputId": "de06d2bc-2ad6-4794-acbb-93ba8160e1b3"
      },
      "execution_count": 85,
      "outputs": [
        {
          "output_type": "execute_result",
          "data": {
            "text/plain": [
              "dtype('int64')"
            ]
          },
          "metadata": {},
          "execution_count": 85
        }
      ]
    },
    {
      "cell_type": "code",
      "source": [
        "height_series = pd.Series(height)"
      ],
      "metadata": {
        "id": "2j4T8CAda5UW"
      },
      "execution_count": 86,
      "outputs": []
    },
    {
      "cell_type": "code",
      "source": [
        "height_series.dtype"
      ],
      "metadata": {
        "colab": {
          "base_uri": "https://localhost:8080/"
        },
        "id": "7gVzWe9lbUv1",
        "outputId": "77372079-6ac7-4d1d-85f1-10dbd375d0be"
      },
      "execution_count": 87,
      "outputs": [
        {
          "output_type": "execute_result",
          "data": {
            "text/plain": [
              "dtype('float64')"
            ]
          },
          "metadata": {},
          "execution_count": 87
        }
      ]
    },
    {
      "cell_type": "markdown",
      "source": [
        "# What is dtype('O'), Really?\n",
        "Mostly to do with:\n",
        "- numpy only dealing with homogeneous(of same fixed size in memory) multi-dimensional arrays.\n",
        "- Strings not being homogeneous or of fixed size."
      ],
      "metadata": {
        "id": "3nySu6e0cyra"
      }
    },
    {
      "cell_type": "code",
      "source": [
        "heights2 = [120.4, '102.5',167.8]"
      ],
      "metadata": {
        "id": "qTLAA299bXCl"
      },
      "execution_count": 88,
      "outputs": []
    },
    {
      "cell_type": "code",
      "source": [
        "pd.Series(heights2)"
      ],
      "metadata": {
        "colab": {
          "base_uri": "https://localhost:8080/"
        },
        "id": "nEArp5L0hZ13",
        "outputId": "b5f3cd51-e3fd-48da-be19-e544f881bfb2"
      },
      "execution_count": 89,
      "outputs": [
        {
          "output_type": "execute_result",
          "data": {
            "text/plain": [
              "0    120.4\n",
              "1    102.5\n",
              "2    167.8\n",
              "dtype: object"
            ]
          },
          "metadata": {},
          "execution_count": 89
        }
      ]
    },
    {
      "cell_type": "markdown",
      "source": [
        "# Index and RangeIndex\n",
        "- Create Custome index/labels\n",
        "- When not specified, Pandas creates immutable RangeIndex for performance optimization reasons "
      ],
      "metadata": {
        "id": "BTzjnQ5Aiimb"
      }
    },
    {
      "cell_type": "code",
      "source": [
        "books_list"
      ],
      "metadata": {
        "colab": {
          "base_uri": "https://localhost:8080/"
        },
        "id": "5GgyuYTdio3i",
        "outputId": "0a8b993c-3bb1-4643-b258-eb3d39b6da75"
      },
      "execution_count": 90,
      "outputs": [
        {
          "output_type": "execute_result",
          "data": {
            "text/plain": [
              "['Thursday Murder Club', 'Almost Single', 'The Fault in our stars']"
            ]
          },
          "metadata": {},
          "execution_count": 90
        }
      ]
    },
    {
      "cell_type": "code",
      "source": [
        "list_s"
      ],
      "metadata": {
        "colab": {
          "base_uri": "https://localhost:8080/"
        },
        "id": "MK7g5CTAjl6x",
        "outputId": "4a9295d6-c0bc-4e9e-d309-d2147193dcca"
      },
      "execution_count": 91,
      "outputs": [
        {
          "output_type": "execute_result",
          "data": {
            "text/plain": [
              "0      Thursday Murder Club\n",
              "1             Almost Single\n",
              "2    The Fault in our stars\n",
              "dtype: object"
            ]
          },
          "metadata": {},
          "execution_count": 91
        }
      ]
    },
    {
      "cell_type": "markdown",
      "source": [
        "We can provide our own labels using \"Index\" parameter of pd.Series() constructor."
      ],
      "metadata": {
        "id": "B2C4LenulZfA"
      }
    },
    {
      "cell_type": "code",
      "source": [
        "# using keyword/named arguments\n",
        "pd.Series(data=books_list, index=['Thriller', 'Humour', 'Romantic'])"
      ],
      "metadata": {
        "colab": {
          "base_uri": "https://localhost:8080/"
        },
        "id": "xXhKXurdjm2k",
        "outputId": "19cf9ce6-bc96-4b89-cf46-fd8c34e19736"
      },
      "execution_count": 92,
      "outputs": [
        {
          "output_type": "execute_result",
          "data": {
            "text/plain": [
              "Thriller      Thursday Murder Club\n",
              "Humour               Almost Single\n",
              "Romantic    The Fault in our stars\n",
              "dtype: object"
            ]
          },
          "metadata": {},
          "execution_count": 92
        }
      ]
    },
    {
      "cell_type": "code",
      "source": [
        "# Using positional arguments\n",
        "pd.Series(books_list, ['Thriller', 'Humour', 'Romantic'])"
      ],
      "metadata": {
        "colab": {
          "base_uri": "https://localhost:8080/"
        },
        "id": "9rBRmO6jlW6q",
        "outputId": "9546dba1-fb25-48e4-f90c-65e2e8163390"
      },
      "execution_count": 93,
      "outputs": [
        {
          "output_type": "execute_result",
          "data": {
            "text/plain": [
              "Thriller      Thursday Murder Club\n",
              "Humour               Almost Single\n",
              "Romantic    The Fault in our stars\n",
              "dtype: object"
            ]
          },
          "metadata": {},
          "execution_count": 93
        }
      ]
    },
    {
      "cell_type": "code",
      "source": [
        "# using mixed arguments\n",
        "pd.Series(books_list, ['Thriller', 'Humour', 'Romantic'], dtype = 'object')"
      ],
      "metadata": {
        "colab": {
          "base_uri": "https://localhost:8080/"
        },
        "id": "m6FRrhLal-3A",
        "outputId": "470c490f-6cb9-43d1-a07c-69ad60f61295"
      },
      "execution_count": 94,
      "outputs": [
        {
          "output_type": "execute_result",
          "data": {
            "text/plain": [
              "Thriller      Thursday Murder Club\n",
              "Humour               Almost Single\n",
              "Romantic    The Fault in our stars\n",
              "dtype: object"
            ]
          },
          "metadata": {},
          "execution_count": 94
        }
      ]
    },
    {
      "cell_type": "code",
      "source": [
        "pd.__version__"
      ],
      "metadata": {
        "colab": {
          "base_uri": "https://localhost:8080/",
          "height": 0
        },
        "id": "BCkh5c1RmqBH",
        "outputId": "fbd16c2a-b7e5-4d1f-b0d7-eda9b4297452"
      },
      "execution_count": 95,
      "outputs": [
        {
          "output_type": "execute_result",
          "data": {
            "text/plain": [
              "'1.3.5'"
            ],
            "application/vnd.google.colaboratory.intrinsic+json": {
              "type": "string"
            }
          },
          "metadata": {},
          "execution_count": 95
        }
      ]
    },
    {
      "cell_type": "code",
      "source": [
        "# stringdtype() from pandas version 1 and later\n",
        "pd.Series(books_list, ['Thriller', 'Humour', 'Romantic'], dtype = 'string')"
      ],
      "metadata": {
        "colab": {
          "base_uri": "https://localhost:8080/"
        },
        "id": "-8faZthCnCx4",
        "outputId": "bcc41443-7910-4838-907f-0d8816f40786"
      },
      "execution_count": 96,
      "outputs": [
        {
          "output_type": "execute_result",
          "data": {
            "text/plain": [
              "Thriller      Thursday Murder Club\n",
              "Humour               Almost Single\n",
              "Romantic    The Fault in our stars\n",
              "dtype: string"
            ]
          },
          "metadata": {},
          "execution_count": 96
        }
      ]
    },
    {
      "cell_type": "markdown",
      "source": [
        "RangeIndex --> x.index\n",
        "- When we don't specify an index explicitly. \n",
        "- Is sequence of integers starting from 0\n",
        "- Built-in Pandas object"
      ],
      "metadata": {
        "id": "3Iy2LuiBpVyX"
      }
    },
    {
      "cell_type": "code",
      "source": [
        "list_s.index"
      ],
      "metadata": {
        "colab": {
          "base_uri": "https://localhost:8080/"
        },
        "id": "5LUguOpdoUFO",
        "outputId": "9cd9c28f-c9ee-49d9-940b-bdd98dedab23"
      },
      "execution_count": 97,
      "outputs": [
        {
          "output_type": "execute_result",
          "data": {
            "text/plain": [
              "RangeIndex(start=0, stop=3, step=1)"
            ]
          },
          "metadata": {},
          "execution_count": 97
        }
      ]
    },
    {
      "cell_type": "code",
      "source": [
        "type(list_s.index)"
      ],
      "metadata": {
        "colab": {
          "base_uri": "https://localhost:8080/"
        },
        "id": "KGOnyqlepQzB",
        "outputId": "9eff6bb2-4bd1-44e5-b484-b0ad26ab6bbb"
      },
      "execution_count": 98,
      "outputs": [
        {
          "output_type": "execute_result",
          "data": {
            "text/plain": [
              "pandas.core.indexes.range.RangeIndex"
            ]
          },
          "metadata": {},
          "execution_count": 98
        }
      ]
    },
    {
      "cell_type": "markdown",
      "source": [
        "Creating our own Ranging (RangeIndex)"
      ],
      "metadata": {
        "id": "PGeql2ffsNXO"
      }
    },
    {
      "cell_type": "code",
      "source": [
        "pd.RangeIndex(start=4, stop=7, step=1)"
      ],
      "metadata": {
        "colab": {
          "base_uri": "https://localhost:8080/"
        },
        "id": "CTfhQhZqrWoh",
        "outputId": "37a5dc60-68a0-4553-a470-4f3749afba0d"
      },
      "execution_count": 99,
      "outputs": [
        {
          "output_type": "execute_result",
          "data": {
            "text/plain": [
              "RangeIndex(start=4, stop=7, step=1)"
            ]
          },
          "metadata": {},
          "execution_count": 99
        }
      ]
    },
    {
      "cell_type": "code",
      "source": [
        "list(pd.RangeIndex(start=4, stop=7, step=1))"
      ],
      "metadata": {
        "colab": {
          "base_uri": "https://localhost:8080/"
        },
        "id": "4mMIUjbKsXF7",
        "outputId": "6e2ea812-48ca-49f5-9476-3fbe4627874b"
      },
      "execution_count": 100,
      "outputs": [
        {
          "output_type": "execute_result",
          "data": {
            "text/plain": [
              "[4, 5, 6]"
            ]
          },
          "metadata": {},
          "execution_count": 100
        }
      ]
    },
    {
      "cell_type": "code",
      "source": [
        "list(pd.RangeIndex(start=10, stop=-11, step=-1))"
      ],
      "metadata": {
        "colab": {
          "base_uri": "https://localhost:8080/"
        },
        "id": "CB9wOimhsdWX",
        "outputId": "1e1ce6a8-ff5c-4a2c-84e4-bc0a69ec62d5"
      },
      "execution_count": 101,
      "outputs": [
        {
          "output_type": "execute_result",
          "data": {
            "text/plain": [
              "[10, 9, 8, 7, 6, 5, 4, 3, 2, 1, 0, -1, -2, -3, -4, -5, -6, -7, -8, -9, -10]"
            ]
          },
          "metadata": {},
          "execution_count": 101
        }
      ]
    },
    {
      "cell_type": "markdown",
      "source": [
        "# Series and Index Names\n",
        "- Series can have names which later become column names in data frames\n",
        "- series index can also have names"
      ],
      "metadata": {
        "id": "47FD3yoHwla0"
      }
    },
    {
      "cell_type": "code",
      "source": [
        "list_s"
      ],
      "metadata": {
        "id": "tPbX_l5dwoeL",
        "colab": {
          "base_uri": "https://localhost:8080/"
        },
        "outputId": "4ac809fc-c118-44c9-8adb-5ed89d21b4a6"
      },
      "execution_count": 102,
      "outputs": [
        {
          "output_type": "execute_result",
          "data": {
            "text/plain": [
              "0      Thursday Murder Club\n",
              "1             Almost Single\n",
              "2    The Fault in our stars\n",
              "dtype: object"
            ]
          },
          "metadata": {},
          "execution_count": 102
        }
      ]
    },
    {
      "cell_type": "code",
      "source": [
        "# inttelligable: capable of being understood"
      ],
      "metadata": {
        "id": "jVChvuOm2H0H"
      },
      "execution_count": 103,
      "outputs": []
    },
    {
      "cell_type": "code",
      "source": [
        "books_series = list_s"
      ],
      "metadata": {
        "id": "GQ2_ITcI3A0e"
      },
      "execution_count": 104,
      "outputs": []
    },
    {
      "cell_type": "code",
      "source": [
        "books_series"
      ],
      "metadata": {
        "colab": {
          "base_uri": "https://localhost:8080/"
        },
        "id": "2P2zcLav3ESW",
        "outputId": "e2d7a11a-00e3-4021-f1f8-de95df451df9"
      },
      "execution_count": 105,
      "outputs": [
        {
          "output_type": "execute_result",
          "data": {
            "text/plain": [
              "0      Thursday Murder Club\n",
              "1             Almost Single\n",
              "2    The Fault in our stars\n",
              "dtype: object"
            ]
          },
          "metadata": {},
          "execution_count": 105
        }
      ]
    },
    {
      "cell_type": "code",
      "source": [
        "# Attribute\n",
        "books_series.size"
      ],
      "metadata": {
        "colab": {
          "base_uri": "https://localhost:8080/"
        },
        "id": "fhdztFlS3R3u",
        "outputId": "b177b8b0-53ac-49c3-d254-57efe3438095"
      },
      "execution_count": 106,
      "outputs": [
        {
          "output_type": "execute_result",
          "data": {
            "text/plain": [
              "3"
            ]
          },
          "metadata": {},
          "execution_count": 106
        }
      ]
    },
    {
      "cell_type": "code",
      "source": [
        "# Method\n",
        "list_s.equals(dict_s)"
      ],
      "metadata": {
        "colab": {
          "base_uri": "https://localhost:8080/"
        },
        "id": "pT_m5H403VjH",
        "outputId": "1ed15261-a438-402b-e1d2-a73ac8ebf31b"
      },
      "execution_count": 107,
      "outputs": [
        {
          "output_type": "execute_result",
          "data": {
            "text/plain": [
              "True"
            ]
          },
          "metadata": {},
          "execution_count": 107
        }
      ]
    },
    {
      "cell_type": "code",
      "source": [
        "# Attribute:\n",
        "books_series.dtype"
      ],
      "metadata": {
        "colab": {
          "base_uri": "https://localhost:8080/"
        },
        "id": "97-BMzPs3afH",
        "outputId": "e6a92629-e55b-4549-eb35-621ed096a970"
      },
      "execution_count": 108,
      "outputs": [
        {
          "output_type": "execute_result",
          "data": {
            "text/plain": [
              "dtype('O')"
            ]
          },
          "metadata": {},
          "execution_count": 108
        }
      ]
    },
    {
      "cell_type": "code",
      "source": [
        "books_series.name"
      ],
      "metadata": {
        "id": "rCZ2ChkD58Sq"
      },
      "execution_count": 109,
      "outputs": []
    },
    {
      "cell_type": "code",
      "source": [
        "books_series.name == None"
      ],
      "metadata": {
        "colab": {
          "base_uri": "https://localhost:8080/"
        },
        "id": "AZQCSpN_6A20",
        "outputId": "0de969f8-7fb9-43b0-bba4-d89217d6269c"
      },
      "execution_count": 110,
      "outputs": [
        {
          "output_type": "execute_result",
          "data": {
            "text/plain": [
              "True"
            ]
          },
          "metadata": {},
          "execution_count": 110
        }
      ]
    },
    {
      "cell_type": "code",
      "source": [
        "books_series.name = 'my books read in 2022'"
      ],
      "metadata": {
        "id": "S9qsKu036Egz"
      },
      "execution_count": 111,
      "outputs": []
    },
    {
      "cell_type": "code",
      "source": [
        "books_series.name"
      ],
      "metadata": {
        "colab": {
          "base_uri": "https://localhost:8080/",
          "height": 0
        },
        "id": "2VzzpBVR6JQM",
        "outputId": "d6b8d4f6-8580-4adc-9de9-79e94730fc5f"
      },
      "execution_count": 112,
      "outputs": [
        {
          "output_type": "execute_result",
          "data": {
            "text/plain": [
              "'my books read in 2022'"
            ],
            "application/vnd.google.colaboratory.intrinsic+json": {
              "type": "string"
            }
          },
          "metadata": {},
          "execution_count": 112
        }
      ]
    },
    {
      "cell_type": "code",
      "source": [
        "books_series\n",
        "# inaddition to dtype attribute, we now have additional Name attribute also now that we have set it"
      ],
      "metadata": {
        "colab": {
          "base_uri": "https://localhost:8080/"
        },
        "id": "7tZPLiYT6LUZ",
        "outputId": "fa79e9e4-456a-48a8-ba74-e672a8ad201d"
      },
      "execution_count": 113,
      "outputs": [
        {
          "output_type": "execute_result",
          "data": {
            "text/plain": [
              "0      Thursday Murder Club\n",
              "1             Almost Single\n",
              "2    The Fault in our stars\n",
              "Name: my books read in 2022, dtype: object"
            ]
          },
          "metadata": {},
          "execution_count": 113
        }
      ]
    },
    {
      "cell_type": "code",
      "source": [
        "books_series.index.name"
      ],
      "metadata": {
        "id": "OCjq1s0I6NSa"
      },
      "execution_count": 114,
      "outputs": []
    },
    {
      "cell_type": "code",
      "source": [
        "books_series.index.name == None"
      ],
      "metadata": {
        "colab": {
          "base_uri": "https://localhost:8080/"
        },
        "id": "0mgI8Vr78SLs",
        "outputId": "8f949bc6-4048-4447-adcb-e9bb2109ff00"
      },
      "execution_count": 115,
      "outputs": [
        {
          "output_type": "execute_result",
          "data": {
            "text/plain": [
              "True"
            ]
          },
          "metadata": {},
          "execution_count": 115
        }
      ]
    },
    {
      "cell_type": "code",
      "source": [
        "books_series.index.name = 'My Books'"
      ],
      "metadata": {
        "id": "6URezXTr8T1t"
      },
      "execution_count": 116,
      "outputs": []
    },
    {
      "cell_type": "code",
      "source": [
        "books_series\n",
        "# Additional index name appears on top of labels"
      ],
      "metadata": {
        "colab": {
          "base_uri": "https://localhost:8080/"
        },
        "id": "hYMjTpJS8VXK",
        "outputId": "e62e5f78-8132-42aa-f0c3-57f06b0a3895"
      },
      "execution_count": 117,
      "outputs": [
        {
          "output_type": "execute_result",
          "data": {
            "text/plain": [
              "My Books\n",
              "0      Thursday Murder Club\n",
              "1             Almost Single\n",
              "2    The Fault in our stars\n",
              "Name: my books read in 2022, dtype: object"
            ]
          },
          "metadata": {},
          "execution_count": 117
        }
      ]
    },
    {
      "cell_type": "code",
      "source": [],
      "metadata": {
        "id": "xuZvWCTv8XUX"
      },
      "execution_count": 117,
      "outputs": []
    },
    {
      "cell_type": "markdown",
      "source": [
        "# Skills Challenge"
      ],
      "metadata": {
        "id": "2Kij3KUq8vpv"
      }
    },
    {
      "cell_type": "markdown",
      "source": [
        "Task 1.\n",
        "- Create a Python list of length 4 that contains some of your favaourite actors. \n",
        "- So this should be a list of strings.\n",
        "- Call this list-nassign it to a variable: actor_names"
      ],
      "metadata": {
        "id": "Aga26dIO9ohU"
      }
    },
    {
      "cell_type": "code",
      "source": [
        "actor_names = ['Leonardo', 'Blake', 'Kate', 'Reynolds']"
      ],
      "metadata": {
        "id": "zUL8SYIt9To1"
      },
      "execution_count": 118,
      "outputs": []
    },
    {
      "cell_type": "markdown",
      "source": [
        "Task 2.\n",
        "- Create another list of same length that contains your guesses of how old each actor is, feel free to just use integers or floats.\n",
        "- Call thsi list actor_ages"
      ],
      "metadata": {
        "id": "aJvPoYhr9vCP"
      }
    },
    {
      "cell_type": "code",
      "source": [
        "actor_ages = [58, 44, 60, 48]"
      ],
      "metadata": {
        "id": "Ig0leQli9iaQ"
      },
      "execution_count": 119,
      "outputs": []
    },
    {
      "cell_type": "markdown",
      "source": [
        "Task 3.\n",
        "- Create a series that contains actors ages and labels the ages using the actor names.\n",
        "- Give this series a name of actors."
      ],
      "metadata": {
        "id": "cIGixkEJ-SfT"
      }
    },
    {
      "cell_type": "code",
      "source": [
        "actors = pd.Series(actor_ages, index= actor_names, name = 'actors')"
      ],
      "metadata": {
        "id": "uO_qKmLH-KBN"
      },
      "execution_count": 120,
      "outputs": []
    },
    {
      "cell_type": "code",
      "source": [
        "actors"
      ],
      "metadata": {
        "colab": {
          "base_uri": "https://localhost:8080/"
        },
        "id": "E1cpteh1-3qp",
        "outputId": "55c31376-37ed-43e8-cf16-4e204143aa31"
      },
      "execution_count": 121,
      "outputs": [
        {
          "output_type": "execute_result",
          "data": {
            "text/plain": [
              "Leonardo    58\n",
              "Blake       44\n",
              "Kate        60\n",
              "Reynolds    48\n",
              "Name: actors, dtype: int64"
            ]
          },
          "metadata": {},
          "execution_count": 121
        }
      ]
    },
    {
      "cell_type": "markdown",
      "source": [
        "Task 4.\n",
        "- Repeat step 3 but this time create the series from a Python Dictionary.\n",
        "- As an additional challenge, try not to type the dictionary manually but instead dynamically create it using the two lists defined in step 1 and step 2."
      ],
      "metadata": {
        "id": "GRkMbbsQ-7QP"
      }
    },
    {
      "cell_type": "code",
      "source": [
        "actor_dict = dict(zip(actor_names, actor_ages)) #pure functions\n",
        "actor_dict2 = {name:age for name, age in zip(actor_names, actor_ages)} #dict comprehennsions and pure function"
      ],
      "metadata": {
        "id": "Am-Sh5qj-42Z"
      },
      "execution_count": 122,
      "outputs": []
    },
    {
      "cell_type": "code",
      "source": [
        "pd.Series(actor_dict, name = 'actors')"
      ],
      "metadata": {
        "colab": {
          "base_uri": "https://localhost:8080/"
        },
        "id": "9AT_VIvIAD_o",
        "outputId": "418b6d33-5f5d-4ea4-9edd-dcd20bbafd3a"
      },
      "execution_count": 123,
      "outputs": [
        {
          "output_type": "execute_result",
          "data": {
            "text/plain": [
              "Leonardo    58\n",
              "Blake       44\n",
              "Kate        60\n",
              "Reynolds    48\n",
              "Name: actors, dtype: int64"
            ]
          },
          "metadata": {},
          "execution_count": 123
        }
      ]
    },
    {
      "cell_type": "code",
      "source": [
        "pd.Series(actor_dict2, name = 'actors')"
      ],
      "metadata": {
        "colab": {
          "base_uri": "https://localhost:8080/"
        },
        "id": "bqtupYCLFVwz",
        "outputId": "5895587b-df61-44fa-f0c4-35e8a49fa016"
      },
      "execution_count": 124,
      "outputs": [
        {
          "output_type": "execute_result",
          "data": {
            "text/plain": [
              "Leonardo    58\n",
              "Blake       44\n",
              "Kate        60\n",
              "Reynolds    48\n",
              "Name: actors, dtype: int64"
            ]
          },
          "metadata": {},
          "execution_count": 124
        }
      ]
    },
    {
      "cell_type": "markdown",
      "source": [
        "# The head() and tail() Method"
      ],
      "metadata": {
        "id": "czp1yc40GuoB"
      }
    },
    {
      "cell_type": "code",
      "source": [
        "int_series = pd.Series(range(10))"
      ],
      "metadata": {
        "id": "vFc0nimxG0WC"
      },
      "execution_count": 125,
      "outputs": []
    },
    {
      "cell_type": "code",
      "source": [
        "int_series"
      ],
      "metadata": {
        "colab": {
          "base_uri": "https://localhost:8080/"
        },
        "id": "9tk4mQwMIATr",
        "outputId": "6527a154-18e7-4a92-a37a-caafeb180de5"
      },
      "execution_count": 126,
      "outputs": [
        {
          "output_type": "execute_result",
          "data": {
            "text/plain": [
              "0    0\n",
              "1    1\n",
              "2    2\n",
              "3    3\n",
              "4    4\n",
              "5    5\n",
              "6    6\n",
              "7    7\n",
              "8    8\n",
              "9    9\n",
              "dtype: int64"
            ]
          },
          "metadata": {},
          "execution_count": 126
        }
      ]
    },
    {
      "cell_type": "code",
      "source": [
        "int_series.size"
      ],
      "metadata": {
        "colab": {
          "base_uri": "https://localhost:8080/"
        },
        "id": "u5mCBGM9ICOB",
        "outputId": "4cbbe275-7988-4436-e3f4-bae5f3df38a7"
      },
      "execution_count": 127,
      "outputs": [
        {
          "output_type": "execute_result",
          "data": {
            "text/plain": [
              "10"
            ]
          },
          "metadata": {},
          "execution_count": 127
        }
      ]
    },
    {
      "cell_type": "code",
      "source": [
        "len(int_series)\n",
        "# Python men() function also works just fine"
      ],
      "metadata": {
        "colab": {
          "base_uri": "https://localhost:8080/"
        },
        "id": "FN0DdKFLIEt8",
        "outputId": "67e8fe49-b667-4d73-9f59-0d0b29a8a02a"
      },
      "execution_count": 128,
      "outputs": [
        {
          "output_type": "execute_result",
          "data": {
            "text/plain": [
              "10"
            ]
          },
          "metadata": {},
          "execution_count": 128
        }
      ]
    },
    {
      "cell_type": "code",
      "source": [
        "# To sneak peek 1st 5 elements of series:\n",
        "int_series.head()"
      ],
      "metadata": {
        "colab": {
          "base_uri": "https://localhost:8080/"
        },
        "id": "DUIh0KRsIITs",
        "outputId": "66851bb4-92bf-4722-c0a3-1ec662f0171f"
      },
      "execution_count": 129,
      "outputs": [
        {
          "output_type": "execute_result",
          "data": {
            "text/plain": [
              "0    0\n",
              "1    1\n",
              "2    2\n",
              "3    3\n",
              "4    4\n",
              "dtype: int64"
            ]
          },
          "metadata": {},
          "execution_count": 129
        }
      ]
    },
    {
      "cell_type": "code",
      "source": [
        "# To sneak peek last 5 elements of series:\n",
        "int_series.tail()"
      ],
      "metadata": {
        "colab": {
          "base_uri": "https://localhost:8080/"
        },
        "id": "Pu26XIw-KDKQ",
        "outputId": "4d51e1d4-9c6f-4561-ca6e-c4936bb712d8"
      },
      "execution_count": 130,
      "outputs": [
        {
          "output_type": "execute_result",
          "data": {
            "text/plain": [
              "5    5\n",
              "6    6\n",
              "7    7\n",
              "8    8\n",
              "9    9\n",
              "dtype: int64"
            ]
          },
          "metadata": {},
          "execution_count": 130
        }
      ]
    },
    {
      "cell_type": "code",
      "source": [
        "# We can also specify the number of elements we want to see using the n parameter of these methods:\n",
        "int_series.head(n=3) # or int_series.head(3)"
      ],
      "metadata": {
        "colab": {
          "base_uri": "https://localhost:8080/"
        },
        "id": "3x_ySjR4KHxI",
        "outputId": "381befbf-0afd-45f0-975b-42e6048618b6"
      },
      "execution_count": 131,
      "outputs": [
        {
          "output_type": "execute_result",
          "data": {
            "text/plain": [
              "0    0\n",
              "1    1\n",
              "2    2\n",
              "dtype: int64"
            ]
          },
          "metadata": {},
          "execution_count": 131
        }
      ]
    },
    {
      "cell_type": "code",
      "source": [
        "int_series.tail(n=4) # or int_series.tail(4)"
      ],
      "metadata": {
        "colab": {
          "base_uri": "https://localhost:8080/"
        },
        "id": "KDjJsncHL4CT",
        "outputId": "6c31d91d-a93a-40ec-a7e3-42f5dbf8135d"
      },
      "execution_count": 132,
      "outputs": [
        {
          "output_type": "execute_result",
          "data": {
            "text/plain": [
              "6    6\n",
              "7    7\n",
              "8    8\n",
              "9    9\n",
              "dtype: int64"
            ]
          },
          "metadata": {},
          "execution_count": 132
        }
      ]
    },
    {
      "cell_type": "code",
      "source": [
        "# Notebook environments already truncate teh output of we have large series:\n",
        "pd.Series(range(10000000))"
      ],
      "metadata": {
        "colab": {
          "base_uri": "https://localhost:8080/"
        },
        "id": "Zj534T2cL9JQ",
        "outputId": "a3f76305-8392-4637-9d02-7a1d19751540"
      },
      "execution_count": 133,
      "outputs": [
        {
          "output_type": "execute_result",
          "data": {
            "text/plain": [
              "0                0\n",
              "1                1\n",
              "2                2\n",
              "3                3\n",
              "4                4\n",
              "            ...   \n",
              "9999995    9999995\n",
              "9999996    9999996\n",
              "9999997    9999997\n",
              "9999998    9999998\n",
              "9999999    9999999\n",
              "Length: 10000000, dtype: int64"
            ]
          },
          "metadata": {},
          "execution_count": 133
        }
      ]
    },
    {
      "cell_type": "code",
      "source": [
        "# can change display options to chnage above behaviour\n",
        "# i.e. force pands to return n rows of series \n",
        "pd.options.display.min_rows = 40"
      ],
      "metadata": {
        "id": "xqsrsGChOA54"
      },
      "execution_count": 134,
      "outputs": []
    },
    {
      "cell_type": "markdown",
      "source": [
        "# Extracting By Index Position"
      ],
      "metadata": {
        "id": "YvKuCkMOTlGU"
      }
    },
    {
      "cell_type": "code",
      "source": [
        "from string import ascii_lowercase"
      ],
      "metadata": {
        "id": "kN5I1IzkPkLW"
      },
      "execution_count": 135,
      "outputs": []
    },
    {
      "cell_type": "code",
      "source": [
        "ascii_lowercase"
      ],
      "metadata": {
        "colab": {
          "base_uri": "https://localhost:8080/",
          "height": 0
        },
        "id": "GejAEiOlVrG0",
        "outputId": "98eb544e-7bf1-40f4-e4e0-fbdde259900c"
      },
      "execution_count": 136,
      "outputs": [
        {
          "output_type": "execute_result",
          "data": {
            "text/plain": [
              "'abcdefghijklmnopqrstuvwxyz'"
            ],
            "application/vnd.google.colaboratory.intrinsic+json": {
              "type": "string"
            }
          },
          "metadata": {},
          "execution_count": 136
        }
      ]
    },
    {
      "cell_type": "code",
      "source": [
        "letters = list(ascii_lowercase)"
      ],
      "metadata": {
        "id": "6hwDQFJxVd8A"
      },
      "execution_count": 137,
      "outputs": []
    },
    {
      "cell_type": "code",
      "source": [
        "letters"
      ],
      "metadata": {
        "id": "R1Ga2RbeVp_I",
        "colab": {
          "base_uri": "https://localhost:8080/"
        },
        "outputId": "99422156-11cd-493c-985d-de3c5c3b7396"
      },
      "execution_count": 138,
      "outputs": [
        {
          "output_type": "execute_result",
          "data": {
            "text/plain": [
              "['a',\n",
              " 'b',\n",
              " 'c',\n",
              " 'd',\n",
              " 'e',\n",
              " 'f',\n",
              " 'g',\n",
              " 'h',\n",
              " 'i',\n",
              " 'j',\n",
              " 'k',\n",
              " 'l',\n",
              " 'm',\n",
              " 'n',\n",
              " 'o',\n",
              " 'p',\n",
              " 'q',\n",
              " 'r',\n",
              " 's',\n",
              " 't',\n",
              " 'u',\n",
              " 'v',\n",
              " 'w',\n",
              " 'x',\n",
              " 'y',\n",
              " 'z']"
            ]
          },
          "metadata": {},
          "execution_count": 138
        }
      ]
    },
    {
      "cell_type": "code",
      "source": [
        "alphabet = pd.Series(letters)"
      ],
      "metadata": {
        "id": "KY0LPzksVvqt"
      },
      "execution_count": 139,
      "outputs": []
    },
    {
      "cell_type": "code",
      "source": [
        "alphabet.head(6)"
      ],
      "metadata": {
        "colab": {
          "base_uri": "https://localhost:8080/"
        },
        "id": "PrK8M90uV9qS",
        "outputId": "f69a8a53-32c4-4568-c022-bdedc9511830"
      },
      "execution_count": 140,
      "outputs": [
        {
          "output_type": "execute_result",
          "data": {
            "text/plain": [
              "0    a\n",
              "1    b\n",
              "2    c\n",
              "3    d\n",
              "4    e\n",
              "5    f\n",
              "dtype: object"
            ]
          },
          "metadata": {},
          "execution_count": 140
        }
      ]
    },
    {
      "cell_type": "code",
      "source": [
        "# What is the 1st letter?\n",
        "# What is the 11th letter?\n",
        "# What are the first three letters?\n",
        "# What are the sixth through tenth letters?\n",
        "# What are the last six letters?"
      ],
      "metadata": {
        "id": "awwFtwEaWBLJ"
      },
      "execution_count": 141,
      "outputs": []
    },
    {
      "cell_type": "code",
      "source": [
        "# 1\n",
        "alphabet[0]"
      ],
      "metadata": {
        "colab": {
          "base_uri": "https://localhost:8080/",
          "height": 0
        },
        "id": "HFbw6v_kXyZp",
        "outputId": "a756e9ac-ed1c-4120-845c-e5fc10c50494"
      },
      "execution_count": 142,
      "outputs": [
        {
          "output_type": "execute_result",
          "data": {
            "text/plain": [
              "'a'"
            ],
            "application/vnd.google.colaboratory.intrinsic+json": {
              "type": "string"
            }
          },
          "metadata": {},
          "execution_count": 142
        }
      ]
    },
    {
      "cell_type": "code",
      "source": [
        "# 2\n",
        "alphabet[10]"
      ],
      "metadata": {
        "colab": {
          "base_uri": "https://localhost:8080/",
          "height": 0
        },
        "id": "JGBoxpF-X17x",
        "outputId": "fc28a6b7-454e-4bd2-8da1-c53e527accdf"
      },
      "execution_count": 143,
      "outputs": [
        {
          "output_type": "execute_result",
          "data": {
            "text/plain": [
              "'k'"
            ],
            "application/vnd.google.colaboratory.intrinsic+json": {
              "type": "string"
            }
          },
          "metadata": {},
          "execution_count": 143
        }
      ]
    },
    {
      "cell_type": "code",
      "source": [
        "# 3\n",
        "alphabet[:3]"
      ],
      "metadata": {
        "colab": {
          "base_uri": "https://localhost:8080/"
        },
        "id": "_qw4ZzOnX3k5",
        "outputId": "5d1cc8f3-0870-4c45-b976-c870ebd18afc"
      },
      "execution_count": 144,
      "outputs": [
        {
          "output_type": "execute_result",
          "data": {
            "text/plain": [
              "0    a\n",
              "1    b\n",
              "2    c\n",
              "dtype: object"
            ]
          },
          "metadata": {},
          "execution_count": 144
        }
      ]
    },
    {
      "cell_type": "code",
      "source": [
        "# 4\n",
        "alphabet[5:10]"
      ],
      "metadata": {
        "colab": {
          "base_uri": "https://localhost:8080/"
        },
        "id": "aww7aSOuX8Bx",
        "outputId": "31c7a10e-6f5a-4c11-d9c8-279bc1c3caaf"
      },
      "execution_count": 145,
      "outputs": [
        {
          "output_type": "execute_result",
          "data": {
            "text/plain": [
              "5    f\n",
              "6    g\n",
              "7    h\n",
              "8    i\n",
              "9    j\n",
              "dtype: object"
            ]
          },
          "metadata": {},
          "execution_count": 145
        }
      ]
    },
    {
      "cell_type": "code",
      "source": [
        "# 5\n",
        "alphabet[-6:]"
      ],
      "metadata": {
        "colab": {
          "base_uri": "https://localhost:8080/"
        },
        "id": "Lqw6L_d1ZoLN",
        "outputId": "1574adae-e121-408a-9418-411d01d33ff9"
      },
      "execution_count": 146,
      "outputs": [
        {
          "output_type": "execute_result",
          "data": {
            "text/plain": [
              "20    u\n",
              "21    v\n",
              "22    w\n",
              "23    x\n",
              "24    y\n",
              "25    z\n",
              "dtype: object"
            ]
          },
          "metadata": {},
          "execution_count": 146
        }
      ]
    },
    {
      "cell_type": "markdown",
      "source": [
        "# Accessing Elements by Label"
      ],
      "metadata": {
        "id": "Z2Qg9otraFGD"
      }
    },
    {
      "cell_type": "code",
      "source": [
        "from string import ascii_uppercase"
      ],
      "metadata": {
        "id": "B2rCSrZLZ5r8"
      },
      "execution_count": 147,
      "outputs": []
    },
    {
      "cell_type": "code",
      "source": [
        "ascii_uppercase"
      ],
      "metadata": {
        "colab": {
          "base_uri": "https://localhost:8080/",
          "height": 0
        },
        "id": "AoQl2XDnbHld",
        "outputId": "5c4a67e7-af31-4f54-e82e-4a634712f0cf"
      },
      "execution_count": 148,
      "outputs": [
        {
          "output_type": "execute_result",
          "data": {
            "text/plain": [
              "'ABCDEFGHIJKLMNOPQRSTUVWXYZ'"
            ],
            "application/vnd.google.colaboratory.intrinsic+json": {
              "type": "string"
            }
          },
          "metadata": {},
          "execution_count": 148
        }
      ]
    },
    {
      "cell_type": "code",
      "source": [
        "labeled_alphabet = pd.Series(data = list(ascii_lowercase), index = list(map(lambda i: 'label_'+i, list(ascii_uppercase))))"
      ],
      "metadata": {
        "id": "0xJG6ItNbKEx"
      },
      "execution_count": 149,
      "outputs": []
    },
    {
      "cell_type": "code",
      "source": [
        "labeled_alphabet.head(3)"
      ],
      "metadata": {
        "colab": {
          "base_uri": "https://localhost:8080/"
        },
        "id": "4YE333v_b5UV",
        "outputId": "1594f46e-62ad-4b7c-d5f6-5c0386482acb"
      },
      "execution_count": 150,
      "outputs": [
        {
          "output_type": "execute_result",
          "data": {
            "text/plain": [
              "label_A    a\n",
              "label_B    b\n",
              "label_C    c\n",
              "dtype: object"
            ]
          },
          "metadata": {},
          "execution_count": 150
        }
      ]
    },
    {
      "cell_type": "code",
      "source": [
        "# What is the 1st letter?\n",
        "# What is the 11th letter?\n",
        "# What are the first three letters?\n",
        "# What are the sixth through tenth letters?\n",
        "# What are the last six letters?"
      ],
      "metadata": {
        "id": "L150wnk7cAEV"
      },
      "execution_count": 151,
      "outputs": []
    },
    {
      "cell_type": "code",
      "source": [
        "# 1\n",
        "# labeled_alphabet[0] #the first approach by index position\n",
        "labeled_alphabet['label_A']"
      ],
      "metadata": {
        "colab": {
          "base_uri": "https://localhost:8080/",
          "height": 0
        },
        "id": "PWwiG3TEdCA7",
        "outputId": "f9d9cc10-c15c-4174-b9be-2a00f3637310"
      },
      "execution_count": 152,
      "outputs": [
        {
          "output_type": "execute_result",
          "data": {
            "text/plain": [
              "'a'"
            ],
            "application/vnd.google.colaboratory.intrinsic+json": {
              "type": "string"
            }
          },
          "metadata": {},
          "execution_count": 152
        }
      ]
    },
    {
      "cell_type": "code",
      "source": [
        "# 2\n",
        "# labeled_alphabet[10] #the first approach by index position\n",
        "labeled_alphabet['label_K']"
      ],
      "metadata": {
        "colab": {
          "base_uri": "https://localhost:8080/",
          "height": 0
        },
        "id": "8jHMbSMBdwtE",
        "outputId": "0d8e82c7-a255-49d5-c799-561faee554ee"
      },
      "execution_count": 153,
      "outputs": [
        {
          "output_type": "execute_result",
          "data": {
            "text/plain": [
              "'k'"
            ],
            "application/vnd.google.colaboratory.intrinsic+json": {
              "type": "string"
            }
          },
          "metadata": {},
          "execution_count": 153
        }
      ]
    },
    {
      "cell_type": "code",
      "source": [
        "# 3\n",
        "# labeled_alphabet[:3] #the first approach by index position\n",
        "labeled_alphabet[:'label_C']\n",
        "# Notice how stop is inclusive in labels and exclusive in position"
      ],
      "metadata": {
        "colab": {
          "base_uri": "https://localhost:8080/"
        },
        "id": "TR0YvFTCd2kB",
        "outputId": "141ab3f4-440f-4345-ebc5-e0db2a10fd5b"
      },
      "execution_count": 154,
      "outputs": [
        {
          "output_type": "execute_result",
          "data": {
            "text/plain": [
              "label_A    a\n",
              "label_B    b\n",
              "label_C    c\n",
              "dtype: object"
            ]
          },
          "metadata": {},
          "execution_count": 154
        }
      ]
    },
    {
      "cell_type": "code",
      "source": [
        "# 4\n",
        "# labeled_alphabet[5:10] #the first approach by index position\n",
        "labeled_alphabet['label_F':'label_J']"
      ],
      "metadata": {
        "colab": {
          "base_uri": "https://localhost:8080/"
        },
        "id": "7RfaeOMyeAEd",
        "outputId": "87d4debe-5b88-426f-bbce-871bed43e0b7"
      },
      "execution_count": 155,
      "outputs": [
        {
          "output_type": "execute_result",
          "data": {
            "text/plain": [
              "label_F    f\n",
              "label_G    g\n",
              "label_H    h\n",
              "label_I    i\n",
              "label_J    j\n",
              "dtype: object"
            ]
          },
          "metadata": {},
          "execution_count": 155
        }
      ]
    },
    {
      "cell_type": "code",
      "source": [
        "# 5\n",
        "# labeled_alphabet[-6:] #the first approach by index position\n",
        "labeled_alphabet['label_U':]"
      ],
      "metadata": {
        "colab": {
          "base_uri": "https://localhost:8080/"
        },
        "id": "Od9zneV0fPM5",
        "outputId": "4f1cfa44-a2e0-4449-cda4-a52f64de0068"
      },
      "execution_count": 156,
      "outputs": [
        {
          "output_type": "execute_result",
          "data": {
            "text/plain": [
              "label_U    u\n",
              "label_V    v\n",
              "label_W    w\n",
              "label_X    x\n",
              "label_Y    y\n",
              "label_Z    z\n",
              "dtype: object"
            ]
          },
          "metadata": {},
          "execution_count": 156
        }
      ]
    },
    {
      "cell_type": "markdown",
      "source": [
        "# The add_prefix() and The add_suffix() Methods"
      ],
      "metadata": {
        "id": "WFWlnHMAg1gz"
      }
    },
    {
      "cell_type": "code",
      "source": [
        "alphabet.head(3)"
      ],
      "metadata": {
        "colab": {
          "base_uri": "https://localhost:8080/"
        },
        "id": "3Etn1VYsg9sR",
        "outputId": "c5642ff5-188b-4567-908a-088d898289d1"
      },
      "execution_count": 157,
      "outputs": [
        {
          "output_type": "execute_result",
          "data": {
            "text/plain": [
              "0    a\n",
              "1    b\n",
              "2    c\n",
              "dtype: object"
            ]
          },
          "metadata": {},
          "execution_count": 157
        }
      ]
    },
    {
      "cell_type": "code",
      "source": [
        "alphabet.add_prefix('label_').head(3)"
      ],
      "metadata": {
        "colab": {
          "base_uri": "https://localhost:8080/"
        },
        "id": "Zslu7LecjPkr",
        "outputId": "651bab76-3c59-45a0-8209-dc51e6c36e4e"
      },
      "execution_count": 158,
      "outputs": [
        {
          "output_type": "execute_result",
          "data": {
            "text/plain": [
              "label_0    a\n",
              "label_1    b\n",
              "label_2    c\n",
              "dtype: object"
            ]
          },
          "metadata": {},
          "execution_count": 158
        }
      ]
    },
    {
      "cell_type": "code",
      "source": [
        "alphabet.add_suffix('_end_cool').head(3)"
      ],
      "metadata": {
        "colab": {
          "base_uri": "https://localhost:8080/"
        },
        "id": "XN7-v5nNjVS8",
        "outputId": "82022939-4f2c-4832-ab4a-6bd7fea40437"
      },
      "execution_count": 159,
      "outputs": [
        {
          "output_type": "execute_result",
          "data": {
            "text/plain": [
              "0_end_cool    a\n",
              "1_end_cool    b\n",
              "2_end_cool    c\n",
              "dtype: object"
            ]
          },
          "metadata": {},
          "execution_count": 159
        }
      ]
    },
    {
      "cell_type": "code",
      "source": [
        "# Redoing below logic using add_prefix() method\n",
        "# labeled_alphabet = pd.Series(data = list(ascii_lowercase), index = list(map(lambda i: 'label_'+i, list(ascii_uppercase))))\n",
        "prefix_alphabet = pd.Series(data = list(ascii_lowercase), index = list(ascii_uppercase)).add_prefix('label_')"
      ],
      "metadata": {
        "id": "dS09462rjesZ"
      },
      "execution_count": 160,
      "outputs": []
    },
    {
      "cell_type": "code",
      "source": [
        "prefix_alphabet.head(3)"
      ],
      "metadata": {
        "colab": {
          "base_uri": "https://localhost:8080/"
        },
        "id": "LYPBPJzbj1A3",
        "outputId": "5e6caa89-3369-4b8d-ed06-e3d794469767"
      },
      "execution_count": 161,
      "outputs": [
        {
          "output_type": "execute_result",
          "data": {
            "text/plain": [
              "label_A    a\n",
              "label_B    b\n",
              "label_C    c\n",
              "dtype: object"
            ]
          },
          "metadata": {},
          "execution_count": 161
        }
      ]
    },
    {
      "cell_type": "code",
      "source": [
        "alphabet.head(3)\n",
        "# the original alphabet series is not modified by these methods. It remains intact \n",
        "# we just got a copy of series where the index was modified."
      ],
      "metadata": {
        "colab": {
          "base_uri": "https://localhost:8080/"
        },
        "id": "uAHvit35kF4l",
        "outputId": "a736662e-528d-4cc1-aa35-ac1520f5ac55"
      },
      "execution_count": 162,
      "outputs": [
        {
          "output_type": "execute_result",
          "data": {
            "text/plain": [
              "0    a\n",
              "1    b\n",
              "2    c\n",
              "dtype: object"
            ]
          },
          "metadata": {},
          "execution_count": 162
        }
      ]
    },
    {
      "cell_type": "code",
      "source": [
        "# to actually modify teh series, assign it to the actual variable name:\n",
        "alphabet = alphabet.add_suffix('_end_cool').head(3)"
      ],
      "metadata": {
        "id": "FAO7SYzNl0cL"
      },
      "execution_count": 163,
      "outputs": []
    },
    {
      "cell_type": "code",
      "source": [
        "alphabet.head(3)"
      ],
      "metadata": {
        "colab": {
          "base_uri": "https://localhost:8080/"
        },
        "id": "cNOZq9vIm-YK",
        "outputId": "dbd48ea0-99dc-4599-f731-21a13d310227"
      },
      "execution_count": 164,
      "outputs": [
        {
          "output_type": "execute_result",
          "data": {
            "text/plain": [
              "0_end_cool    a\n",
              "1_end_cool    b\n",
              "2_end_cool    c\n",
              "dtype: object"
            ]
          },
          "metadata": {},
          "execution_count": 164
        }
      ]
    },
    {
      "cell_type": "markdown",
      "source": [
        "# Using Dot Notation"
      ],
      "metadata": {
        "id": "jko8HzOpq69B"
      }
    },
    {
      "cell_type": "code",
      "source": [
        "labeled_alphabet.label_V"
      ],
      "metadata": {
        "colab": {
          "base_uri": "https://localhost:8080/",
          "height": 0
        },
        "id": "zkXH8VTJq-tD",
        "outputId": "25c67bed-d701-4b1b-8ac2-f22b369caa03"
      },
      "execution_count": 165,
      "outputs": [
        {
          "output_type": "execute_result",
          "data": {
            "text/plain": [
              "'v'"
            ],
            "application/vnd.google.colaboratory.intrinsic+json": {
              "type": "string"
            }
          },
          "metadata": {},
          "execution_count": 165
        }
      ]
    },
    {
      "cell_type": "code",
      "source": [
        "labeled_alphabet['label_V']"
      ],
      "metadata": {
        "colab": {
          "base_uri": "https://localhost:8080/",
          "height": 0
        },
        "id": "MAKhuHkkv96k",
        "outputId": "d80abfd3-3b53-41ec-bf50-427f31a3be5b"
      },
      "execution_count": 166,
      "outputs": [
        {
          "output_type": "execute_result",
          "data": {
            "text/plain": [
              "'v'"
            ],
            "application/vnd.google.colaboratory.intrinsic+json": {
              "type": "string"
            }
          },
          "metadata": {},
          "execution_count": 166
        }
      ]
    },
    {
      "cell_type": "code",
      "source": [
        "labeled_alphabet['label_V':'label_Y']"
      ],
      "metadata": {
        "colab": {
          "base_uri": "https://localhost:8080/"
        },
        "id": "ISFl4C0OwB4c",
        "outputId": "d0d87230-c6cd-4f3f-88b8-38d0f69d11cd"
      },
      "execution_count": 167,
      "outputs": [
        {
          "output_type": "execute_result",
          "data": {
            "text/plain": [
              "label_V    v\n",
              "label_W    w\n",
              "label_X    x\n",
              "label_Y    y\n",
              "dtype: object"
            ]
          },
          "metadata": {},
          "execution_count": 167
        }
      ]
    },
    {
      "cell_type": "code",
      "source": [
        "# labeled_alphabet.label_V:label_Y # We will get NameError: name 'label_Y' is not defined"
      ],
      "metadata": {
        "id": "vvE53rqBwG6H"
      },
      "execution_count": 168,
      "outputs": []
    },
    {
      "cell_type": "markdown",
      "source": [
        "# Boolean Masks and the .loc Indexer"
      ],
      "metadata": {
        "id": "LkWvpWnowlkM"
      }
    },
    {
      "cell_type": "code",
      "source": [
        "labeled_alphabet['label_F':'label_J']"
      ],
      "metadata": {
        "id": "cCElS1DEwqzQ",
        "colab": {
          "base_uri": "https://localhost:8080/"
        },
        "outputId": "eb2ebdd4-c34b-4790-d02b-bd3c3314d13f"
      },
      "execution_count": 183,
      "outputs": [
        {
          "output_type": "execute_result",
          "data": {
            "text/plain": [
              "label_F    f\n",
              "label_G    g\n",
              "label_H    h\n",
              "label_I    i\n",
              "label_J    j\n",
              "dtype: object"
            ]
          },
          "metadata": {},
          "execution_count": 183
        }
      ]
    },
    {
      "cell_type": "code",
      "source": [
        "labeled_alphabet.loc['label_F':'label_J']"
      ],
      "metadata": {
        "colab": {
          "base_uri": "https://localhost:8080/"
        },
        "id": "_V7nLGqFLlgL",
        "outputId": "afce7641-de53-43fd-ba37-dd6a39189a00"
      },
      "execution_count": 184,
      "outputs": [
        {
          "output_type": "execute_result",
          "data": {
            "text/plain": [
              "label_F    f\n",
              "label_G    g\n",
              "label_H    h\n",
              "label_I    i\n",
              "label_J    j\n",
              "dtype: object"
            ]
          },
          "metadata": {},
          "execution_count": 184
        }
      ]
    },
    {
      "cell_type": "code",
      "source": [
        "books_series"
      ],
      "metadata": {
        "colab": {
          "base_uri": "https://localhost:8080/"
        },
        "id": "iSbD69gaLqkF",
        "outputId": "2babf5d8-e19a-4a82-a890-707dca2c9664"
      },
      "execution_count": 185,
      "outputs": [
        {
          "output_type": "execute_result",
          "data": {
            "text/plain": [
              "My Books\n",
              "0      Thursday Murder Club\n",
              "1             Almost Single\n",
              "2    The Fault in our stars\n",
              "Name: my books read in 2022, dtype: object"
            ]
          },
          "metadata": {},
          "execution_count": 185
        }
      ]
    },
    {
      "cell_type": "code",
      "source": [
        "books_series.loc[[True, True, True]]"
      ],
      "metadata": {
        "colab": {
          "base_uri": "https://localhost:8080/"
        },
        "id": "cSbwy9cIL1pL",
        "outputId": "50de4e3f-8ce3-4ea0-99c2-eb9d6009f66e"
      },
      "execution_count": 186,
      "outputs": [
        {
          "output_type": "execute_result",
          "data": {
            "text/plain": [
              "My Books\n",
              "0      Thursday Murder Club\n",
              "1             Almost Single\n",
              "2    The Fault in our stars\n",
              "Name: my books read in 2022, dtype: object"
            ]
          },
          "metadata": {},
          "execution_count": 186
        }
      ]
    },
    {
      "cell_type": "code",
      "source": [
        "books_series.loc[[True, False, True]]"
      ],
      "metadata": {
        "colab": {
          "base_uri": "https://localhost:8080/"
        },
        "id": "HLm9cQ4DPk96",
        "outputId": "43ee031d-4872-4f91-ffda-98401aa1fd07"
      },
      "execution_count": 187,
      "outputs": [
        {
          "output_type": "execute_result",
          "data": {
            "text/plain": [
              "My Books\n",
              "0      Thursday Murder Club\n",
              "2    The Fault in our stars\n",
              "Name: my books read in 2022, dtype: object"
            ]
          },
          "metadata": {},
          "execution_count": 187
        }
      ]
    },
    {
      "cell_type": "code",
      "source": [
        "# books_series.loc[[True, False]]\n",
        "# length of boolean mass muct match the length of the series"
      ],
      "metadata": {
        "id": "BbyitDkSPpBH"
      },
      "execution_count": 188,
      "outputs": []
    },
    {
      "cell_type": "code",
      "source": [
        "labeled_alphabet.loc[[True for i in range(labeled_alphabet.size)]]"
      ],
      "metadata": {
        "colab": {
          "base_uri": "https://localhost:8080/"
        },
        "id": "-3x7XzEsQ8PJ",
        "outputId": "50d3fb31-3014-49de-f00c-f9b3d47a8058"
      },
      "execution_count": 189,
      "outputs": [
        {
          "output_type": "execute_result",
          "data": {
            "text/plain": [
              "label_A    a\n",
              "label_B    b\n",
              "label_C    c\n",
              "label_D    d\n",
              "label_E    e\n",
              "label_F    f\n",
              "label_G    g\n",
              "label_H    h\n",
              "label_I    i\n",
              "label_J    j\n",
              "label_K    k\n",
              "label_L    l\n",
              "label_M    m\n",
              "label_N    n\n",
              "label_O    o\n",
              "label_P    p\n",
              "label_Q    q\n",
              "label_R    r\n",
              "label_S    s\n",
              "label_T    t\n",
              "label_U    u\n",
              "label_V    v\n",
              "label_W    w\n",
              "label_X    x\n",
              "label_Y    y\n",
              "label_Z    z\n",
              "dtype: object"
            ]
          },
          "metadata": {},
          "execution_count": 189
        }
      ]
    },
    {
      "cell_type": "code",
      "source": [
        "labeled_alphabet[[True for i in range(labeled_alphabet.size)]]"
      ],
      "metadata": {
        "colab": {
          "base_uri": "https://localhost:8080/"
        },
        "id": "K0euxJUWRBvz",
        "outputId": "e672b838-562f-489c-a00a-46b5eec71be6"
      },
      "execution_count": 190,
      "outputs": [
        {
          "output_type": "execute_result",
          "data": {
            "text/plain": [
              "label_A    a\n",
              "label_B    b\n",
              "label_C    c\n",
              "label_D    d\n",
              "label_E    e\n",
              "label_F    f\n",
              "label_G    g\n",
              "label_H    h\n",
              "label_I    i\n",
              "label_J    j\n",
              "label_K    k\n",
              "label_L    l\n",
              "label_M    m\n",
              "label_N    n\n",
              "label_O    o\n",
              "label_P    p\n",
              "label_Q    q\n",
              "label_R    r\n",
              "label_S    s\n",
              "label_T    t\n",
              "label_U    u\n",
              "label_V    v\n",
              "label_W    w\n",
              "label_X    x\n",
              "label_Y    y\n",
              "label_Z    z\n",
              "dtype: object"
            ]
          },
          "metadata": {},
          "execution_count": 190
        }
      ]
    },
    {
      "cell_type": "code",
      "source": [
        "# Extract every odd items:\n",
        "labeled_alphabet.loc[[True if i%2 == 0 else False for i in range(labeled_alphabet.size)]]"
      ],
      "metadata": {
        "colab": {
          "base_uri": "https://localhost:8080/"
        },
        "id": "Y1wE_qn0RXTo",
        "outputId": "0fb58f3e-4c82-4e49-cb02-7411d999b18d"
      },
      "execution_count": 191,
      "outputs": [
        {
          "output_type": "execute_result",
          "data": {
            "text/plain": [
              "label_A    a\n",
              "label_C    c\n",
              "label_E    e\n",
              "label_G    g\n",
              "label_I    i\n",
              "label_K    k\n",
              "label_M    m\n",
              "label_O    o\n",
              "label_Q    q\n",
              "label_S    s\n",
              "label_U    u\n",
              "label_W    w\n",
              "label_Y    y\n",
              "dtype: object"
            ]
          },
          "metadata": {},
          "execution_count": 191
        }
      ]
    },
    {
      "cell_type": "markdown",
      "source": [
        "# Extracting by Position with .iloc"
      ],
      "metadata": {
        "id": "dFwf2YdiTkMe"
      }
    },
    {
      "cell_type": "code",
      "source": [
        "labeled_alphabet.iloc[0]"
      ],
      "metadata": {
        "colab": {
          "base_uri": "https://localhost:8080/",
          "height": 35
        },
        "id": "O1zwBW_CTnjK",
        "outputId": "31086d16-0dd7-4284-9d8b-e7d2b4c2de6c"
      },
      "execution_count": 193,
      "outputs": [
        {
          "output_type": "execute_result",
          "data": {
            "text/plain": [
              "'a'"
            ],
            "application/vnd.google.colaboratory.intrinsic+json": {
              "type": "string"
            }
          },
          "metadata": {},
          "execution_count": 193
        }
      ]
    },
    {
      "cell_type": "code",
      "source": [
        "labeled_alphabet.iloc[1:3]"
      ],
      "metadata": {
        "colab": {
          "base_uri": "https://localhost:8080/"
        },
        "id": "G_tXR4LlYwa0",
        "outputId": "45f00dae-2528-4683-ae1b-9479e6dab858"
      },
      "execution_count": 194,
      "outputs": [
        {
          "output_type": "execute_result",
          "data": {
            "text/plain": [
              "label_B    b\n",
              "label_C    c\n",
              "dtype: object"
            ]
          },
          "metadata": {},
          "execution_count": 194
        }
      ]
    },
    {
      "cell_type": "code",
      "source": [
        "labeled_alphabet[1:3]\n",
        "# similar to index slicing if iloc is not used."
      ],
      "metadata": {
        "colab": {
          "base_uri": "https://localhost:8080/"
        },
        "id": "pahNtfcKZaot",
        "outputId": "654e7fb8-1da8-4575-904d-c0d4bef70bac"
      },
      "execution_count": 197,
      "outputs": [
        {
          "output_type": "execute_result",
          "data": {
            "text/plain": [
              "label_B    b\n",
              "label_C    c\n",
              "dtype: object"
            ]
          },
          "metadata": {},
          "execution_count": 197
        }
      ]
    },
    {
      "cell_type": "code",
      "source": [
        "labeled_alphabet.iloc[[1,4,6]]"
      ],
      "metadata": {
        "colab": {
          "base_uri": "https://localhost:8080/"
        },
        "id": "6AZ0U9K-ZVGw",
        "outputId": "9329986b-c25e-49af-ecd4-25c7f7b83b72"
      },
      "execution_count": 195,
      "outputs": [
        {
          "output_type": "execute_result",
          "data": {
            "text/plain": [
              "label_B    b\n",
              "label_E    e\n",
              "label_G    g\n",
              "dtype: object"
            ]
          },
          "metadata": {},
          "execution_count": 195
        }
      ]
    },
    {
      "cell_type": "markdown",
      "source": [
        "# Bonus: Using Callables with .loc And .iloc"
      ],
      "metadata": {
        "id": "w2Z5OK0sasHl"
      }
    },
    {
      "cell_type": "code",
      "source": [],
      "metadata": {
        "id": "5WTwltfsaykJ"
      },
      "execution_count": null,
      "outputs": []
    }
  ]
}