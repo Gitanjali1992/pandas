{
  "nbformat": 4,
  "nbformat_minor": 0,
  "metadata": {
    "colab": {
      "provenance": [],
      "collapsed_sections": [
        "IUCv2axICAce",
        "X6Ts8zo_I9Qc",
        "MflQSTMWM3ZP",
        "D4RG6lrjXQIz",
        "3nySu6e0cyra",
        "BTzjnQ5Aiimb",
        "47FD3yoHwla0",
        "2Kij3KUq8vpv",
        "czp1yc40GuoB",
        "YvKuCkMOTlGU",
        "Z2Qg9otraFGD",
        "WFWlnHMAg1gz",
        "jko8HzOpq69B"
      ],
      "authorship_tag": "ABX9TyNIVavOaEMdSRkEJ8G7Npr6",
      "include_colab_link": true
    },
    "kernelspec": {
      "name": "python3",
      "display_name": "Python 3"
    },
    "language_info": {
      "name": "python"
    }
  },
  "cells": [
    {
      "cell_type": "markdown",
      "metadata": {
        "id": "view-in-github",
        "colab_type": "text"
      },
      "source": [
        "<a href=\"https://colab.research.google.com/github/Gitanjali1992/pandas/blob/main/Series_At_a_Glance.ipynb\" target=\"_parent\"><img src=\"https://colab.research.google.com/assets/colab-badge.svg\" alt=\"Open In Colab\"/></a>"
      ]
    },
    {
      "cell_type": "code",
      "execution_count": 1,
      "metadata": {
        "id": "_2eKQB6TBvgT"
      },
      "outputs": [],
      "source": [
        "import pandas as pd"
      ]
    },
    {
      "cell_type": "markdown",
      "source": [
        "## What is a Series?"
      ],
      "metadata": {
        "id": "IUCv2axICAce"
      }
    },
    {
      "cell_type": "code",
      "source": [
        "students = ['Gitanjali','Abhay','Dipti']"
      ],
      "metadata": {
        "id": "S-hNj9b0B9pG"
      },
      "execution_count": 12,
      "outputs": []
    },
    {
      "cell_type": "code",
      "source": [
        "pd.Series(students)"
      ],
      "metadata": {
        "colab": {
          "base_uri": "https://localhost:8080/"
        },
        "id": "4TDhN3S4CtRg",
        "outputId": "3d561c46-9643-4212-cd31-f10b13c7136b"
      },
      "execution_count": 13,
      "outputs": [
        {
          "output_type": "execute_result",
          "data": {
            "text/plain": [
              "0    Gitanjali\n",
              "1        Abhay\n",
              "2        Dipti\n",
              "dtype: object"
            ]
          },
          "metadata": {},
          "execution_count": 13
        }
      ]
    },
    {
      "cell_type": "code",
      "source": [
        "age = [30,21,28]"
      ],
      "metadata": {
        "id": "-SZXoNjgC6X6"
      },
      "execution_count": 14,
      "outputs": []
    },
    {
      "cell_type": "code",
      "source": [
        "pd.Series(age)"
      ],
      "metadata": {
        "colab": {
          "base_uri": "https://localhost:8080/"
        },
        "id": "aTwXTvcGDBFW",
        "outputId": "f35dea84-45a7-4e5c-da5e-95e02fe42589"
      },
      "execution_count": 15,
      "outputs": [
        {
          "output_type": "execute_result",
          "data": {
            "text/plain": [
              "0    30\n",
              "1    21\n",
              "2    28\n",
              "dtype: int64"
            ]
          },
          "metadata": {},
          "execution_count": 15
        }
      ]
    },
    {
      "cell_type": "code",
      "source": [
        "height = [150,162.5,152]"
      ],
      "metadata": {
        "id": "Ft_mTFxzDDX4"
      },
      "execution_count": 16,
      "outputs": []
    },
    {
      "cell_type": "code",
      "source": [
        "pd.Series(height)"
      ],
      "metadata": {
        "colab": {
          "base_uri": "https://localhost:8080/"
        },
        "id": "NeCjL6Q9DMtI",
        "outputId": "ae10ed4d-49b8-4622-b9ec-632030bfc904"
      },
      "execution_count": 17,
      "outputs": [
        {
          "output_type": "execute_result",
          "data": {
            "text/plain": [
              "0    150.0\n",
              "1    162.5\n",
              "2    152.0\n",
              "dtype: float64"
            ]
          },
          "metadata": {},
          "execution_count": 17
        }
      ]
    },
    {
      "cell_type": "markdown",
      "source": [
        "Unlike numpy and darrays, Pandas Series **supports mixed datatypes**"
      ],
      "metadata": {
        "id": "BxtawsLMHkwz"
      }
    },
    {
      "cell_type": "code",
      "source": [
        "mixed = [True, 'say', {'my_motivation': 100}]"
      ],
      "metadata": {
        "id": "KZjr65tHDO02"
      },
      "execution_count": 18,
      "outputs": []
    },
    {
      "cell_type": "code",
      "source": [
        "pd.Series(mixed)"
      ],
      "metadata": {
        "colab": {
          "base_uri": "https://localhost:8080/"
        },
        "id": "iPvd37QqHeYx",
        "outputId": "ea875ff6-8c20-4b47-ce8c-ca2ecb98ad59"
      },
      "execution_count": 19,
      "outputs": [
        {
          "output_type": "execute_result",
          "data": {
            "text/plain": [
              "0                      True\n",
              "1                       say\n",
              "2    {'my_motivation': 100}\n",
              "dtype: object"
            ]
          },
          "metadata": {},
          "execution_count": 19
        }
      ]
    },
    {
      "cell_type": "markdown",
      "source": [
        "# Parameters vs. Arguments"
      ],
      "metadata": {
        "id": "X6Ts8zo_I9Qc"
      }
    },
    {
      "cell_type": "code",
      "source": [
        "pd.Series(students)"
      ],
      "metadata": {
        "colab": {
          "base_uri": "https://localhost:8080/"
        },
        "id": "4uVVA-qSJCDi",
        "outputId": "d152ed60-b2af-48f1-e16d-b75ecac73a90"
      },
      "execution_count": 20,
      "outputs": [
        {
          "output_type": "execute_result",
          "data": {
            "text/plain": [
              "0    Gitanjali\n",
              "1        Abhay\n",
              "2        Dipti\n",
              "dtype: object"
            ]
          },
          "metadata": {},
          "execution_count": 20
        }
      ]
    },
    {
      "cell_type": "code",
      "source": [
        "pd.Series(data=students)"
      ],
      "metadata": {
        "colab": {
          "base_uri": "https://localhost:8080/"
        },
        "id": "U5uZfOhAMIyK",
        "outputId": "a5c65c65-9d77-4a63-e0f6-45b2e7f3e088"
      },
      "execution_count": 21,
      "outputs": [
        {
          "output_type": "execute_result",
          "data": {
            "text/plain": [
              "0    Gitanjali\n",
              "1        Abhay\n",
              "2        Dipti\n",
              "dtype: object"
            ]
          },
          "metadata": {},
          "execution_count": 21
        }
      ]
    },
    {
      "cell_type": "markdown",
      "source": [
        "# What 's in the data?"
      ],
      "metadata": {
        "id": "MflQSTMWM3ZP"
      }
    },
    {
      "cell_type": "code",
      "source": [
        "books_list = ['Thursday Murder Club', 'Almost Single', 'The Fault in our stars']"
      ],
      "metadata": {
        "id": "cmjiNuyrM7W9"
      },
      "execution_count": 22,
      "outputs": []
    },
    {
      "cell_type": "code",
      "source": [
        "list_s = pd.Series(books_list)"
      ],
      "metadata": {
        "id": "924XTakLNQzs"
      },
      "execution_count": 23,
      "outputs": []
    },
    {
      "cell_type": "code",
      "source": [
        "books_dict = {0: 'Thursday Murder Club', 1: 'Almost Single', 2: 'The Fault in our stars'}\n",
        "books_dict2 = {1: 'Thursday Murder Club', 2: 'Almost Single', 3: 'The Fault in our stars'}"
      ],
      "metadata": {
        "id": "6jiqWOuQNTCI"
      },
      "execution_count": 24,
      "outputs": []
    },
    {
      "cell_type": "code",
      "source": [
        "dict_s = pd.Series(books_dict)"
      ],
      "metadata": {
        "id": "Jn3M7eJNQFQr"
      },
      "execution_count": 25,
      "outputs": []
    },
    {
      "cell_type": "code",
      "source": [
        "pd.Series(books_dict2)"
      ],
      "metadata": {
        "colab": {
          "base_uri": "https://localhost:8080/"
        },
        "id": "gn-jBh1gQJES",
        "outputId": "6f54242c-ccec-4bab-da61-577f845cc4a4"
      },
      "execution_count": 26,
      "outputs": [
        {
          "output_type": "execute_result",
          "data": {
            "text/plain": [
              "1      Thursday Murder Club\n",
              "2             Almost Single\n",
              "3    The Fault in our stars\n",
              "dtype: object"
            ]
          },
          "metadata": {},
          "execution_count": 26
        }
      ]
    },
    {
      "cell_type": "code",
      "source": [
        "list_s.equals(dict_s)"
      ],
      "metadata": {
        "colab": {
          "base_uri": "https://localhost:8080/"
        },
        "id": "GkkIF2kGQ7Ts",
        "outputId": "dcf2d472-a48a-479d-a80c-0fbed57f4d73"
      },
      "execution_count": 27,
      "outputs": [
        {
          "output_type": "execute_result",
          "data": {
            "text/plain": [
              "True"
            ]
          },
          "metadata": {},
          "execution_count": 27
        }
      ]
    },
    {
      "cell_type": "code",
      "source": [
        "pd.Series(1992)"
      ],
      "metadata": {
        "colab": {
          "base_uri": "https://localhost:8080/"
        },
        "id": "eKg6DJ2VSbpk",
        "outputId": "781500fc-57d1-4991-89c1-2d01e8487096"
      },
      "execution_count": 28,
      "outputs": [
        {
          "output_type": "execute_result",
          "data": {
            "text/plain": [
              "0    1992\n",
              "dtype: int64"
            ]
          },
          "metadata": {},
          "execution_count": 28
        }
      ]
    },
    {
      "cell_type": "code",
      "source": [
        "pd.Series('Gitanjali')"
      ],
      "metadata": {
        "colab": {
          "base_uri": "https://localhost:8080/"
        },
        "id": "3fICLJsMW1jr",
        "outputId": "6a50ea58-cb87-459e-e7c2-bbe89ad3f849"
      },
      "execution_count": 29,
      "outputs": [
        {
          "output_type": "execute_result",
          "data": {
            "text/plain": [
              "0    Gitanjali\n",
              "dtype: object"
            ]
          },
          "metadata": {},
          "execution_count": 29
        }
      ]
    },
    {
      "cell_type": "markdown",
      "source": [
        "# The .dtype Attribute"
      ],
      "metadata": {
        "id": "D4RG6lrjXQIz"
      }
    },
    {
      "cell_type": "code",
      "source": [
        "pd.Series(age)"
      ],
      "metadata": {
        "colab": {
          "base_uri": "https://localhost:8080/"
        },
        "id": "VNLPZzBKXV6j",
        "outputId": "9b0562cc-2ec7-48ff-e3db-374ca721c1e3"
      },
      "execution_count": 30,
      "outputs": [
        {
          "output_type": "execute_result",
          "data": {
            "text/plain": [
              "0    30\n",
              "1    21\n",
              "2    28\n",
              "dtype: int64"
            ]
          },
          "metadata": {},
          "execution_count": 30
        }
      ]
    },
    {
      "cell_type": "markdown",
      "source": [
        "Pandas automatically infers the dtype of series based on data we provided to Series constructor.\n",
        "\n",
        "However, we can specify dtype ourselves."
      ],
      "metadata": {
        "id": "Ve-ZZOHzYuyB"
      }
    },
    {
      "cell_type": "code",
      "source": [
        "pd.Series(age, dtype='float')"
      ],
      "metadata": {
        "colab": {
          "base_uri": "https://localhost:8080/"
        },
        "id": "r-yjP6fYYhvn",
        "outputId": "9a903310-311b-4b98-93c0-533c43b61259"
      },
      "execution_count": 31,
      "outputs": [
        {
          "output_type": "execute_result",
          "data": {
            "text/plain": [
              "0    30.0\n",
              "1    21.0\n",
              "2    28.0\n",
              "dtype: float64"
            ]
          },
          "metadata": {},
          "execution_count": 31
        }
      ]
    },
    {
      "cell_type": "code",
      "source": [
        "name_series = pd.Series(students)"
      ],
      "metadata": {
        "id": "N2IALQCuYsOs"
      },
      "execution_count": 32,
      "outputs": []
    },
    {
      "cell_type": "code",
      "source": [
        "name_series"
      ],
      "metadata": {
        "colab": {
          "base_uri": "https://localhost:8080/"
        },
        "id": "dZmjyN-paTLG",
        "outputId": "5e38cc30-c26a-4531-f627-f203f59cbbc1"
      },
      "execution_count": 33,
      "outputs": [
        {
          "output_type": "execute_result",
          "data": {
            "text/plain": [
              "0    Gitanjali\n",
              "1        Abhay\n",
              "2        Dipti\n",
              "dtype: object"
            ]
          },
          "metadata": {},
          "execution_count": 33
        }
      ]
    },
    {
      "cell_type": "code",
      "source": [
        "name_series.dtype"
      ],
      "metadata": {
        "colab": {
          "base_uri": "https://localhost:8080/"
        },
        "id": "WjK_g7Xnabqw",
        "outputId": "14e61826-a1ef-4a50-85c0-e4a0bcb771b5"
      },
      "execution_count": 34,
      "outputs": [
        {
          "output_type": "execute_result",
          "data": {
            "text/plain": [
              "dtype('O')"
            ]
          },
          "metadata": {},
          "execution_count": 34
        }
      ]
    },
    {
      "cell_type": "code",
      "source": [
        "age_series = pd.Series(age)"
      ],
      "metadata": {
        "id": "gxLHrXXfaew0"
      },
      "execution_count": 35,
      "outputs": []
    },
    {
      "cell_type": "code",
      "source": [
        "age_series"
      ],
      "metadata": {
        "colab": {
          "base_uri": "https://localhost:8080/"
        },
        "id": "S4ph3eVca1WK",
        "outputId": "00d55a99-34ac-4cbe-867a-b258b6b0952c"
      },
      "execution_count": 36,
      "outputs": [
        {
          "output_type": "execute_result",
          "data": {
            "text/plain": [
              "0    30\n",
              "1    21\n",
              "2    28\n",
              "dtype: int64"
            ]
          },
          "metadata": {},
          "execution_count": 36
        }
      ]
    },
    {
      "cell_type": "code",
      "source": [
        "age_series.dtype"
      ],
      "metadata": {
        "colab": {
          "base_uri": "https://localhost:8080/"
        },
        "id": "L8gyr8gQa3Tk",
        "outputId": "9594089e-f032-4f21-801a-e047dc86ca5e"
      },
      "execution_count": 37,
      "outputs": [
        {
          "output_type": "execute_result",
          "data": {
            "text/plain": [
              "dtype('int64')"
            ]
          },
          "metadata": {},
          "execution_count": 37
        }
      ]
    },
    {
      "cell_type": "code",
      "source": [
        "height_series = pd.Series(height)"
      ],
      "metadata": {
        "id": "2j4T8CAda5UW"
      },
      "execution_count": 38,
      "outputs": []
    },
    {
      "cell_type": "code",
      "source": [
        "height_series.dtype"
      ],
      "metadata": {
        "colab": {
          "base_uri": "https://localhost:8080/"
        },
        "id": "7gVzWe9lbUv1",
        "outputId": "06cf5124-0edd-47e6-ac9a-0e2573caa567"
      },
      "execution_count": 39,
      "outputs": [
        {
          "output_type": "execute_result",
          "data": {
            "text/plain": [
              "dtype('float64')"
            ]
          },
          "metadata": {},
          "execution_count": 39
        }
      ]
    },
    {
      "cell_type": "markdown",
      "source": [
        "# What is dtype('O'), Really?\n",
        "Mostly to do with:\n",
        "- numpy only dealing with homogeneous(of same fixed size in memory) multi-dimensional arrays.\n",
        "- Strings not being homogeneous or of fixed size."
      ],
      "metadata": {
        "id": "3nySu6e0cyra"
      }
    },
    {
      "cell_type": "code",
      "source": [
        "heights2 = [120.4, '102.5',167.8]"
      ],
      "metadata": {
        "id": "qTLAA299bXCl"
      },
      "execution_count": 40,
      "outputs": []
    },
    {
      "cell_type": "code",
      "source": [
        "pd.Series(heights2)"
      ],
      "metadata": {
        "colab": {
          "base_uri": "https://localhost:8080/"
        },
        "id": "nEArp5L0hZ13",
        "outputId": "b740fa6a-d3c1-48f0-e1a0-958699c5b4d2"
      },
      "execution_count": 41,
      "outputs": [
        {
          "output_type": "execute_result",
          "data": {
            "text/plain": [
              "0    120.4\n",
              "1    102.5\n",
              "2    167.8\n",
              "dtype: object"
            ]
          },
          "metadata": {},
          "execution_count": 41
        }
      ]
    },
    {
      "cell_type": "markdown",
      "source": [
        "# Index and RangeIndex\n",
        "- Create Custome index/labels\n",
        "- When not specified, Pandas creates immutable RangeIndex for performance optimization reasons "
      ],
      "metadata": {
        "id": "BTzjnQ5Aiimb"
      }
    },
    {
      "cell_type": "code",
      "source": [
        "books_list"
      ],
      "metadata": {
        "colab": {
          "base_uri": "https://localhost:8080/"
        },
        "id": "5GgyuYTdio3i",
        "outputId": "2d8bf1fe-84ef-41e4-98c7-3c8d5fd04bfb"
      },
      "execution_count": 42,
      "outputs": [
        {
          "output_type": "execute_result",
          "data": {
            "text/plain": [
              "['Thursday Murder Club', 'Almost Single', 'The Fault in our stars']"
            ]
          },
          "metadata": {},
          "execution_count": 42
        }
      ]
    },
    {
      "cell_type": "code",
      "source": [
        "list_s"
      ],
      "metadata": {
        "colab": {
          "base_uri": "https://localhost:8080/"
        },
        "id": "MK7g5CTAjl6x",
        "outputId": "9cdc6a06-3e74-439f-e2a9-243362808fcc"
      },
      "execution_count": 43,
      "outputs": [
        {
          "output_type": "execute_result",
          "data": {
            "text/plain": [
              "0      Thursday Murder Club\n",
              "1             Almost Single\n",
              "2    The Fault in our stars\n",
              "dtype: object"
            ]
          },
          "metadata": {},
          "execution_count": 43
        }
      ]
    },
    {
      "cell_type": "markdown",
      "source": [
        "We can provide our own labels using \"Index\" parameter of pd.Series() constructor."
      ],
      "metadata": {
        "id": "B2C4LenulZfA"
      }
    },
    {
      "cell_type": "code",
      "source": [
        "# using keyword/named arguments\n",
        "pd.Series(data=books_list, index=['Thriller', 'Humour', 'Romantic'])"
      ],
      "metadata": {
        "colab": {
          "base_uri": "https://localhost:8080/"
        },
        "id": "xXhKXurdjm2k",
        "outputId": "41d0eb1b-98b0-496a-c92c-57e7ec8f7df4"
      },
      "execution_count": 44,
      "outputs": [
        {
          "output_type": "execute_result",
          "data": {
            "text/plain": [
              "Thriller      Thursday Murder Club\n",
              "Humour               Almost Single\n",
              "Romantic    The Fault in our stars\n",
              "dtype: object"
            ]
          },
          "metadata": {},
          "execution_count": 44
        }
      ]
    },
    {
      "cell_type": "code",
      "source": [
        "# Using positional arguments\n",
        "pd.Series(books_list, ['Thriller', 'Humour', 'Romantic'])"
      ],
      "metadata": {
        "colab": {
          "base_uri": "https://localhost:8080/"
        },
        "id": "9rBRmO6jlW6q",
        "outputId": "f31cfa0b-3ec8-483c-fed6-dc5d1f64d83c"
      },
      "execution_count": 45,
      "outputs": [
        {
          "output_type": "execute_result",
          "data": {
            "text/plain": [
              "Thriller      Thursday Murder Club\n",
              "Humour               Almost Single\n",
              "Romantic    The Fault in our stars\n",
              "dtype: object"
            ]
          },
          "metadata": {},
          "execution_count": 45
        }
      ]
    },
    {
      "cell_type": "code",
      "source": [
        "# using mixed arguments\n",
        "pd.Series(books_list, ['Thriller', 'Humour', 'Romantic'], dtype = 'object')"
      ],
      "metadata": {
        "colab": {
          "base_uri": "https://localhost:8080/"
        },
        "id": "m6FRrhLal-3A",
        "outputId": "c107a357-c791-4cf6-aec5-f865aca7ae8d"
      },
      "execution_count": 46,
      "outputs": [
        {
          "output_type": "execute_result",
          "data": {
            "text/plain": [
              "Thriller      Thursday Murder Club\n",
              "Humour               Almost Single\n",
              "Romantic    The Fault in our stars\n",
              "dtype: object"
            ]
          },
          "metadata": {},
          "execution_count": 46
        }
      ]
    },
    {
      "cell_type": "code",
      "source": [
        "pd.__version__"
      ],
      "metadata": {
        "colab": {
          "base_uri": "https://localhost:8080/",
          "height": 0
        },
        "id": "BCkh5c1RmqBH",
        "outputId": "41d50ad2-5318-4b8f-ff05-c0fbe468195e"
      },
      "execution_count": 47,
      "outputs": [
        {
          "output_type": "execute_result",
          "data": {
            "text/plain": [
              "'1.3.5'"
            ],
            "application/vnd.google.colaboratory.intrinsic+json": {
              "type": "string"
            }
          },
          "metadata": {},
          "execution_count": 47
        }
      ]
    },
    {
      "cell_type": "code",
      "source": [
        "# stringdtype() from pandas version 1 and later\n",
        "pd.Series(books_list, ['Thriller', 'Humour', 'Romantic'], dtype = 'string')"
      ],
      "metadata": {
        "colab": {
          "base_uri": "https://localhost:8080/"
        },
        "id": "-8faZthCnCx4",
        "outputId": "e2d4e646-51ca-4022-b6b2-79f36ffca83a"
      },
      "execution_count": 48,
      "outputs": [
        {
          "output_type": "execute_result",
          "data": {
            "text/plain": [
              "Thriller      Thursday Murder Club\n",
              "Humour               Almost Single\n",
              "Romantic    The Fault in our stars\n",
              "dtype: string"
            ]
          },
          "metadata": {},
          "execution_count": 48
        }
      ]
    },
    {
      "cell_type": "markdown",
      "source": [
        "RangeIndex --> x.index\n",
        "- When we don't specify an index explicitly. \n",
        "- Is sequence of integers starting from 0\n",
        "- Built-in Pandas object"
      ],
      "metadata": {
        "id": "3Iy2LuiBpVyX"
      }
    },
    {
      "cell_type": "code",
      "source": [
        "list_s.index"
      ],
      "metadata": {
        "colab": {
          "base_uri": "https://localhost:8080/"
        },
        "id": "5LUguOpdoUFO",
        "outputId": "ea317b6d-c08a-4d4b-bfb8-59f6bb0d71fd"
      },
      "execution_count": 49,
      "outputs": [
        {
          "output_type": "execute_result",
          "data": {
            "text/plain": [
              "RangeIndex(start=0, stop=3, step=1)"
            ]
          },
          "metadata": {},
          "execution_count": 49
        }
      ]
    },
    {
      "cell_type": "code",
      "source": [
        "type(list_s.index)"
      ],
      "metadata": {
        "colab": {
          "base_uri": "https://localhost:8080/"
        },
        "id": "KGOnyqlepQzB",
        "outputId": "ef38de62-6f76-41a7-b7d4-de451b15a97e"
      },
      "execution_count": 50,
      "outputs": [
        {
          "output_type": "execute_result",
          "data": {
            "text/plain": [
              "pandas.core.indexes.range.RangeIndex"
            ]
          },
          "metadata": {},
          "execution_count": 50
        }
      ]
    },
    {
      "cell_type": "markdown",
      "source": [
        "Creating our own Ranging (RangeIndex)"
      ],
      "metadata": {
        "id": "PGeql2ffsNXO"
      }
    },
    {
      "cell_type": "code",
      "source": [
        "pd.RangeIndex(start=4, stop=7, step=1)"
      ],
      "metadata": {
        "colab": {
          "base_uri": "https://localhost:8080/"
        },
        "id": "CTfhQhZqrWoh",
        "outputId": "640c755b-6e55-4b95-a90d-e56751f8337b"
      },
      "execution_count": 51,
      "outputs": [
        {
          "output_type": "execute_result",
          "data": {
            "text/plain": [
              "RangeIndex(start=4, stop=7, step=1)"
            ]
          },
          "metadata": {},
          "execution_count": 51
        }
      ]
    },
    {
      "cell_type": "code",
      "source": [
        "list(pd.RangeIndex(start=4, stop=7, step=1))"
      ],
      "metadata": {
        "colab": {
          "base_uri": "https://localhost:8080/"
        },
        "id": "4mMIUjbKsXF7",
        "outputId": "cdff0630-05c1-4082-c729-6e18c4b994dd"
      },
      "execution_count": 52,
      "outputs": [
        {
          "output_type": "execute_result",
          "data": {
            "text/plain": [
              "[4, 5, 6]"
            ]
          },
          "metadata": {},
          "execution_count": 52
        }
      ]
    },
    {
      "cell_type": "code",
      "source": [
        "list(pd.RangeIndex(start=10, stop=-11, step=-1))"
      ],
      "metadata": {
        "colab": {
          "base_uri": "https://localhost:8080/"
        },
        "id": "CB9wOimhsdWX",
        "outputId": "eb73703b-6975-4112-c237-1cb19d427984"
      },
      "execution_count": 53,
      "outputs": [
        {
          "output_type": "execute_result",
          "data": {
            "text/plain": [
              "[10, 9, 8, 7, 6, 5, 4, 3, 2, 1, 0, -1, -2, -3, -4, -5, -6, -7, -8, -9, -10]"
            ]
          },
          "metadata": {},
          "execution_count": 53
        }
      ]
    },
    {
      "cell_type": "markdown",
      "source": [
        "# Series and Index Names\n",
        "- Series can have names which later become column names in data frames\n",
        "- series index can also have names"
      ],
      "metadata": {
        "id": "47FD3yoHwla0"
      }
    },
    {
      "cell_type": "code",
      "source": [
        "list_s"
      ],
      "metadata": {
        "id": "tPbX_l5dwoeL",
        "colab": {
          "base_uri": "https://localhost:8080/"
        },
        "outputId": "aa12bdb8-0032-4f2a-bf46-25ab3508cc84"
      },
      "execution_count": 54,
      "outputs": [
        {
          "output_type": "execute_result",
          "data": {
            "text/plain": [
              "0      Thursday Murder Club\n",
              "1             Almost Single\n",
              "2    The Fault in our stars\n",
              "dtype: object"
            ]
          },
          "metadata": {},
          "execution_count": 54
        }
      ]
    },
    {
      "cell_type": "code",
      "source": [
        "# inttelligable: capable of being understood"
      ],
      "metadata": {
        "id": "jVChvuOm2H0H"
      },
      "execution_count": 55,
      "outputs": []
    },
    {
      "cell_type": "code",
      "source": [
        "books_series = list_s"
      ],
      "metadata": {
        "id": "GQ2_ITcI3A0e"
      },
      "execution_count": 56,
      "outputs": []
    },
    {
      "cell_type": "code",
      "source": [
        "books_series"
      ],
      "metadata": {
        "colab": {
          "base_uri": "https://localhost:8080/"
        },
        "id": "2P2zcLav3ESW",
        "outputId": "6090867e-9654-465c-eb73-211e964cc75b"
      },
      "execution_count": 57,
      "outputs": [
        {
          "output_type": "execute_result",
          "data": {
            "text/plain": [
              "0      Thursday Murder Club\n",
              "1             Almost Single\n",
              "2    The Fault in our stars\n",
              "dtype: object"
            ]
          },
          "metadata": {},
          "execution_count": 57
        }
      ]
    },
    {
      "cell_type": "code",
      "source": [
        "# Attribute\n",
        "books_series.size"
      ],
      "metadata": {
        "colab": {
          "base_uri": "https://localhost:8080/"
        },
        "id": "fhdztFlS3R3u",
        "outputId": "184bd357-5c8d-4dba-a00a-52d2689d7606"
      },
      "execution_count": 58,
      "outputs": [
        {
          "output_type": "execute_result",
          "data": {
            "text/plain": [
              "3"
            ]
          },
          "metadata": {},
          "execution_count": 58
        }
      ]
    },
    {
      "cell_type": "code",
      "source": [
        "# Method\n",
        "list_s.equals(dict_s)"
      ],
      "metadata": {
        "colab": {
          "base_uri": "https://localhost:8080/"
        },
        "id": "pT_m5H403VjH",
        "outputId": "eba34123-92d3-4583-a8cd-f2ac35f9e4ba"
      },
      "execution_count": 59,
      "outputs": [
        {
          "output_type": "execute_result",
          "data": {
            "text/plain": [
              "True"
            ]
          },
          "metadata": {},
          "execution_count": 59
        }
      ]
    },
    {
      "cell_type": "code",
      "source": [
        "# Attribute:\n",
        "books_series.dtype"
      ],
      "metadata": {
        "colab": {
          "base_uri": "https://localhost:8080/"
        },
        "id": "97-BMzPs3afH",
        "outputId": "24abeed6-6c85-4416-8638-42a42be94319"
      },
      "execution_count": 60,
      "outputs": [
        {
          "output_type": "execute_result",
          "data": {
            "text/plain": [
              "dtype('O')"
            ]
          },
          "metadata": {},
          "execution_count": 60
        }
      ]
    },
    {
      "cell_type": "code",
      "source": [
        "books_series.name"
      ],
      "metadata": {
        "id": "rCZ2ChkD58Sq"
      },
      "execution_count": 61,
      "outputs": []
    },
    {
      "cell_type": "code",
      "source": [
        "books_series.name == None"
      ],
      "metadata": {
        "colab": {
          "base_uri": "https://localhost:8080/"
        },
        "id": "AZQCSpN_6A20",
        "outputId": "0aa6c723-8989-4cfb-9b3c-2c7b35ac2849"
      },
      "execution_count": 62,
      "outputs": [
        {
          "output_type": "execute_result",
          "data": {
            "text/plain": [
              "True"
            ]
          },
          "metadata": {},
          "execution_count": 62
        }
      ]
    },
    {
      "cell_type": "code",
      "source": [
        "books_series.name = 'my books read in 2022'"
      ],
      "metadata": {
        "id": "S9qsKu036Egz"
      },
      "execution_count": 63,
      "outputs": []
    },
    {
      "cell_type": "code",
      "source": [
        "books_series.name"
      ],
      "metadata": {
        "colab": {
          "base_uri": "https://localhost:8080/",
          "height": 0
        },
        "id": "2VzzpBVR6JQM",
        "outputId": "82d36a99-5150-4c56-e689-e51207019d28"
      },
      "execution_count": 64,
      "outputs": [
        {
          "output_type": "execute_result",
          "data": {
            "text/plain": [
              "'my books read in 2022'"
            ],
            "application/vnd.google.colaboratory.intrinsic+json": {
              "type": "string"
            }
          },
          "metadata": {},
          "execution_count": 64
        }
      ]
    },
    {
      "cell_type": "code",
      "source": [
        "books_series\n",
        "# inaddition to dtype attribute, we now have additional Name attribute also now that we have set it"
      ],
      "metadata": {
        "colab": {
          "base_uri": "https://localhost:8080/"
        },
        "id": "7tZPLiYT6LUZ",
        "outputId": "10db607f-2d24-4ed0-fe99-231f1e5b696b"
      },
      "execution_count": 65,
      "outputs": [
        {
          "output_type": "execute_result",
          "data": {
            "text/plain": [
              "0      Thursday Murder Club\n",
              "1             Almost Single\n",
              "2    The Fault in our stars\n",
              "Name: my books read in 2022, dtype: object"
            ]
          },
          "metadata": {},
          "execution_count": 65
        }
      ]
    },
    {
      "cell_type": "code",
      "source": [
        "books_series.index.name"
      ],
      "metadata": {
        "id": "OCjq1s0I6NSa"
      },
      "execution_count": 66,
      "outputs": []
    },
    {
      "cell_type": "code",
      "source": [
        "books_series.index.name == None"
      ],
      "metadata": {
        "colab": {
          "base_uri": "https://localhost:8080/"
        },
        "id": "0mgI8Vr78SLs",
        "outputId": "a8dd81a5-16a5-43d2-af0b-428ecfdd8394"
      },
      "execution_count": 67,
      "outputs": [
        {
          "output_type": "execute_result",
          "data": {
            "text/plain": [
              "True"
            ]
          },
          "metadata": {},
          "execution_count": 67
        }
      ]
    },
    {
      "cell_type": "code",
      "source": [
        "books_series.index.name = 'My Books'"
      ],
      "metadata": {
        "id": "6URezXTr8T1t"
      },
      "execution_count": 68,
      "outputs": []
    },
    {
      "cell_type": "code",
      "source": [
        "books_series\n",
        "# Additional index name appears on top of labels"
      ],
      "metadata": {
        "colab": {
          "base_uri": "https://localhost:8080/"
        },
        "id": "hYMjTpJS8VXK",
        "outputId": "9c57a8a3-42f2-4bd7-93ab-cd42f0040cc2"
      },
      "execution_count": 69,
      "outputs": [
        {
          "output_type": "execute_result",
          "data": {
            "text/plain": [
              "My Books\n",
              "0      Thursday Murder Club\n",
              "1             Almost Single\n",
              "2    The Fault in our stars\n",
              "Name: my books read in 2022, dtype: object"
            ]
          },
          "metadata": {},
          "execution_count": 69
        }
      ]
    },
    {
      "cell_type": "code",
      "source": [],
      "metadata": {
        "id": "xuZvWCTv8XUX"
      },
      "execution_count": 69,
      "outputs": []
    },
    {
      "cell_type": "markdown",
      "source": [
        "# Skills Challenge"
      ],
      "metadata": {
        "id": "2Kij3KUq8vpv"
      }
    },
    {
      "cell_type": "markdown",
      "source": [
        "Task 1.\n",
        "- Create a Python list of length 4 that contains some of your favaourite actors. \n",
        "- So this should be a list of strings.\n",
        "- Call this list-nassign it to a variable: actor_names"
      ],
      "metadata": {
        "id": "Aga26dIO9ohU"
      }
    },
    {
      "cell_type": "code",
      "source": [
        "actor_names = ['Leonardo', 'Blake', 'Kate', 'Reynolds']"
      ],
      "metadata": {
        "id": "zUL8SYIt9To1"
      },
      "execution_count": 70,
      "outputs": []
    },
    {
      "cell_type": "markdown",
      "source": [
        "Task 2.\n",
        "- Create another list of same length that contains your guesses of how old each actor is, feel free to just use integers or floats.\n",
        "- Call thsi list actor_ages"
      ],
      "metadata": {
        "id": "aJvPoYhr9vCP"
      }
    },
    {
      "cell_type": "code",
      "source": [
        "actor_ages = [58, 44, 60, 48]"
      ],
      "metadata": {
        "id": "Ig0leQli9iaQ"
      },
      "execution_count": 71,
      "outputs": []
    },
    {
      "cell_type": "markdown",
      "source": [
        "Task 3.\n",
        "- Create a series that contains actors ages and labels the ages using the actor names.\n",
        "- Give this series a name of actors."
      ],
      "metadata": {
        "id": "cIGixkEJ-SfT"
      }
    },
    {
      "cell_type": "code",
      "source": [
        "actors = pd.Series(actor_ages, index= actor_names, name = 'actors')"
      ],
      "metadata": {
        "id": "uO_qKmLH-KBN"
      },
      "execution_count": 72,
      "outputs": []
    },
    {
      "cell_type": "code",
      "source": [
        "actors"
      ],
      "metadata": {
        "colab": {
          "base_uri": "https://localhost:8080/"
        },
        "id": "E1cpteh1-3qp",
        "outputId": "83533c0a-3b8d-4fbb-ab59-03720cd0a159"
      },
      "execution_count": 73,
      "outputs": [
        {
          "output_type": "execute_result",
          "data": {
            "text/plain": [
              "Leonardo    58\n",
              "Blake       44\n",
              "Kate        60\n",
              "Reynolds    48\n",
              "Name: actors, dtype: int64"
            ]
          },
          "metadata": {},
          "execution_count": 73
        }
      ]
    },
    {
      "cell_type": "markdown",
      "source": [
        "Task 4.\n",
        "- Repeat step 3 but this time create the series from a Python Dictionary.\n",
        "- As an additional challenge, try not to type the dictionary manually but instead dynamically create it using the two lists defined in step 1 and step 2."
      ],
      "metadata": {
        "id": "GRkMbbsQ-7QP"
      }
    },
    {
      "cell_type": "code",
      "source": [
        "actor_dict = dict(zip(actor_names, actor_ages)) #pure functions\n",
        "actor_dict2 = {name:age for name, age in zip(actor_names, actor_ages)} #dict comprehennsions and pure function"
      ],
      "metadata": {
        "id": "Am-Sh5qj-42Z"
      },
      "execution_count": 74,
      "outputs": []
    },
    {
      "cell_type": "code",
      "source": [
        "pd.Series(actor_dict, name = 'actors')"
      ],
      "metadata": {
        "colab": {
          "base_uri": "https://localhost:8080/"
        },
        "id": "9AT_VIvIAD_o",
        "outputId": "0b8b8c13-ada2-429e-c5f6-fef1b04a6975"
      },
      "execution_count": 75,
      "outputs": [
        {
          "output_type": "execute_result",
          "data": {
            "text/plain": [
              "Leonardo    58\n",
              "Blake       44\n",
              "Kate        60\n",
              "Reynolds    48\n",
              "Name: actors, dtype: int64"
            ]
          },
          "metadata": {},
          "execution_count": 75
        }
      ]
    },
    {
      "cell_type": "code",
      "source": [
        "pd.Series(actor_dict2, name = 'actors')"
      ],
      "metadata": {
        "colab": {
          "base_uri": "https://localhost:8080/"
        },
        "id": "bqtupYCLFVwz",
        "outputId": "cae666ee-5e43-4c6d-c3cc-354b0051f17b"
      },
      "execution_count": 76,
      "outputs": [
        {
          "output_type": "execute_result",
          "data": {
            "text/plain": [
              "Leonardo    58\n",
              "Blake       44\n",
              "Kate        60\n",
              "Reynolds    48\n",
              "Name: actors, dtype: int64"
            ]
          },
          "metadata": {},
          "execution_count": 76
        }
      ]
    },
    {
      "cell_type": "markdown",
      "source": [
        "# The head() and tail() Method"
      ],
      "metadata": {
        "id": "czp1yc40GuoB"
      }
    },
    {
      "cell_type": "code",
      "source": [
        "int_series = pd.Series(range(10))"
      ],
      "metadata": {
        "id": "vFc0nimxG0WC"
      },
      "execution_count": 84,
      "outputs": []
    },
    {
      "cell_type": "code",
      "source": [
        "int_series"
      ],
      "metadata": {
        "colab": {
          "base_uri": "https://localhost:8080/"
        },
        "id": "9tk4mQwMIATr",
        "outputId": "bcd5bfdf-7c2e-4410-f517-2f7682ff7d97"
      },
      "execution_count": 78,
      "outputs": [
        {
          "output_type": "execute_result",
          "data": {
            "text/plain": [
              "0    0\n",
              "1    1\n",
              "2    2\n",
              "3    3\n",
              "4    4\n",
              "dtype: int64"
            ]
          },
          "metadata": {},
          "execution_count": 78
        }
      ]
    },
    {
      "cell_type": "code",
      "source": [
        "int_series.size"
      ],
      "metadata": {
        "colab": {
          "base_uri": "https://localhost:8080/"
        },
        "id": "u5mCBGM9ICOB",
        "outputId": "0c1746e0-1734-4114-95d1-4f779ecf3cbe"
      },
      "execution_count": 85,
      "outputs": [
        {
          "output_type": "execute_result",
          "data": {
            "text/plain": [
              "10"
            ]
          },
          "metadata": {},
          "execution_count": 85
        }
      ]
    },
    {
      "cell_type": "code",
      "source": [
        "len(int_series)\n",
        "# Python men() function also works just fine"
      ],
      "metadata": {
        "colab": {
          "base_uri": "https://localhost:8080/"
        },
        "id": "FN0DdKFLIEt8",
        "outputId": "e5fd3c3e-42e4-4837-ffb4-7b40f763c753"
      },
      "execution_count": 86,
      "outputs": [
        {
          "output_type": "execute_result",
          "data": {
            "text/plain": [
              "10"
            ]
          },
          "metadata": {},
          "execution_count": 86
        }
      ]
    },
    {
      "cell_type": "code",
      "source": [
        "# To sneak peek 1st 5 elements of series:\n",
        "int_series.head()"
      ],
      "metadata": {
        "colab": {
          "base_uri": "https://localhost:8080/"
        },
        "id": "DUIh0KRsIITs",
        "outputId": "6ae02b3b-d4ca-4249-adde-44015f37a76b"
      },
      "execution_count": 87,
      "outputs": [
        {
          "output_type": "execute_result",
          "data": {
            "text/plain": [
              "0    0\n",
              "1    1\n",
              "2    2\n",
              "3    3\n",
              "4    4\n",
              "dtype: int64"
            ]
          },
          "metadata": {},
          "execution_count": 87
        }
      ]
    },
    {
      "cell_type": "code",
      "source": [
        "# To sneak peek last 5 elements of series:\n",
        "int_series.tail()"
      ],
      "metadata": {
        "colab": {
          "base_uri": "https://localhost:8080/"
        },
        "id": "Pu26XIw-KDKQ",
        "outputId": "8e3eb250-4c8a-4d80-d746-904b95e802bd"
      },
      "execution_count": 88,
      "outputs": [
        {
          "output_type": "execute_result",
          "data": {
            "text/plain": [
              "5    5\n",
              "6    6\n",
              "7    7\n",
              "8    8\n",
              "9    9\n",
              "dtype: int64"
            ]
          },
          "metadata": {},
          "execution_count": 88
        }
      ]
    },
    {
      "cell_type": "code",
      "source": [
        "# We can also specify the number of elements we want to see using the n parameter of these methods:\n",
        "int_series.head(n=3) # or int_series.head(3)"
      ],
      "metadata": {
        "colab": {
          "base_uri": "https://localhost:8080/"
        },
        "id": "3x_ySjR4KHxI",
        "outputId": "f3606f5d-b46d-4515-a860-7aa3f6f45d66"
      },
      "execution_count": 91,
      "outputs": [
        {
          "output_type": "execute_result",
          "data": {
            "text/plain": [
              "0    0\n",
              "1    1\n",
              "2    2\n",
              "dtype: int64"
            ]
          },
          "metadata": {},
          "execution_count": 91
        }
      ]
    },
    {
      "cell_type": "code",
      "source": [
        "int_series.tail(n=4) # or int_series.tail(4)"
      ],
      "metadata": {
        "colab": {
          "base_uri": "https://localhost:8080/"
        },
        "id": "KDjJsncHL4CT",
        "outputId": "ae79fd7d-6d0b-4729-c813-f3d3e45a0036"
      },
      "execution_count": 92,
      "outputs": [
        {
          "output_type": "execute_result",
          "data": {
            "text/plain": [
              "6    6\n",
              "7    7\n",
              "8    8\n",
              "9    9\n",
              "dtype: int64"
            ]
          },
          "metadata": {},
          "execution_count": 92
        }
      ]
    },
    {
      "cell_type": "code",
      "source": [
        "# Notebook environments already truncate teh output of we have large series:\n",
        "pd.Series(range(10000000))"
      ],
      "metadata": {
        "colab": {
          "base_uri": "https://localhost:8080/"
        },
        "id": "Zj534T2cL9JQ",
        "outputId": "736f541b-5f0d-452c-ede9-73e64e6e63e6"
      },
      "execution_count": 97,
      "outputs": [
        {
          "output_type": "execute_result",
          "data": {
            "text/plain": [
              "0                0\n",
              "1                1\n",
              "2                2\n",
              "3                3\n",
              "4                4\n",
              "            ...   \n",
              "9999995    9999995\n",
              "9999996    9999996\n",
              "9999997    9999997\n",
              "9999998    9999998\n",
              "9999999    9999999\n",
              "Length: 10000000, dtype: int64"
            ]
          },
          "metadata": {},
          "execution_count": 97
        }
      ]
    },
    {
      "cell_type": "code",
      "source": [
        "# can change display options to chnage above behaviour\n",
        "# i.e. force pands to return n rows of series \n",
        "pd.options.display.min_rows = 40"
      ],
      "metadata": {
        "id": "xqsrsGChOA54"
      },
      "execution_count": 101,
      "outputs": []
    },
    {
      "cell_type": "markdown",
      "source": [
        "# Extracting By Index Position"
      ],
      "metadata": {
        "id": "YvKuCkMOTlGU"
      }
    },
    {
      "cell_type": "code",
      "source": [
        "from string import ascii_lowercase"
      ],
      "metadata": {
        "id": "kN5I1IzkPkLW"
      },
      "execution_count": 103,
      "outputs": []
    },
    {
      "cell_type": "code",
      "source": [
        "ascii_lowercase"
      ],
      "metadata": {
        "colab": {
          "base_uri": "https://localhost:8080/",
          "height": 35
        },
        "id": "GejAEiOlVrG0",
        "outputId": "83a846ab-7d16-4b73-b48f-79e1bc2c1d72"
      },
      "execution_count": 105,
      "outputs": [
        {
          "output_type": "execute_result",
          "data": {
            "text/plain": [
              "'abcdefghijklmnopqrstuvwxyz'"
            ],
            "application/vnd.google.colaboratory.intrinsic+json": {
              "type": "string"
            }
          },
          "metadata": {},
          "execution_count": 105
        }
      ]
    },
    {
      "cell_type": "code",
      "source": [
        "letters = list(ascii_lowercase)"
      ],
      "metadata": {
        "id": "6hwDQFJxVd8A"
      },
      "execution_count": 104,
      "outputs": []
    },
    {
      "cell_type": "code",
      "source": [
        "letters"
      ],
      "metadata": {
        "id": "R1Ga2RbeVp_I"
      },
      "execution_count": null,
      "outputs": []
    },
    {
      "cell_type": "code",
      "source": [
        "alphabet = pd.Series(letters)"
      ],
      "metadata": {
        "id": "KY0LPzksVvqt"
      },
      "execution_count": 107,
      "outputs": []
    },
    {
      "cell_type": "code",
      "source": [
        "alphabet.head(6)"
      ],
      "metadata": {
        "colab": {
          "base_uri": "https://localhost:8080/"
        },
        "id": "PrK8M90uV9qS",
        "outputId": "393d6370-909e-473d-d8d8-228c4d136c3a"
      },
      "execution_count": 108,
      "outputs": [
        {
          "output_type": "execute_result",
          "data": {
            "text/plain": [
              "0    a\n",
              "1    b\n",
              "2    c\n",
              "3    d\n",
              "4    e\n",
              "5    f\n",
              "dtype: object"
            ]
          },
          "metadata": {},
          "execution_count": 108
        }
      ]
    },
    {
      "cell_type": "code",
      "source": [
        "# What is the 1st letter?\n",
        "# What is the 11th letter?\n",
        "# What are the first three letters?\n",
        "# What are the sixth through tenth letters?\n",
        "# What are the last six letters?"
      ],
      "metadata": {
        "id": "awwFtwEaWBLJ"
      },
      "execution_count": 109,
      "outputs": []
    },
    {
      "cell_type": "code",
      "source": [
        "# 1\n",
        "alphabet[0]"
      ],
      "metadata": {
        "colab": {
          "base_uri": "https://localhost:8080/",
          "height": 35
        },
        "id": "HFbw6v_kXyZp",
        "outputId": "72f0c11f-cdb9-4b3c-91f4-bad387639e16"
      },
      "execution_count": 110,
      "outputs": [
        {
          "output_type": "execute_result",
          "data": {
            "text/plain": [
              "'a'"
            ],
            "application/vnd.google.colaboratory.intrinsic+json": {
              "type": "string"
            }
          },
          "metadata": {},
          "execution_count": 110
        }
      ]
    },
    {
      "cell_type": "code",
      "source": [
        "# 2\n",
        "alphabet[10]"
      ],
      "metadata": {
        "colab": {
          "base_uri": "https://localhost:8080/",
          "height": 35
        },
        "id": "JGBoxpF-X17x",
        "outputId": "9baf073e-e6c5-49de-d942-7539efbd397d"
      },
      "execution_count": 111,
      "outputs": [
        {
          "output_type": "execute_result",
          "data": {
            "text/plain": [
              "'k'"
            ],
            "application/vnd.google.colaboratory.intrinsic+json": {
              "type": "string"
            }
          },
          "metadata": {},
          "execution_count": 111
        }
      ]
    },
    {
      "cell_type": "code",
      "source": [
        "# 3\n",
        "alphabet[:3]"
      ],
      "metadata": {
        "colab": {
          "base_uri": "https://localhost:8080/"
        },
        "id": "_qw4ZzOnX3k5",
        "outputId": "1287b6c0-8499-478b-c5bc-e2b35e19f57c"
      },
      "execution_count": 112,
      "outputs": [
        {
          "output_type": "execute_result",
          "data": {
            "text/plain": [
              "0    a\n",
              "1    b\n",
              "2    c\n",
              "dtype: object"
            ]
          },
          "metadata": {},
          "execution_count": 112
        }
      ]
    },
    {
      "cell_type": "code",
      "source": [
        "# 4\n",
        "alphabet[5:10]"
      ],
      "metadata": {
        "colab": {
          "base_uri": "https://localhost:8080/"
        },
        "id": "aww7aSOuX8Bx",
        "outputId": "6733701f-9539-4e54-80df-829414c1c594"
      },
      "execution_count": 113,
      "outputs": [
        {
          "output_type": "execute_result",
          "data": {
            "text/plain": [
              "5    f\n",
              "6    g\n",
              "7    h\n",
              "8    i\n",
              "9    j\n",
              "dtype: object"
            ]
          },
          "metadata": {},
          "execution_count": 113
        }
      ]
    },
    {
      "cell_type": "code",
      "source": [
        "# 5\n",
        "alphabet[-6:]"
      ],
      "metadata": {
        "colab": {
          "base_uri": "https://localhost:8080/"
        },
        "id": "Lqw6L_d1ZoLN",
        "outputId": "cbdf6976-1324-4ea7-f0fa-3c5fc3335696"
      },
      "execution_count": 114,
      "outputs": [
        {
          "output_type": "execute_result",
          "data": {
            "text/plain": [
              "20    u\n",
              "21    v\n",
              "22    w\n",
              "23    x\n",
              "24    y\n",
              "25    z\n",
              "dtype: object"
            ]
          },
          "metadata": {},
          "execution_count": 114
        }
      ]
    },
    {
      "cell_type": "markdown",
      "source": [
        "# Accessing Elements by Label"
      ],
      "metadata": {
        "id": "Z2Qg9otraFGD"
      }
    },
    {
      "cell_type": "code",
      "source": [
        "from string import ascii_uppercase"
      ],
      "metadata": {
        "id": "B2rCSrZLZ5r8"
      },
      "execution_count": 132,
      "outputs": []
    },
    {
      "cell_type": "code",
      "source": [
        "ascii_uppercase"
      ],
      "metadata": {
        "colab": {
          "base_uri": "https://localhost:8080/",
          "height": 35
        },
        "id": "AoQl2XDnbHld",
        "outputId": "d1695c41-ea74-4eee-f1cd-7a9f6cba8bd1"
      },
      "execution_count": 133,
      "outputs": [
        {
          "output_type": "execute_result",
          "data": {
            "text/plain": [
              "'ABCDEFGHIJKLMNOPQRSTUVWXYZ'"
            ],
            "application/vnd.google.colaboratory.intrinsic+json": {
              "type": "string"
            }
          },
          "metadata": {},
          "execution_count": 133
        }
      ]
    },
    {
      "cell_type": "code",
      "source": [
        "labeled_alphabet = pd.Series(data = list(ascii_lowercase), index = list(map(lambda i: 'label_'+i, list(ascii_uppercase))))"
      ],
      "metadata": {
        "id": "0xJG6ItNbKEx"
      },
      "execution_count": 134,
      "outputs": []
    },
    {
      "cell_type": "code",
      "source": [
        "labeled_alphabet.head(3)"
      ],
      "metadata": {
        "colab": {
          "base_uri": "https://localhost:8080/"
        },
        "id": "4YE333v_b5UV",
        "outputId": "ceb0607a-fee8-47a9-bf6c-9c8e5e8c90a9"
      },
      "execution_count": 135,
      "outputs": [
        {
          "output_type": "execute_result",
          "data": {
            "text/plain": [
              "label_A    a\n",
              "label_B    b\n",
              "label_C    c\n",
              "dtype: object"
            ]
          },
          "metadata": {},
          "execution_count": 135
        }
      ]
    },
    {
      "cell_type": "code",
      "source": [
        "# What is the 1st letter?\n",
        "# What is the 11th letter?\n",
        "# What are the first three letters?\n",
        "# What are the sixth through tenth letters?\n",
        "# What are the last six letters?"
      ],
      "metadata": {
        "id": "L150wnk7cAEV"
      },
      "execution_count": 136,
      "outputs": []
    },
    {
      "cell_type": "code",
      "source": [
        "# 1\n",
        "# labeled_alphabet[0] #the first approach by index position\n",
        "labeled_alphabet['label_A']"
      ],
      "metadata": {
        "colab": {
          "base_uri": "https://localhost:8080/",
          "height": 35
        },
        "id": "PWwiG3TEdCA7",
        "outputId": "f62b7f37-4323-413c-8261-8e4ff4377069"
      },
      "execution_count": 137,
      "outputs": [
        {
          "output_type": "execute_result",
          "data": {
            "text/plain": [
              "'a'"
            ],
            "application/vnd.google.colaboratory.intrinsic+json": {
              "type": "string"
            }
          },
          "metadata": {},
          "execution_count": 137
        }
      ]
    },
    {
      "cell_type": "code",
      "source": [
        "# 2\n",
        "# labeled_alphabet[10] #the first approach by index position\n",
        "labeled_alphabet['label_K']"
      ],
      "metadata": {
        "colab": {
          "base_uri": "https://localhost:8080/",
          "height": 35
        },
        "id": "8jHMbSMBdwtE",
        "outputId": "5760af59-34bc-47db-fb74-ef3ee41c043e"
      },
      "execution_count": 138,
      "outputs": [
        {
          "output_type": "execute_result",
          "data": {
            "text/plain": [
              "'k'"
            ],
            "application/vnd.google.colaboratory.intrinsic+json": {
              "type": "string"
            }
          },
          "metadata": {},
          "execution_count": 138
        }
      ]
    },
    {
      "cell_type": "code",
      "source": [
        "# 3\n",
        "# labeled_alphabet[:3] #the first approach by index position\n",
        "labeled_alphabet[:'label_C']\n",
        "# Notice how stop is inclusive in labels and exclusive in position"
      ],
      "metadata": {
        "colab": {
          "base_uri": "https://localhost:8080/"
        },
        "id": "TR0YvFTCd2kB",
        "outputId": "30e0813b-e807-4c2d-90bb-177d3a46b3e3"
      },
      "execution_count": 139,
      "outputs": [
        {
          "output_type": "execute_result",
          "data": {
            "text/plain": [
              "label_A    a\n",
              "label_B    b\n",
              "label_C    c\n",
              "dtype: object"
            ]
          },
          "metadata": {},
          "execution_count": 139
        }
      ]
    },
    {
      "cell_type": "code",
      "source": [
        "# 4\n",
        "# labeled_alphabet[5:10] #the first approach by index position\n",
        "labeled_alphabet['label_F':'label_J']"
      ],
      "metadata": {
        "colab": {
          "base_uri": "https://localhost:8080/"
        },
        "id": "7RfaeOMyeAEd",
        "outputId": "c831d116-8ee4-4521-eac8-a70db6c81eb3"
      },
      "execution_count": 140,
      "outputs": [
        {
          "output_type": "execute_result",
          "data": {
            "text/plain": [
              "label_F    f\n",
              "label_G    g\n",
              "label_H    h\n",
              "label_I    i\n",
              "label_J    j\n",
              "dtype: object"
            ]
          },
          "metadata": {},
          "execution_count": 140
        }
      ]
    },
    {
      "cell_type": "code",
      "source": [
        "# 5\n",
        "# labeled_alphabet[-6:] #the first approach by index position\n",
        "labeled_alphabet['label_U':]"
      ],
      "metadata": {
        "colab": {
          "base_uri": "https://localhost:8080/"
        },
        "id": "Od9zneV0fPM5",
        "outputId": "de1950c1-6aaa-4bcc-82f4-2184cc78cd4b"
      },
      "execution_count": 141,
      "outputs": [
        {
          "output_type": "execute_result",
          "data": {
            "text/plain": [
              "label_U    u\n",
              "label_V    v\n",
              "label_W    w\n",
              "label_X    x\n",
              "label_Y    y\n",
              "label_Z    z\n",
              "dtype: object"
            ]
          },
          "metadata": {},
          "execution_count": 141
        }
      ]
    },
    {
      "cell_type": "markdown",
      "source": [
        "# The add_prefix() and The add_suffix() Methods"
      ],
      "metadata": {
        "id": "WFWlnHMAg1gz"
      }
    },
    {
      "cell_type": "code",
      "source": [
        "alphabet.head(3)"
      ],
      "metadata": {
        "colab": {
          "base_uri": "https://localhost:8080/"
        },
        "id": "3Etn1VYsg9sR",
        "outputId": "8c27e859-c226-4b3d-8cd8-d94d0f51a742"
      },
      "execution_count": 128,
      "outputs": [
        {
          "output_type": "execute_result",
          "data": {
            "text/plain": [
              "0    a\n",
              "1    b\n",
              "2    c\n",
              "dtype: object"
            ]
          },
          "metadata": {},
          "execution_count": 128
        }
      ]
    },
    {
      "cell_type": "code",
      "source": [
        "alphabet.add_prefix('label_').head(3)"
      ],
      "metadata": {
        "colab": {
          "base_uri": "https://localhost:8080/"
        },
        "id": "Zslu7LecjPkr",
        "outputId": "dd13b9cc-161a-4dce-bbdb-ee432be7713c"
      },
      "execution_count": 130,
      "outputs": [
        {
          "output_type": "execute_result",
          "data": {
            "text/plain": [
              "label_0    a\n",
              "label_1    b\n",
              "label_2    c\n",
              "dtype: object"
            ]
          },
          "metadata": {},
          "execution_count": 130
        }
      ]
    },
    {
      "cell_type": "code",
      "source": [
        "alphabet.add_suffix('_end_cool').head(3)"
      ],
      "metadata": {
        "colab": {
          "base_uri": "https://localhost:8080/"
        },
        "id": "XN7-v5nNjVS8",
        "outputId": "428dcab9-b651-4718-f1e4-28c3a5cf2d8d"
      },
      "execution_count": 131,
      "outputs": [
        {
          "output_type": "execute_result",
          "data": {
            "text/plain": [
              "0_end_cool    a\n",
              "1_end_cool    b\n",
              "2_end_cool    c\n",
              "dtype: object"
            ]
          },
          "metadata": {},
          "execution_count": 131
        }
      ]
    },
    {
      "cell_type": "code",
      "source": [
        "# Redoing below logic using add_prefix() method\n",
        "# labeled_alphabet = pd.Series(data = list(ascii_lowercase), index = list(map(lambda i: 'label_'+i, list(ascii_uppercase))))\n",
        "prefix_alphabet = pd.Series(data = list(ascii_lowercase), index = list(ascii_uppercase)).add_prefix('label_')"
      ],
      "metadata": {
        "id": "dS09462rjesZ"
      },
      "execution_count": 150,
      "outputs": []
    },
    {
      "cell_type": "code",
      "source": [
        "prefix_alphabet.head(3)"
      ],
      "metadata": {
        "colab": {
          "base_uri": "https://localhost:8080/"
        },
        "id": "LYPBPJzbj1A3",
        "outputId": "2a0bfbd1-bb83-4e7b-9dd5-c6ceadafb4ca"
      },
      "execution_count": 151,
      "outputs": [
        {
          "output_type": "execute_result",
          "data": {
            "text/plain": [
              "label_A    a\n",
              "label_B    b\n",
              "label_C    c\n",
              "dtype: object"
            ]
          },
          "metadata": {},
          "execution_count": 151
        }
      ]
    },
    {
      "cell_type": "code",
      "source": [
        "alphabet.head(3)\n",
        "# the original alphabet series is not modified by these methods. It remains intact \n",
        "# we just got a copy of series where the index was modified."
      ],
      "metadata": {
        "colab": {
          "base_uri": "https://localhost:8080/"
        },
        "id": "uAHvit35kF4l",
        "outputId": "d0e98f00-619c-433a-ac10-7438576e3e89"
      },
      "execution_count": 156,
      "outputs": [
        {
          "output_type": "execute_result",
          "data": {
            "text/plain": [
              "0_end_cool_end_cool    a\n",
              "1_end_cool_end_cool    b\n",
              "2_end_cool_end_cool    c\n",
              "dtype: object"
            ]
          },
          "metadata": {},
          "execution_count": 156
        }
      ]
    },
    {
      "cell_type": "code",
      "source": [
        "# to actually modify teh series, assign it to the actual variable name:\n",
        "alphabet = alphabet.add_suffix('_end_cool').head(3)"
      ],
      "metadata": {
        "id": "FAO7SYzNl0cL"
      },
      "execution_count": 155,
      "outputs": []
    },
    {
      "cell_type": "code",
      "source": [
        "alphabet.head(3)"
      ],
      "metadata": {
        "colab": {
          "base_uri": "https://localhost:8080/"
        },
        "id": "cNOZq9vIm-YK",
        "outputId": "8b314338-7a6f-4de7-dde6-c54c61f52147"
      },
      "execution_count": 158,
      "outputs": [
        {
          "output_type": "execute_result",
          "data": {
            "text/plain": [
              "0_end_cool_end_cool    a\n",
              "1_end_cool_end_cool    b\n",
              "2_end_cool_end_cool    c\n",
              "dtype: object"
            ]
          },
          "metadata": {},
          "execution_count": 158
        }
      ]
    },
    {
      "cell_type": "markdown",
      "source": [
        "# Using Dot Notation"
      ],
      "metadata": {
        "id": "jko8HzOpq69B"
      }
    },
    {
      "cell_type": "code",
      "source": [
        "labeled_alphabet.label_V"
      ],
      "metadata": {
        "colab": {
          "base_uri": "https://localhost:8080/",
          "height": 35
        },
        "id": "zkXH8VTJq-tD",
        "outputId": "024904b0-2301-46f2-e0b5-bd1c8542e0c3"
      },
      "execution_count": 159,
      "outputs": [
        {
          "output_type": "execute_result",
          "data": {
            "text/plain": [
              "'v'"
            ],
            "application/vnd.google.colaboratory.intrinsic+json": {
              "type": "string"
            }
          },
          "metadata": {},
          "execution_count": 159
        }
      ]
    },
    {
      "cell_type": "code",
      "source": [
        "labeled_alphabet['label_V']"
      ],
      "metadata": {
        "colab": {
          "base_uri": "https://localhost:8080/",
          "height": 35
        },
        "id": "MAKhuHkkv96k",
        "outputId": "9722eebe-dd6c-46fa-c77c-ebd2747de53a"
      },
      "execution_count": 160,
      "outputs": [
        {
          "output_type": "execute_result",
          "data": {
            "text/plain": [
              "'v'"
            ],
            "application/vnd.google.colaboratory.intrinsic+json": {
              "type": "string"
            }
          },
          "metadata": {},
          "execution_count": 160
        }
      ]
    },
    {
      "cell_type": "code",
      "source": [
        "labeled_alphabet['label_V':'label_Y']"
      ],
      "metadata": {
        "colab": {
          "base_uri": "https://localhost:8080/"
        },
        "id": "ISFl4C0OwB4c",
        "outputId": "b8416d42-9d63-4cee-b587-e427e5299c59"
      },
      "execution_count": 161,
      "outputs": [
        {
          "output_type": "execute_result",
          "data": {
            "text/plain": [
              "label_V    v\n",
              "label_W    w\n",
              "label_X    x\n",
              "label_Y    y\n",
              "dtype: object"
            ]
          },
          "metadata": {},
          "execution_count": 161
        }
      ]
    },
    {
      "cell_type": "code",
      "source": [
        "# labeled_alphabet.label_V:label_Y # We will get NameError: name 'label_Y' is not defined"
      ],
      "metadata": {
        "id": "vvE53rqBwG6H"
      },
      "execution_count": 163,
      "outputs": []
    },
    {
      "cell_type": "markdown",
      "source": [
        "# Boolean Masks and the .loc Indexer"
      ],
      "metadata": {
        "id": "LkWvpWnowlkM"
      }
    },
    {
      "cell_type": "code",
      "source": [],
      "metadata": {
        "id": "cCElS1DEwqzQ"
      },
      "execution_count": null,
      "outputs": []
    }
  ]
}