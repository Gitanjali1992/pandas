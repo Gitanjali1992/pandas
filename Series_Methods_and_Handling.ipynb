{
  "nbformat": 4,
  "nbformat_minor": 0,
  "metadata": {
    "colab": {
      "provenance": [],
      "collapsed_sections": [
        "MGr00Oapt_4c",
        "8IQrsrTw7s0F",
        "JtKqxylGEQI6",
        "xJvUCGCOFHLJ",
        "Lv5fvz3DFOOP",
        "uEmG-7qzFVYG",
        "E-yL06AjFbic",
        "UV8lma7JFlQQ",
        "HGWmmyuxFwNW",
        "Fc6p2mTCh6XJ",
        "W9kZMFZ1X17A",
        "Y74m_mwJCD0o",
        "J-xG8XnkLVHA",
        "QQVN2qQXvlAv"
      ],
      "authorship_tag": "ABX9TyP0U2WFJk2RdC2eKM8Atp12",
      "include_colab_link": true
    },
    "kernelspec": {
      "name": "python3",
      "display_name": "Python 3"
    },
    "language_info": {
      "name": "python"
    }
  },
  "cells": [
    {
      "cell_type": "markdown",
      "metadata": {
        "id": "view-in-github",
        "colab_type": "text"
      },
      "source": [
        "<a href=\"https://colab.research.google.com/github/Gitanjali1992/pandas/blob/main/Series_Methods_and_Handling.ipynb\" target=\"_parent\"><img src=\"https://colab.research.google.com/assets/colab-badge.svg\" alt=\"Open In Colab\"/></a>"
      ]
    },
    {
      "cell_type": "code",
      "execution_count": 1,
      "metadata": {
        "id": "2YBPtQ0RtoaN"
      },
      "outputs": [],
      "source": [
        "import pandas as pd\n",
        "import numpy as np"
      ]
    },
    {
      "cell_type": "markdown",
      "source": [
        "# Reading in Data with read.csv()"
      ],
      "metadata": {
        "id": "MGr00Oapt_4c"
      }
    },
    {
      "cell_type": "code",
      "source": [
        "data_url = 'https://andybek.com/pandas-drinks'"
      ],
      "metadata": {
        "id": "9jdTu0Yztppj"
      },
      "execution_count": 2,
      "outputs": []
    },
    {
      "cell_type": "code",
      "source": [
        "pd.read_csv(data_url)"
      ],
      "metadata": {
        "colab": {
          "base_uri": "https://localhost:8080/",
          "height": 0
        },
        "id": "AOGiFtHQwqYC",
        "outputId": "a526abb6-3c25-4fba-9745-ecbfb881a9ce"
      },
      "execution_count": 3,
      "outputs": [
        {
          "output_type": "execute_result",
          "data": {
            "text/plain": [
              "         country  beer_servings  spirit_servings  wine_servings  \\\n",
              "0    Afghanistan            NaN              NaN            NaN   \n",
              "1        Albania           89.0            132.0           54.0   \n",
              "2        Algeria           25.0              NaN           14.0   \n",
              "3        Andorra          245.0            138.0          312.0   \n",
              "4         Angola          217.0             57.0           45.0   \n",
              "..           ...            ...              ...            ...   \n",
              "188    Venezuela          333.0              1.0            3.0   \n",
              "189      Vietnam          111.0              2.0            1.0   \n",
              "190        Yemen            6.0              NaN            NaN   \n",
              "191       Zambia           32.0             19.0            4.0   \n",
              "192     Zimbabwe           64.0             18.0            4.0   \n",
              "\n",
              "     total_litres_of_pure_alcohol  \n",
              "0                             NaN  \n",
              "1                             4.9  \n",
              "2                             0.7  \n",
              "3                            12.4  \n",
              "4                             5.9  \n",
              "..                            ...  \n",
              "188                           7.7  \n",
              "189                           2.0  \n",
              "190                           0.1  \n",
              "191                           2.5  \n",
              "192                           4.7  \n",
              "\n",
              "[193 rows x 5 columns]"
            ],
            "text/html": [
              "\n",
              "  <div id=\"df-31809b32-d638-481c-a712-cbc71ba321eb\">\n",
              "    <div class=\"colab-df-container\">\n",
              "      <div>\n",
              "<style scoped>\n",
              "    .dataframe tbody tr th:only-of-type {\n",
              "        vertical-align: middle;\n",
              "    }\n",
              "\n",
              "    .dataframe tbody tr th {\n",
              "        vertical-align: top;\n",
              "    }\n",
              "\n",
              "    .dataframe thead th {\n",
              "        text-align: right;\n",
              "    }\n",
              "</style>\n",
              "<table border=\"1\" class=\"dataframe\">\n",
              "  <thead>\n",
              "    <tr style=\"text-align: right;\">\n",
              "      <th></th>\n",
              "      <th>country</th>\n",
              "      <th>beer_servings</th>\n",
              "      <th>spirit_servings</th>\n",
              "      <th>wine_servings</th>\n",
              "      <th>total_litres_of_pure_alcohol</th>\n",
              "    </tr>\n",
              "  </thead>\n",
              "  <tbody>\n",
              "    <tr>\n",
              "      <th>0</th>\n",
              "      <td>Afghanistan</td>\n",
              "      <td>NaN</td>\n",
              "      <td>NaN</td>\n",
              "      <td>NaN</td>\n",
              "      <td>NaN</td>\n",
              "    </tr>\n",
              "    <tr>\n",
              "      <th>1</th>\n",
              "      <td>Albania</td>\n",
              "      <td>89.0</td>\n",
              "      <td>132.0</td>\n",
              "      <td>54.0</td>\n",
              "      <td>4.9</td>\n",
              "    </tr>\n",
              "    <tr>\n",
              "      <th>2</th>\n",
              "      <td>Algeria</td>\n",
              "      <td>25.0</td>\n",
              "      <td>NaN</td>\n",
              "      <td>14.0</td>\n",
              "      <td>0.7</td>\n",
              "    </tr>\n",
              "    <tr>\n",
              "      <th>3</th>\n",
              "      <td>Andorra</td>\n",
              "      <td>245.0</td>\n",
              "      <td>138.0</td>\n",
              "      <td>312.0</td>\n",
              "      <td>12.4</td>\n",
              "    </tr>\n",
              "    <tr>\n",
              "      <th>4</th>\n",
              "      <td>Angola</td>\n",
              "      <td>217.0</td>\n",
              "      <td>57.0</td>\n",
              "      <td>45.0</td>\n",
              "      <td>5.9</td>\n",
              "    </tr>\n",
              "    <tr>\n",
              "      <th>...</th>\n",
              "      <td>...</td>\n",
              "      <td>...</td>\n",
              "      <td>...</td>\n",
              "      <td>...</td>\n",
              "      <td>...</td>\n",
              "    </tr>\n",
              "    <tr>\n",
              "      <th>188</th>\n",
              "      <td>Venezuela</td>\n",
              "      <td>333.0</td>\n",
              "      <td>1.0</td>\n",
              "      <td>3.0</td>\n",
              "      <td>7.7</td>\n",
              "    </tr>\n",
              "    <tr>\n",
              "      <th>189</th>\n",
              "      <td>Vietnam</td>\n",
              "      <td>111.0</td>\n",
              "      <td>2.0</td>\n",
              "      <td>1.0</td>\n",
              "      <td>2.0</td>\n",
              "    </tr>\n",
              "    <tr>\n",
              "      <th>190</th>\n",
              "      <td>Yemen</td>\n",
              "      <td>6.0</td>\n",
              "      <td>NaN</td>\n",
              "      <td>NaN</td>\n",
              "      <td>0.1</td>\n",
              "    </tr>\n",
              "    <tr>\n",
              "      <th>191</th>\n",
              "      <td>Zambia</td>\n",
              "      <td>32.0</td>\n",
              "      <td>19.0</td>\n",
              "      <td>4.0</td>\n",
              "      <td>2.5</td>\n",
              "    </tr>\n",
              "    <tr>\n",
              "      <th>192</th>\n",
              "      <td>Zimbabwe</td>\n",
              "      <td>64.0</td>\n",
              "      <td>18.0</td>\n",
              "      <td>4.0</td>\n",
              "      <td>4.7</td>\n",
              "    </tr>\n",
              "  </tbody>\n",
              "</table>\n",
              "<p>193 rows × 5 columns</p>\n",
              "</div>\n",
              "      <button class=\"colab-df-convert\" onclick=\"convertToInteractive('df-31809b32-d638-481c-a712-cbc71ba321eb')\"\n",
              "              title=\"Convert this dataframe to an interactive table.\"\n",
              "              style=\"display:none;\">\n",
              "        \n",
              "  <svg xmlns=\"http://www.w3.org/2000/svg\" height=\"24px\"viewBox=\"0 0 24 24\"\n",
              "       width=\"24px\">\n",
              "    <path d=\"M0 0h24v24H0V0z\" fill=\"none\"/>\n",
              "    <path d=\"M18.56 5.44l.94 2.06.94-2.06 2.06-.94-2.06-.94-.94-2.06-.94 2.06-2.06.94zm-11 1L8.5 8.5l.94-2.06 2.06-.94-2.06-.94L8.5 2.5l-.94 2.06-2.06.94zm10 10l.94 2.06.94-2.06 2.06-.94-2.06-.94-.94-2.06-.94 2.06-2.06.94z\"/><path d=\"M17.41 7.96l-1.37-1.37c-.4-.4-.92-.59-1.43-.59-.52 0-1.04.2-1.43.59L10.3 9.45l-7.72 7.72c-.78.78-.78 2.05 0 2.83L4 21.41c.39.39.9.59 1.41.59.51 0 1.02-.2 1.41-.59l7.78-7.78 2.81-2.81c.8-.78.8-2.07 0-2.86zM5.41 20L4 18.59l7.72-7.72 1.47 1.35L5.41 20z\"/>\n",
              "  </svg>\n",
              "      </button>\n",
              "      \n",
              "  <style>\n",
              "    .colab-df-container {\n",
              "      display:flex;\n",
              "      flex-wrap:wrap;\n",
              "      gap: 12px;\n",
              "    }\n",
              "\n",
              "    .colab-df-convert {\n",
              "      background-color: #E8F0FE;\n",
              "      border: none;\n",
              "      border-radius: 50%;\n",
              "      cursor: pointer;\n",
              "      display: none;\n",
              "      fill: #1967D2;\n",
              "      height: 32px;\n",
              "      padding: 0 0 0 0;\n",
              "      width: 32px;\n",
              "    }\n",
              "\n",
              "    .colab-df-convert:hover {\n",
              "      background-color: #E2EBFA;\n",
              "      box-shadow: 0px 1px 2px rgba(60, 64, 67, 0.3), 0px 1px 3px 1px rgba(60, 64, 67, 0.15);\n",
              "      fill: #174EA6;\n",
              "    }\n",
              "\n",
              "    [theme=dark] .colab-df-convert {\n",
              "      background-color: #3B4455;\n",
              "      fill: #D2E3FC;\n",
              "    }\n",
              "\n",
              "    [theme=dark] .colab-df-convert:hover {\n",
              "      background-color: #434B5C;\n",
              "      box-shadow: 0px 1px 3px 1px rgba(0, 0, 0, 0.15);\n",
              "      filter: drop-shadow(0px 1px 2px rgba(0, 0, 0, 0.3));\n",
              "      fill: #FFFFFF;\n",
              "    }\n",
              "  </style>\n",
              "\n",
              "      <script>\n",
              "        const buttonEl =\n",
              "          document.querySelector('#df-31809b32-d638-481c-a712-cbc71ba321eb button.colab-df-convert');\n",
              "        buttonEl.style.display =\n",
              "          google.colab.kernel.accessAllowed ? 'block' : 'none';\n",
              "\n",
              "        async function convertToInteractive(key) {\n",
              "          const element = document.querySelector('#df-31809b32-d638-481c-a712-cbc71ba321eb');\n",
              "          const dataTable =\n",
              "            await google.colab.kernel.invokeFunction('convertToInteractive',\n",
              "                                                     [key], {});\n",
              "          if (!dataTable) return;\n",
              "\n",
              "          const docLinkHtml = 'Like what you see? Visit the ' +\n",
              "            '<a target=\"_blank\" href=https://colab.research.google.com/notebooks/data_table.ipynb>data table notebook</a>'\n",
              "            + ' to learn more about interactive tables.';\n",
              "          element.innerHTML = '';\n",
              "          dataTable['output_type'] = 'display_data';\n",
              "          await google.colab.output.renderOutput(dataTable, element);\n",
              "          const docLink = document.createElement('div');\n",
              "          docLink.innerHTML = docLinkHtml;\n",
              "          element.appendChild(docLink);\n",
              "        }\n",
              "      </script>\n",
              "    </div>\n",
              "  </div>\n",
              "  "
            ]
          },
          "metadata": {},
          "execution_count": 3
        }
      ]
    },
    {
      "cell_type": "code",
      "source": [
        "# Extracting only selective columns from above returned data frame \n",
        "# by using parameters of read_csv: usecols\n",
        "pd.read_csv(data_url, usecols = ['country', 'wine_servings'])"
      ],
      "metadata": {
        "colab": {
          "base_uri": "https://localhost:8080/",
          "height": 0
        },
        "id": "yBOIs8z8yXY_",
        "outputId": "f521d110-cfeb-42c9-af0e-022aea0764c9"
      },
      "execution_count": 4,
      "outputs": [
        {
          "output_type": "execute_result",
          "data": {
            "text/plain": [
              "         country  wine_servings\n",
              "0    Afghanistan            NaN\n",
              "1        Albania           54.0\n",
              "2        Algeria           14.0\n",
              "3        Andorra          312.0\n",
              "4         Angola           45.0\n",
              "..           ...            ...\n",
              "188    Venezuela            3.0\n",
              "189      Vietnam            1.0\n",
              "190        Yemen            NaN\n",
              "191       Zambia            4.0\n",
              "192     Zimbabwe            4.0\n",
              "\n",
              "[193 rows x 2 columns]"
            ],
            "text/html": [
              "\n",
              "  <div id=\"df-0b8b4ea2-a6f8-4bf6-bc26-dd9e710c49ea\">\n",
              "    <div class=\"colab-df-container\">\n",
              "      <div>\n",
              "<style scoped>\n",
              "    .dataframe tbody tr th:only-of-type {\n",
              "        vertical-align: middle;\n",
              "    }\n",
              "\n",
              "    .dataframe tbody tr th {\n",
              "        vertical-align: top;\n",
              "    }\n",
              "\n",
              "    .dataframe thead th {\n",
              "        text-align: right;\n",
              "    }\n",
              "</style>\n",
              "<table border=\"1\" class=\"dataframe\">\n",
              "  <thead>\n",
              "    <tr style=\"text-align: right;\">\n",
              "      <th></th>\n",
              "      <th>country</th>\n",
              "      <th>wine_servings</th>\n",
              "    </tr>\n",
              "  </thead>\n",
              "  <tbody>\n",
              "    <tr>\n",
              "      <th>0</th>\n",
              "      <td>Afghanistan</td>\n",
              "      <td>NaN</td>\n",
              "    </tr>\n",
              "    <tr>\n",
              "      <th>1</th>\n",
              "      <td>Albania</td>\n",
              "      <td>54.0</td>\n",
              "    </tr>\n",
              "    <tr>\n",
              "      <th>2</th>\n",
              "      <td>Algeria</td>\n",
              "      <td>14.0</td>\n",
              "    </tr>\n",
              "    <tr>\n",
              "      <th>3</th>\n",
              "      <td>Andorra</td>\n",
              "      <td>312.0</td>\n",
              "    </tr>\n",
              "    <tr>\n",
              "      <th>4</th>\n",
              "      <td>Angola</td>\n",
              "      <td>45.0</td>\n",
              "    </tr>\n",
              "    <tr>\n",
              "      <th>...</th>\n",
              "      <td>...</td>\n",
              "      <td>...</td>\n",
              "    </tr>\n",
              "    <tr>\n",
              "      <th>188</th>\n",
              "      <td>Venezuela</td>\n",
              "      <td>3.0</td>\n",
              "    </tr>\n",
              "    <tr>\n",
              "      <th>189</th>\n",
              "      <td>Vietnam</td>\n",
              "      <td>1.0</td>\n",
              "    </tr>\n",
              "    <tr>\n",
              "      <th>190</th>\n",
              "      <td>Yemen</td>\n",
              "      <td>NaN</td>\n",
              "    </tr>\n",
              "    <tr>\n",
              "      <th>191</th>\n",
              "      <td>Zambia</td>\n",
              "      <td>4.0</td>\n",
              "    </tr>\n",
              "    <tr>\n",
              "      <th>192</th>\n",
              "      <td>Zimbabwe</td>\n",
              "      <td>4.0</td>\n",
              "    </tr>\n",
              "  </tbody>\n",
              "</table>\n",
              "<p>193 rows × 2 columns</p>\n",
              "</div>\n",
              "      <button class=\"colab-df-convert\" onclick=\"convertToInteractive('df-0b8b4ea2-a6f8-4bf6-bc26-dd9e710c49ea')\"\n",
              "              title=\"Convert this dataframe to an interactive table.\"\n",
              "              style=\"display:none;\">\n",
              "        \n",
              "  <svg xmlns=\"http://www.w3.org/2000/svg\" height=\"24px\"viewBox=\"0 0 24 24\"\n",
              "       width=\"24px\">\n",
              "    <path d=\"M0 0h24v24H0V0z\" fill=\"none\"/>\n",
              "    <path d=\"M18.56 5.44l.94 2.06.94-2.06 2.06-.94-2.06-.94-.94-2.06-.94 2.06-2.06.94zm-11 1L8.5 8.5l.94-2.06 2.06-.94-2.06-.94L8.5 2.5l-.94 2.06-2.06.94zm10 10l.94 2.06.94-2.06 2.06-.94-2.06-.94-.94-2.06-.94 2.06-2.06.94z\"/><path d=\"M17.41 7.96l-1.37-1.37c-.4-.4-.92-.59-1.43-.59-.52 0-1.04.2-1.43.59L10.3 9.45l-7.72 7.72c-.78.78-.78 2.05 0 2.83L4 21.41c.39.39.9.59 1.41.59.51 0 1.02-.2 1.41-.59l7.78-7.78 2.81-2.81c.8-.78.8-2.07 0-2.86zM5.41 20L4 18.59l7.72-7.72 1.47 1.35L5.41 20z\"/>\n",
              "  </svg>\n",
              "      </button>\n",
              "      \n",
              "  <style>\n",
              "    .colab-df-container {\n",
              "      display:flex;\n",
              "      flex-wrap:wrap;\n",
              "      gap: 12px;\n",
              "    }\n",
              "\n",
              "    .colab-df-convert {\n",
              "      background-color: #E8F0FE;\n",
              "      border: none;\n",
              "      border-radius: 50%;\n",
              "      cursor: pointer;\n",
              "      display: none;\n",
              "      fill: #1967D2;\n",
              "      height: 32px;\n",
              "      padding: 0 0 0 0;\n",
              "      width: 32px;\n",
              "    }\n",
              "\n",
              "    .colab-df-convert:hover {\n",
              "      background-color: #E2EBFA;\n",
              "      box-shadow: 0px 1px 2px rgba(60, 64, 67, 0.3), 0px 1px 3px 1px rgba(60, 64, 67, 0.15);\n",
              "      fill: #174EA6;\n",
              "    }\n",
              "\n",
              "    [theme=dark] .colab-df-convert {\n",
              "      background-color: #3B4455;\n",
              "      fill: #D2E3FC;\n",
              "    }\n",
              "\n",
              "    [theme=dark] .colab-df-convert:hover {\n",
              "      background-color: #434B5C;\n",
              "      box-shadow: 0px 1px 3px 1px rgba(0, 0, 0, 0.15);\n",
              "      filter: drop-shadow(0px 1px 2px rgba(0, 0, 0, 0.3));\n",
              "      fill: #FFFFFF;\n",
              "    }\n",
              "  </style>\n",
              "\n",
              "      <script>\n",
              "        const buttonEl =\n",
              "          document.querySelector('#df-0b8b4ea2-a6f8-4bf6-bc26-dd9e710c49ea button.colab-df-convert');\n",
              "        buttonEl.style.display =\n",
              "          google.colab.kernel.accessAllowed ? 'block' : 'none';\n",
              "\n",
              "        async function convertToInteractive(key) {\n",
              "          const element = document.querySelector('#df-0b8b4ea2-a6f8-4bf6-bc26-dd9e710c49ea');\n",
              "          const dataTable =\n",
              "            await google.colab.kernel.invokeFunction('convertToInteractive',\n",
              "                                                     [key], {});\n",
              "          if (!dataTable) return;\n",
              "\n",
              "          const docLinkHtml = 'Like what you see? Visit the ' +\n",
              "            '<a target=\"_blank\" href=https://colab.research.google.com/notebooks/data_table.ipynb>data table notebook</a>'\n",
              "            + ' to learn more about interactive tables.';\n",
              "          element.innerHTML = '';\n",
              "          dataTable['output_type'] = 'display_data';\n",
              "          await google.colab.output.renderOutput(dataTable, element);\n",
              "          const docLink = document.createElement('div');\n",
              "          docLink.innerHTML = docLinkHtml;\n",
              "          element.appendChild(docLink);\n",
              "        }\n",
              "      </script>\n",
              "    </div>\n",
              "  </div>\n",
              "  "
            ]
          },
          "metadata": {},
          "execution_count": 4
        }
      ]
    },
    {
      "cell_type": "code",
      "source": [
        "# making country as index of the series \n",
        "# by using parameters of read_csv: index_col\n",
        "pd.read_csv(data_url, usecols = ['country', 'wine_servings'], index_col = 'country')"
      ],
      "metadata": {
        "colab": {
          "base_uri": "https://localhost:8080/",
          "height": 0
        },
        "id": "JxCOwEla0ggG",
        "outputId": "6a6a2bfa-e532-49a7-aa59-00ca4bcd5fd5"
      },
      "execution_count": 5,
      "outputs": [
        {
          "output_type": "execute_result",
          "data": {
            "text/plain": [
              "             wine_servings\n",
              "country                   \n",
              "Afghanistan            NaN\n",
              "Albania               54.0\n",
              "Algeria               14.0\n",
              "Andorra              312.0\n",
              "Angola                45.0\n",
              "...                    ...\n",
              "Venezuela              3.0\n",
              "Vietnam                1.0\n",
              "Yemen                  NaN\n",
              "Zambia                 4.0\n",
              "Zimbabwe               4.0\n",
              "\n",
              "[193 rows x 1 columns]"
            ],
            "text/html": [
              "\n",
              "  <div id=\"df-df11bdaf-bee4-4a56-8b60-b7a0e8c2268f\">\n",
              "    <div class=\"colab-df-container\">\n",
              "      <div>\n",
              "<style scoped>\n",
              "    .dataframe tbody tr th:only-of-type {\n",
              "        vertical-align: middle;\n",
              "    }\n",
              "\n",
              "    .dataframe tbody tr th {\n",
              "        vertical-align: top;\n",
              "    }\n",
              "\n",
              "    .dataframe thead th {\n",
              "        text-align: right;\n",
              "    }\n",
              "</style>\n",
              "<table border=\"1\" class=\"dataframe\">\n",
              "  <thead>\n",
              "    <tr style=\"text-align: right;\">\n",
              "      <th></th>\n",
              "      <th>wine_servings</th>\n",
              "    </tr>\n",
              "    <tr>\n",
              "      <th>country</th>\n",
              "      <th></th>\n",
              "    </tr>\n",
              "  </thead>\n",
              "  <tbody>\n",
              "    <tr>\n",
              "      <th>Afghanistan</th>\n",
              "      <td>NaN</td>\n",
              "    </tr>\n",
              "    <tr>\n",
              "      <th>Albania</th>\n",
              "      <td>54.0</td>\n",
              "    </tr>\n",
              "    <tr>\n",
              "      <th>Algeria</th>\n",
              "      <td>14.0</td>\n",
              "    </tr>\n",
              "    <tr>\n",
              "      <th>Andorra</th>\n",
              "      <td>312.0</td>\n",
              "    </tr>\n",
              "    <tr>\n",
              "      <th>Angola</th>\n",
              "      <td>45.0</td>\n",
              "    </tr>\n",
              "    <tr>\n",
              "      <th>...</th>\n",
              "      <td>...</td>\n",
              "    </tr>\n",
              "    <tr>\n",
              "      <th>Venezuela</th>\n",
              "      <td>3.0</td>\n",
              "    </tr>\n",
              "    <tr>\n",
              "      <th>Vietnam</th>\n",
              "      <td>1.0</td>\n",
              "    </tr>\n",
              "    <tr>\n",
              "      <th>Yemen</th>\n",
              "      <td>NaN</td>\n",
              "    </tr>\n",
              "    <tr>\n",
              "      <th>Zambia</th>\n",
              "      <td>4.0</td>\n",
              "    </tr>\n",
              "    <tr>\n",
              "      <th>Zimbabwe</th>\n",
              "      <td>4.0</td>\n",
              "    </tr>\n",
              "  </tbody>\n",
              "</table>\n",
              "<p>193 rows × 1 columns</p>\n",
              "</div>\n",
              "      <button class=\"colab-df-convert\" onclick=\"convertToInteractive('df-df11bdaf-bee4-4a56-8b60-b7a0e8c2268f')\"\n",
              "              title=\"Convert this dataframe to an interactive table.\"\n",
              "              style=\"display:none;\">\n",
              "        \n",
              "  <svg xmlns=\"http://www.w3.org/2000/svg\" height=\"24px\"viewBox=\"0 0 24 24\"\n",
              "       width=\"24px\">\n",
              "    <path d=\"M0 0h24v24H0V0z\" fill=\"none\"/>\n",
              "    <path d=\"M18.56 5.44l.94 2.06.94-2.06 2.06-.94-2.06-.94-.94-2.06-.94 2.06-2.06.94zm-11 1L8.5 8.5l.94-2.06 2.06-.94-2.06-.94L8.5 2.5l-.94 2.06-2.06.94zm10 10l.94 2.06.94-2.06 2.06-.94-2.06-.94-.94-2.06-.94 2.06-2.06.94z\"/><path d=\"M17.41 7.96l-1.37-1.37c-.4-.4-.92-.59-1.43-.59-.52 0-1.04.2-1.43.59L10.3 9.45l-7.72 7.72c-.78.78-.78 2.05 0 2.83L4 21.41c.39.39.9.59 1.41.59.51 0 1.02-.2 1.41-.59l7.78-7.78 2.81-2.81c.8-.78.8-2.07 0-2.86zM5.41 20L4 18.59l7.72-7.72 1.47 1.35L5.41 20z\"/>\n",
              "  </svg>\n",
              "      </button>\n",
              "      \n",
              "  <style>\n",
              "    .colab-df-container {\n",
              "      display:flex;\n",
              "      flex-wrap:wrap;\n",
              "      gap: 12px;\n",
              "    }\n",
              "\n",
              "    .colab-df-convert {\n",
              "      background-color: #E8F0FE;\n",
              "      border: none;\n",
              "      border-radius: 50%;\n",
              "      cursor: pointer;\n",
              "      display: none;\n",
              "      fill: #1967D2;\n",
              "      height: 32px;\n",
              "      padding: 0 0 0 0;\n",
              "      width: 32px;\n",
              "    }\n",
              "\n",
              "    .colab-df-convert:hover {\n",
              "      background-color: #E2EBFA;\n",
              "      box-shadow: 0px 1px 2px rgba(60, 64, 67, 0.3), 0px 1px 3px 1px rgba(60, 64, 67, 0.15);\n",
              "      fill: #174EA6;\n",
              "    }\n",
              "\n",
              "    [theme=dark] .colab-df-convert {\n",
              "      background-color: #3B4455;\n",
              "      fill: #D2E3FC;\n",
              "    }\n",
              "\n",
              "    [theme=dark] .colab-df-convert:hover {\n",
              "      background-color: #434B5C;\n",
              "      box-shadow: 0px 1px 3px 1px rgba(0, 0, 0, 0.15);\n",
              "      filter: drop-shadow(0px 1px 2px rgba(0, 0, 0, 0.3));\n",
              "      fill: #FFFFFF;\n",
              "    }\n",
              "  </style>\n",
              "\n",
              "      <script>\n",
              "        const buttonEl =\n",
              "          document.querySelector('#df-df11bdaf-bee4-4a56-8b60-b7a0e8c2268f button.colab-df-convert');\n",
              "        buttonEl.style.display =\n",
              "          google.colab.kernel.accessAllowed ? 'block' : 'none';\n",
              "\n",
              "        async function convertToInteractive(key) {\n",
              "          const element = document.querySelector('#df-df11bdaf-bee4-4a56-8b60-b7a0e8c2268f');\n",
              "          const dataTable =\n",
              "            await google.colab.kernel.invokeFunction('convertToInteractive',\n",
              "                                                     [key], {});\n",
              "          if (!dataTable) return;\n",
              "\n",
              "          const docLinkHtml = 'Like what you see? Visit the ' +\n",
              "            '<a target=\"_blank\" href=https://colab.research.google.com/notebooks/data_table.ipynb>data table notebook</a>'\n",
              "            + ' to learn more about interactive tables.';\n",
              "          element.innerHTML = '';\n",
              "          dataTable['output_type'] = 'display_data';\n",
              "          await google.colab.output.renderOutput(dataTable, element);\n",
              "          const docLink = document.createElement('div');\n",
              "          docLink.innerHTML = docLinkHtml;\n",
              "          element.appendChild(docLink);\n",
              "        }\n",
              "      </script>\n",
              "    </div>\n",
              "  </div>\n",
              "  "
            ]
          },
          "metadata": {},
          "execution_count": 5
        }
      ]
    },
    {
      "cell_type": "code",
      "source": [
        "alcohol = pd.read_csv(data_url, usecols = ['country', 'wine_servings'], index_col = 'country')"
      ],
      "metadata": {
        "id": "6nX5f-Na3WqM"
      },
      "execution_count": 6,
      "outputs": []
    },
    {
      "cell_type": "code",
      "source": [
        "alcohol"
      ],
      "metadata": {
        "colab": {
          "base_uri": "https://localhost:8080/",
          "height": 0
        },
        "id": "AGuuCeu-3b5n",
        "outputId": "56338e47-574e-4d1b-e186-af885d15dbe8"
      },
      "execution_count": 7,
      "outputs": [
        {
          "output_type": "execute_result",
          "data": {
            "text/plain": [
              "             wine_servings\n",
              "country                   \n",
              "Afghanistan            NaN\n",
              "Albania               54.0\n",
              "Algeria               14.0\n",
              "Andorra              312.0\n",
              "Angola                45.0\n",
              "...                    ...\n",
              "Venezuela              3.0\n",
              "Vietnam                1.0\n",
              "Yemen                  NaN\n",
              "Zambia                 4.0\n",
              "Zimbabwe               4.0\n",
              "\n",
              "[193 rows x 1 columns]"
            ],
            "text/html": [
              "\n",
              "  <div id=\"df-8260d472-bbd8-4ee8-8589-43b010d8c4d5\">\n",
              "    <div class=\"colab-df-container\">\n",
              "      <div>\n",
              "<style scoped>\n",
              "    .dataframe tbody tr th:only-of-type {\n",
              "        vertical-align: middle;\n",
              "    }\n",
              "\n",
              "    .dataframe tbody tr th {\n",
              "        vertical-align: top;\n",
              "    }\n",
              "\n",
              "    .dataframe thead th {\n",
              "        text-align: right;\n",
              "    }\n",
              "</style>\n",
              "<table border=\"1\" class=\"dataframe\">\n",
              "  <thead>\n",
              "    <tr style=\"text-align: right;\">\n",
              "      <th></th>\n",
              "      <th>wine_servings</th>\n",
              "    </tr>\n",
              "    <tr>\n",
              "      <th>country</th>\n",
              "      <th></th>\n",
              "    </tr>\n",
              "  </thead>\n",
              "  <tbody>\n",
              "    <tr>\n",
              "      <th>Afghanistan</th>\n",
              "      <td>NaN</td>\n",
              "    </tr>\n",
              "    <tr>\n",
              "      <th>Albania</th>\n",
              "      <td>54.0</td>\n",
              "    </tr>\n",
              "    <tr>\n",
              "      <th>Algeria</th>\n",
              "      <td>14.0</td>\n",
              "    </tr>\n",
              "    <tr>\n",
              "      <th>Andorra</th>\n",
              "      <td>312.0</td>\n",
              "    </tr>\n",
              "    <tr>\n",
              "      <th>Angola</th>\n",
              "      <td>45.0</td>\n",
              "    </tr>\n",
              "    <tr>\n",
              "      <th>...</th>\n",
              "      <td>...</td>\n",
              "    </tr>\n",
              "    <tr>\n",
              "      <th>Venezuela</th>\n",
              "      <td>3.0</td>\n",
              "    </tr>\n",
              "    <tr>\n",
              "      <th>Vietnam</th>\n",
              "      <td>1.0</td>\n",
              "    </tr>\n",
              "    <tr>\n",
              "      <th>Yemen</th>\n",
              "      <td>NaN</td>\n",
              "    </tr>\n",
              "    <tr>\n",
              "      <th>Zambia</th>\n",
              "      <td>4.0</td>\n",
              "    </tr>\n",
              "    <tr>\n",
              "      <th>Zimbabwe</th>\n",
              "      <td>4.0</td>\n",
              "    </tr>\n",
              "  </tbody>\n",
              "</table>\n",
              "<p>193 rows × 1 columns</p>\n",
              "</div>\n",
              "      <button class=\"colab-df-convert\" onclick=\"convertToInteractive('df-8260d472-bbd8-4ee8-8589-43b010d8c4d5')\"\n",
              "              title=\"Convert this dataframe to an interactive table.\"\n",
              "              style=\"display:none;\">\n",
              "        \n",
              "  <svg xmlns=\"http://www.w3.org/2000/svg\" height=\"24px\"viewBox=\"0 0 24 24\"\n",
              "       width=\"24px\">\n",
              "    <path d=\"M0 0h24v24H0V0z\" fill=\"none\"/>\n",
              "    <path d=\"M18.56 5.44l.94 2.06.94-2.06 2.06-.94-2.06-.94-.94-2.06-.94 2.06-2.06.94zm-11 1L8.5 8.5l.94-2.06 2.06-.94-2.06-.94L8.5 2.5l-.94 2.06-2.06.94zm10 10l.94 2.06.94-2.06 2.06-.94-2.06-.94-.94-2.06-.94 2.06-2.06.94z\"/><path d=\"M17.41 7.96l-1.37-1.37c-.4-.4-.92-.59-1.43-.59-.52 0-1.04.2-1.43.59L10.3 9.45l-7.72 7.72c-.78.78-.78 2.05 0 2.83L4 21.41c.39.39.9.59 1.41.59.51 0 1.02-.2 1.41-.59l7.78-7.78 2.81-2.81c.8-.78.8-2.07 0-2.86zM5.41 20L4 18.59l7.72-7.72 1.47 1.35L5.41 20z\"/>\n",
              "  </svg>\n",
              "      </button>\n",
              "      \n",
              "  <style>\n",
              "    .colab-df-container {\n",
              "      display:flex;\n",
              "      flex-wrap:wrap;\n",
              "      gap: 12px;\n",
              "    }\n",
              "\n",
              "    .colab-df-convert {\n",
              "      background-color: #E8F0FE;\n",
              "      border: none;\n",
              "      border-radius: 50%;\n",
              "      cursor: pointer;\n",
              "      display: none;\n",
              "      fill: #1967D2;\n",
              "      height: 32px;\n",
              "      padding: 0 0 0 0;\n",
              "      width: 32px;\n",
              "    }\n",
              "\n",
              "    .colab-df-convert:hover {\n",
              "      background-color: #E2EBFA;\n",
              "      box-shadow: 0px 1px 2px rgba(60, 64, 67, 0.3), 0px 1px 3px 1px rgba(60, 64, 67, 0.15);\n",
              "      fill: #174EA6;\n",
              "    }\n",
              "\n",
              "    [theme=dark] .colab-df-convert {\n",
              "      background-color: #3B4455;\n",
              "      fill: #D2E3FC;\n",
              "    }\n",
              "\n",
              "    [theme=dark] .colab-df-convert:hover {\n",
              "      background-color: #434B5C;\n",
              "      box-shadow: 0px 1px 3px 1px rgba(0, 0, 0, 0.15);\n",
              "      filter: drop-shadow(0px 1px 2px rgba(0, 0, 0, 0.3));\n",
              "      fill: #FFFFFF;\n",
              "    }\n",
              "  </style>\n",
              "\n",
              "      <script>\n",
              "        const buttonEl =\n",
              "          document.querySelector('#df-8260d472-bbd8-4ee8-8589-43b010d8c4d5 button.colab-df-convert');\n",
              "        buttonEl.style.display =\n",
              "          google.colab.kernel.accessAllowed ? 'block' : 'none';\n",
              "\n",
              "        async function convertToInteractive(key) {\n",
              "          const element = document.querySelector('#df-8260d472-bbd8-4ee8-8589-43b010d8c4d5');\n",
              "          const dataTable =\n",
              "            await google.colab.kernel.invokeFunction('convertToInteractive',\n",
              "                                                     [key], {});\n",
              "          if (!dataTable) return;\n",
              "\n",
              "          const docLinkHtml = 'Like what you see? Visit the ' +\n",
              "            '<a target=\"_blank\" href=https://colab.research.google.com/notebooks/data_table.ipynb>data table notebook</a>'\n",
              "            + ' to learn more about interactive tables.';\n",
              "          element.innerHTML = '';\n",
              "          dataTable['output_type'] = 'display_data';\n",
              "          await google.colab.output.renderOutput(dataTable, element);\n",
              "          const docLink = document.createElement('div');\n",
              "          docLink.innerHTML = docLinkHtml;\n",
              "          element.appendChild(docLink);\n",
              "        }\n",
              "      </script>\n",
              "    </div>\n",
              "  </div>\n",
              "  "
            ]
          },
          "metadata": {},
          "execution_count": 7
        }
      ]
    },
    {
      "cell_type": "code",
      "source": [
        "type(alcohol)"
      ],
      "metadata": {
        "colab": {
          "base_uri": "https://localhost:8080/"
        },
        "id": "WqwCVmRY3dEU",
        "outputId": "eb194cf1-e9ac-42a1-a36e-6dbb22e28aa9"
      },
      "execution_count": 8,
      "outputs": [
        {
          "output_type": "execute_result",
          "data": {
            "text/plain": [
              "pandas.core.frame.DataFrame"
            ]
          },
          "metadata": {},
          "execution_count": 8
        }
      ]
    },
    {
      "cell_type": "code",
      "source": [
        "# squeeze parameter i read_csv():\n",
        "# if parsed data has only one column, it returns a series\n",
        "alcohol = pd.read_csv(data_url, usecols = ['country', 'wine_servings'], index_col = 'country', squeeze = True)"
      ],
      "metadata": {
        "id": "pO1ZO5nt4SkL"
      },
      "execution_count": 9,
      "outputs": []
    },
    {
      "cell_type": "code",
      "source": [
        "type(alcohol)"
      ],
      "metadata": {
        "colab": {
          "base_uri": "https://localhost:8080/"
        },
        "id": "uTCht-gM58wE",
        "outputId": "c468f6f0-6f7c-46a3-ef68-39837f7db210"
      },
      "execution_count": 10,
      "outputs": [
        {
          "output_type": "execute_result",
          "data": {
            "text/plain": [
              "pandas.core.series.Series"
            ]
          },
          "metadata": {},
          "execution_count": 10
        }
      ]
    },
    {
      "cell_type": "code",
      "source": [
        "alcohol"
      ],
      "metadata": {
        "colab": {
          "base_uri": "https://localhost:8080/"
        },
        "id": "jGqIIQqU5-PM",
        "outputId": "4b7f73ec-ed5c-4a66-f0dc-454d568e9833"
      },
      "execution_count": 11,
      "outputs": [
        {
          "output_type": "execute_result",
          "data": {
            "text/plain": [
              "country\n",
              "Afghanistan      NaN\n",
              "Albania         54.0\n",
              "Algeria         14.0\n",
              "Andorra        312.0\n",
              "Angola          45.0\n",
              "               ...  \n",
              "Venezuela        3.0\n",
              "Vietnam          1.0\n",
              "Yemen            NaN\n",
              "Zambia           4.0\n",
              "Zimbabwe         4.0\n",
              "Name: wine_servings, Length: 193, dtype: float64"
            ]
          },
          "metadata": {},
          "execution_count": 11
        }
      ]
    },
    {
      "cell_type": "markdown",
      "source": [
        "# Series Sizing WIth .size , .shape And len()"
      ],
      "metadata": {
        "id": "8IQrsrTw7s0F"
      }
    },
    {
      "cell_type": "code",
      "source": [
        "alcohol.size"
      ],
      "metadata": {
        "colab": {
          "base_uri": "https://localhost:8080/"
        },
        "id": "q4eCdzR36DRR",
        "outputId": "c41058c7-cabc-4c75-f08c-96324c70523c"
      },
      "execution_count": 12,
      "outputs": [
        {
          "output_type": "execute_result",
          "data": {
            "text/plain": [
              "193"
            ]
          },
          "metadata": {},
          "execution_count": 12
        }
      ]
    },
    {
      "cell_type": "code",
      "source": [
        "alcohol.values"
      ],
      "metadata": {
        "colab": {
          "base_uri": "https://localhost:8080/"
        },
        "id": "0R560MQL8kjH",
        "outputId": "5677cf9f-4655-41c5-d7c0-a3a79f30eb0e"
      },
      "execution_count": 13,
      "outputs": [
        {
          "output_type": "execute_result",
          "data": {
            "text/plain": [
              "array([ nan,  54.,  14., 312.,  45.,  45., 221.,  11., 212., 191.,   5.,\n",
              "        51.,   7.,  nan,  36.,  42., 212.,   8.,  13.,  nan,   8.,   8.,\n",
              "        35.,  16.,   1.,  94.,   7.,  nan,   7.,  16.,   1.,   4.,   1.,\n",
              "         1.,   1., 172.,   8.,   3.,   1.,   9.,  74.,  11., 254.,   5.,\n",
              "       113., 134.,  nan,   1., 278.,   3.,  26.,   9.,   3.,   1.,   2.,\n",
              "       233.,  nan,  59.,  nan,   1.,  97.,  37.,  59.,   1., 149., 175.,\n",
              "         1., 218.,  28.,   2.,   2.,  21.,   1.,   1.,   2., 185.,  78.,\n",
              "        nan,  nan,  nan,  nan, 165.,   9., 237.,   9.,  16.,   1.,  12.,\n",
              "         2.,   1.,  nan,   6., 123.,  62.,  31.,  nan,   2.,  nan,  56.,\n",
              "       271.,   4.,   1.,  nan,  nan,   1.,  12.,  nan,  nan,  18.,   5.,\n",
              "        18.,  nan,   8., 128.,   1.,   5.,  nan,   1.,   8.,  nan,  19.,\n",
              "       175.,   1.,   1.,   2.,   7., 129.,   1.,  nan,  23.,  18.,   1.,\n",
              "        74.,  21.,   1.,  56., 339.,   7.,   9.,  18., 167.,  73.,  nan,\n",
              "        32.,  71.,  11.,  24.,  nan,  14.,  nan,   7., 127.,  51.,   2.,\n",
              "        11., 116., 276.,   1.,  nan,  81., 112.,  nan,  nan,   7.,   2.,\n",
              "       186.,  28.,  16.,  nan,   1.,  86.,   4.,  19.,   5.,   7.,   2.,\n",
              "         7.,  32.,   9.,  nan,  45.,   5., 195.,   1.,  84.,  22.,   8.,\n",
              "        11.,   3.,   1.,  nan,   4.,   4.])"
            ]
          },
          "metadata": {},
          "execution_count": 13
        }
      ]
    },
    {
      "cell_type": "code",
      "source": [
        "alcohol.index"
      ],
      "metadata": {
        "colab": {
          "base_uri": "https://localhost:8080/"
        },
        "id": "YJ1W9j-cAEBb",
        "outputId": "fb4216ee-4c3b-44d5-8225-505649d71fdb"
      },
      "execution_count": 14,
      "outputs": [
        {
          "output_type": "execute_result",
          "data": {
            "text/plain": [
              "Index(['Afghanistan', 'Albania', 'Algeria', 'Andorra', 'Angola',\n",
              "       'Antigua & Barbuda', 'Argentina', 'Armenia', 'Australia', 'Austria',\n",
              "       ...\n",
              "       'Tanzania', 'USA', 'Uruguay', 'Uzbekistan', 'Vanuatu', 'Venezuela',\n",
              "       'Vietnam', 'Yemen', 'Zambia', 'Zimbabwe'],\n",
              "      dtype='object', name='country', length=193)"
            ]
          },
          "metadata": {},
          "execution_count": 14
        }
      ]
    },
    {
      "cell_type": "code",
      "source": [
        "alcohol.values.size"
      ],
      "metadata": {
        "colab": {
          "base_uri": "https://localhost:8080/"
        },
        "id": "8OQaeQ3pAFv3",
        "outputId": "be17159b-3b5d-4696-b08c-9d5fb5530042"
      },
      "execution_count": 15,
      "outputs": [
        {
          "output_type": "execute_result",
          "data": {
            "text/plain": [
              "193"
            ]
          },
          "metadata": {},
          "execution_count": 15
        }
      ]
    },
    {
      "cell_type": "code",
      "source": [
        "alcohol.index.size"
      ],
      "metadata": {
        "colab": {
          "base_uri": "https://localhost:8080/"
        },
        "id": "Rm5IigCAAIwP",
        "outputId": "38307f20-31fd-4fa2-c71a-243b3f032ce9"
      },
      "execution_count": 16,
      "outputs": [
        {
          "output_type": "execute_result",
          "data": {
            "text/plain": [
              "193"
            ]
          },
          "metadata": {},
          "execution_count": 16
        }
      ]
    },
    {
      "cell_type": "code",
      "source": [
        "alcohol.values.size == alcohol.index.size"
      ],
      "metadata": {
        "colab": {
          "base_uri": "https://localhost:8080/"
        },
        "id": "pWmNlrC_AKzu",
        "outputId": "0aeb1af7-d782-4c3e-a321-3d052a0a55f5"
      },
      "execution_count": 17,
      "outputs": [
        {
          "output_type": "execute_result",
          "data": {
            "text/plain": [
              "True"
            ]
          },
          "metadata": {},
          "execution_count": 17
        }
      ]
    },
    {
      "cell_type": "code",
      "source": [
        "alcohol.shape"
      ],
      "metadata": {
        "colab": {
          "base_uri": "https://localhost:8080/"
        },
        "id": "-bOswUpHAOLT",
        "outputId": "18fed603-1021-43ea-c1d2-81e1cca4c71e"
      },
      "execution_count": 18,
      "outputs": [
        {
          "output_type": "execute_result",
          "data": {
            "text/plain": [
              "(193,)"
            ]
          },
          "metadata": {},
          "execution_count": 18
        }
      ]
    },
    {
      "cell_type": "code",
      "source": [
        "alcohol.size == alcohol.shape[0]\n",
        "# Length of sesries = First element of Tuple returned by .shape\n",
        "# Series is one-dimensional, hence .shape returns tuple with only one value: (193,0)"
      ],
      "metadata": {
        "colab": {
          "base_uri": "https://localhost:8080/"
        },
        "id": "EUYBpM3MCgui",
        "outputId": "5a618cfc-f502-4329-d62a-af1c4ccfad4d"
      },
      "execution_count": 19,
      "outputs": [
        {
          "output_type": "execute_result",
          "data": {
            "text/plain": [
              "True"
            ]
          },
          "metadata": {},
          "execution_count": 19
        }
      ]
    },
    {
      "cell_type": "markdown",
      "source": [
        "# Unique Values and Series Monotonicity"
      ],
      "metadata": {
        "id": "JtKqxylGEQI6"
      }
    },
    {
      "cell_type": "markdown",
      "source": [
        "Uniqueness"
      ],
      "metadata": {
        "id": "K6jOVQ758FWQ"
      }
    },
    {
      "cell_type": "code",
      "source": [
        "alcohol.is_unique"
      ],
      "metadata": {
        "id": "hwMcnLVhCkp-",
        "colab": {
          "base_uri": "https://localhost:8080/"
        },
        "outputId": "79027e50-06dd-4a8a-9a15-dfbc8e70401f"
      },
      "execution_count": 20,
      "outputs": [
        {
          "output_type": "execute_result",
          "data": {
            "text/plain": [
              "False"
            ]
          },
          "metadata": {},
          "execution_count": 20
        }
      ]
    },
    {
      "cell_type": "code",
      "source": [
        "alcohol.head()"
      ],
      "metadata": {
        "colab": {
          "base_uri": "https://localhost:8080/"
        },
        "id": "N-mvygeKj_GN",
        "outputId": "a91eb6bd-62a4-4e9d-d1a8-de9b845dada2"
      },
      "execution_count": 21,
      "outputs": [
        {
          "output_type": "execute_result",
          "data": {
            "text/plain": [
              "country\n",
              "Afghanistan      NaN\n",
              "Albania         54.0\n",
              "Algeria         14.0\n",
              "Andorra        312.0\n",
              "Angola          45.0\n",
              "Name: wine_servings, dtype: float64"
            ]
          },
          "metadata": {},
          "execution_count": 21
        }
      ]
    },
    {
      "cell_type": "code",
      "source": [
        "alcohol.head().is_unique"
      ],
      "metadata": {
        "colab": {
          "base_uri": "https://localhost:8080/"
        },
        "id": "UWYkFUyViwni",
        "outputId": "ca3cfbd2-ba6a-466b-9ede-695925743d45"
      },
      "execution_count": 22,
      "outputs": [
        {
          "output_type": "execute_result",
          "data": {
            "text/plain": [
              "True"
            ]
          },
          "metadata": {},
          "execution_count": 22
        }
      ]
    },
    {
      "cell_type": "code",
      "source": [
        "alcohol.head().nunique()\n",
        "# Gives 1 less than true number of unique values bcoz it excludes names."
      ],
      "metadata": {
        "colab": {
          "base_uri": "https://localhost:8080/"
        },
        "id": "rfXM9s6ZkD6A",
        "outputId": "5d2776ed-bdfd-4864-d417-3bbd9cecd5d6"
      },
      "execution_count": 23,
      "outputs": [
        {
          "output_type": "execute_result",
          "data": {
            "text/plain": [
              "4"
            ]
          },
          "metadata": {},
          "execution_count": 23
        }
      ]
    },
    {
      "cell_type": "code",
      "source": [
        "alcohol.head().nunique(dropna = False)"
      ],
      "metadata": {
        "colab": {
          "base_uri": "https://localhost:8080/"
        },
        "id": "IRN6tZAFkcF9",
        "outputId": "a29c1475-e4bf-4ceb-fc8f-d3b0e9119ff3"
      },
      "execution_count": 24,
      "outputs": [
        {
          "output_type": "execute_result",
          "data": {
            "text/plain": [
              "5"
            ]
          },
          "metadata": {},
          "execution_count": 24
        }
      ]
    },
    {
      "cell_type": "markdown",
      "source": [
        "Monotonicity"
      ],
      "metadata": {
        "id": "A7Vx3tsb8BjB"
      }
    },
    {
      "cell_type": "code",
      "source": [
        "pd.Series([1,2,3]).is_monotonic"
      ],
      "metadata": {
        "colab": {
          "base_uri": "https://localhost:8080/"
        },
        "id": "g5AHXj_En-N2",
        "outputId": "ac8f41d8-fee8-404e-be8b-255e3c9187c5"
      },
      "execution_count": 25,
      "outputs": [
        {
          "output_type": "execute_result",
          "data": {
            "text/plain": [
              "True"
            ]
          },
          "metadata": {},
          "execution_count": 25
        }
      ]
    },
    {
      "cell_type": "code",
      "source": [
        "pd.Series([1,2,3,3,3,3]).is_monotonic"
      ],
      "metadata": {
        "colab": {
          "base_uri": "https://localhost:8080/"
        },
        "id": "7aZSvnPHoIrD",
        "outputId": "3c2c9e37-d2cf-49d1-ff99-b44cc39cf60b"
      },
      "execution_count": 26,
      "outputs": [
        {
          "output_type": "execute_result",
          "data": {
            "text/plain": [
              "True"
            ]
          },
          "metadata": {},
          "execution_count": 26
        }
      ]
    },
    {
      "cell_type": "code",
      "source": [
        "pd.Series([1,2,3,3,3,3,4,74,100,189,1000]).is_monotonic"
      ],
      "metadata": {
        "colab": {
          "base_uri": "https://localhost:8080/"
        },
        "id": "_ZlW4M3CoMCv",
        "outputId": "6066507e-0417-4e45-b37b-94f61c8a1df1"
      },
      "execution_count": 27,
      "outputs": [
        {
          "output_type": "execute_result",
          "data": {
            "text/plain": [
              "True"
            ]
          },
          "metadata": {},
          "execution_count": 27
        }
      ]
    },
    {
      "cell_type": "code",
      "source": [
        "pd.Series([1,2,3,3,3,3,4,74,100,189,1000,9]).is_monotonic"
      ],
      "metadata": {
        "colab": {
          "base_uri": "https://localhost:8080/"
        },
        "id": "n_l35oeHoSkM",
        "outputId": "b6f0b703-50a0-45c6-8387-5523efab7170"
      },
      "execution_count": 28,
      "outputs": [
        {
          "output_type": "execute_result",
          "data": {
            "text/plain": [
              "False"
            ]
          },
          "metadata": {},
          "execution_count": 28
        }
      ]
    },
    {
      "cell_type": "code",
      "source": [
        "pd.Series([1,2,3,3,3,3,4,74,100,189,1000,9,99, 100]).is_monotonic"
      ],
      "metadata": {
        "colab": {
          "base_uri": "https://localhost:8080/"
        },
        "id": "msurZDtioHrT",
        "outputId": "f3f3de4b-cc00-4bf5-ea7f-40bd9ccddf57"
      },
      "execution_count": 29,
      "outputs": [
        {
          "output_type": "execute_result",
          "data": {
            "text/plain": [
              "False"
            ]
          },
          "metadata": {},
          "execution_count": 29
        }
      ]
    },
    {
      "cell_type": "code",
      "source": [
        "pd.Series([1,2,3,3,3,3,4,74,100,189,1000]).is_monotonic_increasing\n",
        "# .is_monotonic is an alias to .is_monotonic_increasing"
      ],
      "metadata": {
        "colab": {
          "base_uri": "https://localhost:8080/"
        },
        "id": "ZDsZNVkHpzZf",
        "outputId": "c4b08779-7c2c-4b91-d2e3-e2704efa8f90"
      },
      "execution_count": 30,
      "outputs": [
        {
          "output_type": "execute_result",
          "data": {
            "text/plain": [
              "True"
            ]
          },
          "metadata": {},
          "execution_count": 30
        }
      ]
    },
    {
      "cell_type": "code",
      "source": [
        "pd.Series(reversed([1,2,3,3,3,3,4,74,100,189,1000])).is_monotonic"
      ],
      "metadata": {
        "colab": {
          "base_uri": "https://localhost:8080/"
        },
        "id": "Xf7IimcUpzR-",
        "outputId": "c7e7cf0f-9d1d-438c-fadf-fa202be14502"
      },
      "execution_count": 31,
      "outputs": [
        {
          "output_type": "execute_result",
          "data": {
            "text/plain": [
              "False"
            ]
          },
          "metadata": {},
          "execution_count": 31
        }
      ]
    },
    {
      "cell_type": "code",
      "source": [
        "pd.Series(reversed([1,2,3,3,3,3,4,74,100,189,1000])).is_monotonic_increasing"
      ],
      "metadata": {
        "colab": {
          "base_uri": "https://localhost:8080/"
        },
        "id": "lstcV6VspzJG",
        "outputId": "ef70c310-dd6a-4c26-8646-4ea3db0314e6"
      },
      "execution_count": 32,
      "outputs": [
        {
          "output_type": "execute_result",
          "data": {
            "text/plain": [
              "False"
            ]
          },
          "metadata": {},
          "execution_count": 32
        }
      ]
    },
    {
      "cell_type": "code",
      "source": [
        "pd.Series(reversed([1,2,3,3,3,3,4,74,100,189,1000])).is_monotonic_decreasing"
      ],
      "metadata": {
        "colab": {
          "base_uri": "https://localhost:8080/"
        },
        "id": "9xNQv7p9py-T",
        "outputId": "9c0f1c3a-a5e6-4678-f5e2-41059f401588"
      },
      "execution_count": 33,
      "outputs": [
        {
          "output_type": "execute_result",
          "data": {
            "text/plain": [
              "True"
            ]
          },
          "metadata": {},
          "execution_count": 33
        }
      ]
    },
    {
      "cell_type": "markdown",
      "source": [
        "# The count() Method"
      ],
      "metadata": {
        "id": "xJvUCGCOFHLJ"
      }
    },
    {
      "cell_type": "code",
      "source": [
        "alcohol.count()\n",
        "# Return the number of Non-NA/null values in series"
      ],
      "metadata": {
        "colab": {
          "base_uri": "https://localhost:8080/"
        },
        "id": "v05cC3gwqOxm",
        "outputId": "7db9ba51-0317-49c3-8bbc-0186849c998f"
      },
      "execution_count": 34,
      "outputs": [
        {
          "output_type": "execute_result",
          "data": {
            "text/plain": [
              "162"
            ]
          },
          "metadata": {},
          "execution_count": 34
        }
      ]
    },
    {
      "cell_type": "code",
      "source": [
        "alcohol.size\n",
        "# Returns the number of values in series"
      ],
      "metadata": {
        "colab": {
          "base_uri": "https://localhost:8080/"
        },
        "id": "JIXElunbqOuV",
        "outputId": "99344055-679e-47c4-d3ca-2bc7db15d099"
      },
      "execution_count": 35,
      "outputs": [
        {
          "output_type": "execute_result",
          "data": {
            "text/plain": [
              "193"
            ]
          },
          "metadata": {},
          "execution_count": 35
        }
      ]
    },
    {
      "cell_type": "code",
      "source": [
        "alcohol.hasnans\n",
        "# returns True if series has NA/null values"
      ],
      "metadata": {
        "colab": {
          "base_uri": "https://localhost:8080/"
        },
        "id": "1EyNWIL-qOsE",
        "outputId": "604d34c7-42b9-4837-9c6a-4f336e309726"
      },
      "execution_count": 36,
      "outputs": [
        {
          "output_type": "execute_result",
          "data": {
            "text/plain": [
              "True"
            ]
          },
          "metadata": {},
          "execution_count": 36
        }
      ]
    },
    {
      "cell_type": "markdown",
      "source": [
        "# Accessing and Counting NAs"
      ],
      "metadata": {
        "id": "Lv5fvz3DFOOP"
      }
    },
    {
      "cell_type": "markdown",
      "source": [
        "Accessing Nulls in Series"
      ],
      "metadata": {
        "id": "Dbf6RR0E4sJB"
      }
    },
    {
      "cell_type": "code",
      "source": [
        "alcohol.isnull()"
      ],
      "metadata": {
        "id": "kHHPa_RDFSKh",
        "colab": {
          "base_uri": "https://localhost:8080/"
        },
        "outputId": "48771a09-2400-4b93-89fd-b8a95171f3ba"
      },
      "execution_count": 37,
      "outputs": [
        {
          "output_type": "execute_result",
          "data": {
            "text/plain": [
              "country\n",
              "Afghanistan     True\n",
              "Albania        False\n",
              "Algeria        False\n",
              "Andorra        False\n",
              "Angola         False\n",
              "               ...  \n",
              "Venezuela      False\n",
              "Vietnam        False\n",
              "Yemen           True\n",
              "Zambia         False\n",
              "Zimbabwe       False\n",
              "Name: wine_servings, Length: 193, dtype: bool"
            ]
          },
          "metadata": {},
          "execution_count": 37
        }
      ]
    },
    {
      "cell_type": "code",
      "source": [
        "alcohol[alcohol.isnull()]"
      ],
      "metadata": {
        "colab": {
          "base_uri": "https://localhost:8080/"
        },
        "id": "1sn0BNkGtCp_",
        "outputId": "22ffbc63-5abe-428c-8614-223b835056e3"
      },
      "execution_count": 38,
      "outputs": [
        {
          "output_type": "execute_result",
          "data": {
            "text/plain": [
              "country\n",
              "Afghanistan        NaN\n",
              "Bangladesh         NaN\n",
              "Bhutan             NaN\n",
              "Burundi            NaN\n",
              "North Korea        NaN\n",
              "Eritrea            NaN\n",
              "Ethiopia           NaN\n",
              "India              NaN\n",
              "Indonesia          NaN\n",
              "Iran               NaN\n",
              "Iraq               NaN\n",
              "Kuwait             NaN\n",
              "Lesotho            NaN\n",
              "Libya              NaN\n",
              "Malaysia           NaN\n",
              "Maldives           NaN\n",
              "Marshall Islands   NaN\n",
              "Mauritania         NaN\n",
              "Monaco             NaN\n",
              "Myanmar            NaN\n",
              "Nepal              NaN\n",
              "Pakistan           NaN\n",
              "Rwanda             NaN\n",
              "San Marino         NaN\n",
              "Saudi Arabia       NaN\n",
              "Somalia            NaN\n",
              "Sri Lanka          NaN\n",
              "Sudan              NaN\n",
              "Tajikistan         NaN\n",
              "Uganda             NaN\n",
              "Yemen              NaN\n",
              "Name: wine_servings, dtype: float64"
            ]
          },
          "metadata": {},
          "execution_count": 38
        }
      ]
    },
    {
      "cell_type": "code",
      "source": [
        "alcohol[alcohol.isnull()].index"
      ],
      "metadata": {
        "colab": {
          "base_uri": "https://localhost:8080/"
        },
        "id": "DAHhgiiatCla",
        "outputId": "9406b510-d29d-4486-d921-91ac9073b354"
      },
      "execution_count": 39,
      "outputs": [
        {
          "output_type": "execute_result",
          "data": {
            "text/plain": [
              "Index(['Afghanistan', 'Bangladesh', 'Bhutan', 'Burundi', 'North Korea',\n",
              "       'Eritrea', 'Ethiopia', 'India', 'Indonesia', 'Iran', 'Iraq', 'Kuwait',\n",
              "       'Lesotho', 'Libya', 'Malaysia', 'Maldives', 'Marshall Islands',\n",
              "       'Mauritania', 'Monaco', 'Myanmar', 'Nepal', 'Pakistan', 'Rwanda',\n",
              "       'San Marino', 'Saudi Arabia', 'Somalia', 'Sri Lanka', 'Sudan',\n",
              "       'Tajikistan', 'Uganda', 'Yemen'],\n",
              "      dtype='object', name='country')"
            ]
          },
          "metadata": {},
          "execution_count": 39
        }
      ]
    },
    {
      "cell_type": "code",
      "source": [
        "type(alcohol[alcohol.isnull()].index)"
      ],
      "metadata": {
        "colab": {
          "base_uri": "https://localhost:8080/"
        },
        "id": "_Zs66eUutCiw",
        "outputId": "49043cee-767b-4db9-c039-ed0df6824e7a"
      },
      "execution_count": 40,
      "outputs": [
        {
          "output_type": "execute_result",
          "data": {
            "text/plain": [
              "pandas.core.indexes.base.Index"
            ]
          },
          "metadata": {},
          "execution_count": 40
        }
      ]
    },
    {
      "cell_type": "code",
      "source": [
        "list(alcohol[alcohol.isnull()].index)"
      ],
      "metadata": {
        "colab": {
          "base_uri": "https://localhost:8080/"
        },
        "id": "R57QbJZVtCfv",
        "outputId": "fbd16923-ad09-4901-affe-39277813cd8c"
      },
      "execution_count": 41,
      "outputs": [
        {
          "output_type": "execute_result",
          "data": {
            "text/plain": [
              "['Afghanistan',\n",
              " 'Bangladesh',\n",
              " 'Bhutan',\n",
              " 'Burundi',\n",
              " 'North Korea',\n",
              " 'Eritrea',\n",
              " 'Ethiopia',\n",
              " 'India',\n",
              " 'Indonesia',\n",
              " 'Iran',\n",
              " 'Iraq',\n",
              " 'Kuwait',\n",
              " 'Lesotho',\n",
              " 'Libya',\n",
              " 'Malaysia',\n",
              " 'Maldives',\n",
              " 'Marshall Islands',\n",
              " 'Mauritania',\n",
              " 'Monaco',\n",
              " 'Myanmar',\n",
              " 'Nepal',\n",
              " 'Pakistan',\n",
              " 'Rwanda',\n",
              " 'San Marino',\n",
              " 'Saudi Arabia',\n",
              " 'Somalia',\n",
              " 'Sri Lanka',\n",
              " 'Sudan',\n",
              " 'Tajikistan',\n",
              " 'Uganda',\n",
              " 'Yemen']"
            ]
          },
          "metadata": {},
          "execution_count": 41
        }
      ]
    },
    {
      "cell_type": "markdown",
      "source": [
        "Counting Nulls in Series"
      ],
      "metadata": {
        "id": "LA1a8Mul36rb"
      }
    },
    {
      "cell_type": "code",
      "source": [
        "len(list(alcohol[alcohol.isnull()].index))\n",
        "# Cumbersome way"
      ],
      "metadata": {
        "colab": {
          "base_uri": "https://localhost:8080/"
        },
        "id": "8DSCwHQ7tCc_",
        "outputId": "f84e5670-eb96-4b4c-da02-a0bcc73e8617"
      },
      "execution_count": 42,
      "outputs": [
        {
          "output_type": "execute_result",
          "data": {
            "text/plain": [
              "31"
            ]
          },
          "metadata": {},
          "execution_count": 42
        }
      ]
    },
    {
      "cell_type": "code",
      "source": [
        "# Pandorable way\n",
        "# Booleans are integers in Python: \n",
        "# True ~ 1\n",
        "# False ~ 0\n",
        "# .sum() simply performs arithmatic sum of booleans to sum of 0s and 1s\n",
        "alcohol.isnull().sum()"
      ],
      "metadata": {
        "colab": {
          "base_uri": "https://localhost:8080/"
        },
        "id": "7IBRCB-azI1x",
        "outputId": "a6ea213a-5612-42b8-cb22-2753b3f707d9"
      },
      "execution_count": 43,
      "outputs": [
        {
          "output_type": "execute_result",
          "data": {
            "text/plain": [
              "31"
            ]
          },
          "metadata": {},
          "execution_count": 43
        }
      ]
    },
    {
      "cell_type": "code",
      "source": [
        "sum([True, False, True])\n",
        "#  sum(1,0,1)"
      ],
      "metadata": {
        "colab": {
          "base_uri": "https://localhost:8080/"
        },
        "id": "4mmjklHHzIy3",
        "outputId": "8202c974-0ec5-4549-a216-ec4f8654f660"
      },
      "execution_count": 44,
      "outputs": [
        {
          "output_type": "execute_result",
          "data": {
            "text/plain": [
              "2"
            ]
          },
          "metadata": {},
          "execution_count": 44
        }
      ]
    },
    {
      "cell_type": "code",
      "source": [
        "all = alcohol.size\n",
        "nonnulls = alcohol.count()\n",
        "nulls = alcohol.isnull().sum()\n",
        "all == nonnulls + nulls"
      ],
      "metadata": {
        "colab": {
          "base_uri": "https://localhost:8080/"
        },
        "id": "kTISXOHu5c63",
        "outputId": "f2e06aff-fd71-42b0-a286-6de63c28d2a5"
      },
      "execution_count": 45,
      "outputs": [
        {
          "output_type": "execute_result",
          "data": {
            "text/plain": [
              "True"
            ]
          },
          "metadata": {},
          "execution_count": 45
        }
      ]
    },
    {
      "cell_type": "code",
      "source": [
        "alcohol.isna()\n",
        "# .isnull() an alias to .isna()"
      ],
      "metadata": {
        "colab": {
          "base_uri": "https://localhost:8080/"
        },
        "id": "cvEdi_uP5c4K",
        "outputId": "f2da6bdb-3dab-4984-c6f5-b9f4e885a8f4"
      },
      "execution_count": 46,
      "outputs": [
        {
          "output_type": "execute_result",
          "data": {
            "text/plain": [
              "country\n",
              "Afghanistan     True\n",
              "Albania        False\n",
              "Algeria        False\n",
              "Andorra        False\n",
              "Angola         False\n",
              "               ...  \n",
              "Venezuela      False\n",
              "Vietnam        False\n",
              "Yemen           True\n",
              "Zambia         False\n",
              "Zimbabwe       False\n",
              "Name: wine_servings, Length: 193, dtype: bool"
            ]
          },
          "metadata": {},
          "execution_count": 46
        }
      ]
    },
    {
      "cell_type": "markdown",
      "source": [
        "# Bonus: Another Approach"
      ],
      "metadata": {
        "id": "uEmG-7qzFVYG"
      }
    },
    {
      "cell_type": "code",
      "source": [
        "ser = pd.Series(data = [True, False, None, 2], dtype = float)"
      ],
      "metadata": {
        "id": "ThzloujxFXfs"
      },
      "execution_count": 47,
      "outputs": []
    },
    {
      "cell_type": "code",
      "source": [
        "ser"
      ],
      "metadata": {
        "colab": {
          "base_uri": "https://localhost:8080/"
        },
        "id": "wO859LaqCOjv",
        "outputId": "b181dcf3-a049-427b-c557-39addaf8a5c3"
      },
      "execution_count": 48,
      "outputs": [
        {
          "output_type": "execute_result",
          "data": {
            "text/plain": [
              "0    1.0\n",
              "1    0.0\n",
              "2    NaN\n",
              "3    2.0\n",
              "dtype: float64"
            ]
          },
          "metadata": {},
          "execution_count": 48
        }
      ]
    },
    {
      "cell_type": "code",
      "source": [
        "np.isnan(ser)"
      ],
      "metadata": {
        "colab": {
          "base_uri": "https://localhost:8080/"
        },
        "id": "4iXKBfg-COhc",
        "outputId": "3694b526-f573-463e-ca76-3af2fcaafb11"
      },
      "execution_count": 49,
      "outputs": [
        {
          "output_type": "execute_result",
          "data": {
            "text/plain": [
              "0    False\n",
              "1    False\n",
              "2     True\n",
              "3    False\n",
              "dtype: bool"
            ]
          },
          "metadata": {},
          "execution_count": 49
        }
      ]
    },
    {
      "cell_type": "code",
      "source": [
        "# can also pass numpy ufuncs as reference to series\n",
        "alcohol[np.isnan]\n",
        "# indexing by callables"
      ],
      "metadata": {
        "colab": {
          "base_uri": "https://localhost:8080/"
        },
        "id": "wYhrZqKKCOeA",
        "outputId": "10b0c945-fa58-4aed-ff9a-21287a70365e"
      },
      "execution_count": 50,
      "outputs": [
        {
          "output_type": "execute_result",
          "data": {
            "text/plain": [
              "country\n",
              "Afghanistan        NaN\n",
              "Bangladesh         NaN\n",
              "Bhutan             NaN\n",
              "Burundi            NaN\n",
              "North Korea        NaN\n",
              "Eritrea            NaN\n",
              "Ethiopia           NaN\n",
              "India              NaN\n",
              "Indonesia          NaN\n",
              "Iran               NaN\n",
              "Iraq               NaN\n",
              "Kuwait             NaN\n",
              "Lesotho            NaN\n",
              "Libya              NaN\n",
              "Malaysia           NaN\n",
              "Maldives           NaN\n",
              "Marshall Islands   NaN\n",
              "Mauritania         NaN\n",
              "Monaco             NaN\n",
              "Myanmar            NaN\n",
              "Nepal              NaN\n",
              "Pakistan           NaN\n",
              "Rwanda             NaN\n",
              "San Marino         NaN\n",
              "Saudi Arabia       NaN\n",
              "Somalia            NaN\n",
              "Sri Lanka          NaN\n",
              "Sudan              NaN\n",
              "Tajikistan         NaN\n",
              "Uganda             NaN\n",
              "Yemen              NaN\n",
              "Name: wine_servings, dtype: float64"
            ]
          },
          "metadata": {},
          "execution_count": 50
        }
      ]
    },
    {
      "cell_type": "code",
      "source": [
        "alcohol[np.isnan].size"
      ],
      "metadata": {
        "colab": {
          "base_uri": "https://localhost:8080/"
        },
        "id": "oyIT5ZJHEZ9w",
        "outputId": "4d9b225e-bd25-4cde-c1c9-1eae502bca02"
      },
      "execution_count": 51,
      "outputs": [
        {
          "output_type": "execute_result",
          "data": {
            "text/plain": [
              "31"
            ]
          },
          "metadata": {},
          "execution_count": 51
        }
      ]
    },
    {
      "cell_type": "code",
      "source": [
        "# alcohol[alcohol.isna()] ~ alcohol[np.isnan]\n",
        "# both approacjes are same but numpy approach is more elegant"
      ],
      "metadata": {
        "id": "vudi2WXMEZ6_"
      },
      "execution_count": 52,
      "outputs": []
    },
    {
      "cell_type": "markdown",
      "source": [
        "# The Other Side: notnull() And notna()"
      ],
      "metadata": {
        "id": "E-yL06AjFbic"
      }
    },
    {
      "cell_type": "code",
      "source": [
        "alcohol.notnull()"
      ],
      "metadata": {
        "id": "DLrNtiauFh-2",
        "colab": {
          "base_uri": "https://localhost:8080/"
        },
        "outputId": "93da0278-a160-4efc-a48e-4f0745e0cf31"
      },
      "execution_count": 53,
      "outputs": [
        {
          "output_type": "execute_result",
          "data": {
            "text/plain": [
              "country\n",
              "Afghanistan    False\n",
              "Albania         True\n",
              "Algeria         True\n",
              "Andorra         True\n",
              "Angola          True\n",
              "               ...  \n",
              "Venezuela       True\n",
              "Vietnam         True\n",
              "Yemen          False\n",
              "Zambia          True\n",
              "Zimbabwe        True\n",
              "Name: wine_servings, Length: 193, dtype: bool"
            ]
          },
          "metadata": {},
          "execution_count": 53
        }
      ]
    },
    {
      "cell_type": "code",
      "source": [
        "alcohol[alcohol.notnull()]\n",
        "# equivalent to alcohol.loc[alcohol.notnull()]"
      ],
      "metadata": {
        "colab": {
          "base_uri": "https://localhost:8080/"
        },
        "id": "LLK09qb-ZLki",
        "outputId": "ca9ea3e3-8d9a-4c36-ca0b-e8de80af5131"
      },
      "execution_count": 54,
      "outputs": [
        {
          "output_type": "execute_result",
          "data": {
            "text/plain": [
              "country\n",
              "Albania               54.0\n",
              "Algeria               14.0\n",
              "Andorra              312.0\n",
              "Angola                45.0\n",
              "Antigua & Barbuda     45.0\n",
              "                     ...  \n",
              "Vanuatu               11.0\n",
              "Venezuela              3.0\n",
              "Vietnam                1.0\n",
              "Zambia                 4.0\n",
              "Zimbabwe               4.0\n",
              "Name: wine_servings, Length: 162, dtype: float64"
            ]
          },
          "metadata": {},
          "execution_count": 54
        }
      ]
    },
    {
      "cell_type": "code",
      "source": [
        "alcohol.notnull().sum()\n",
        "# equivalent to alcohol.count()"
      ],
      "metadata": {
        "colab": {
          "base_uri": "https://localhost:8080/"
        },
        "id": "y0BCPACOZLh7",
        "outputId": "814db5bb-e9e9-491f-96e3-dc64cbbf64ab"
      },
      "execution_count": 55,
      "outputs": [
        {
          "output_type": "execute_result",
          "data": {
            "text/plain": [
              "162"
            ]
          },
          "metadata": {},
          "execution_count": 55
        }
      ]
    },
    {
      "cell_type": "code",
      "source": [
        "alcohol.notnull().sum() + alcohol.isnull().sum() == alcohol.size"
      ],
      "metadata": {
        "colab": {
          "base_uri": "https://localhost:8080/"
        },
        "id": "boZ8gun2ZLfj",
        "outputId": "09c0ffa5-bc4d-42fc-f6cf-c40ccc5e6a6b"
      },
      "execution_count": 56,
      "outputs": [
        {
          "output_type": "execute_result",
          "data": {
            "text/plain": [
              "True"
            ]
          },
          "metadata": {},
          "execution_count": 56
        }
      ]
    },
    {
      "cell_type": "code",
      "source": [
        "# .notna() is alias to .notnull()\n",
        "alcohol.notna().sum() + alcohol.isna().sum() == alcohol.size"
      ],
      "metadata": {
        "colab": {
          "base_uri": "https://localhost:8080/"
        },
        "id": "OPfbLaOZZLce",
        "outputId": "e1e51e1f-b36d-4418-91b2-6e3a019280e3"
      },
      "execution_count": 57,
      "outputs": [
        {
          "output_type": "execute_result",
          "data": {
            "text/plain": [
              "True"
            ]
          },
          "metadata": {},
          "execution_count": 57
        }
      ]
    },
    {
      "cell_type": "markdown",
      "source": [
        "# Bonus: Booleans are Literally Numbers in Python"
      ],
      "metadata": {
        "id": "UV8lma7JFlQQ"
      }
    },
    {
      "cell_type": "markdown",
      "source": [
        "bool type inherits from int\n",
        "bool --> int --> Object"
      ],
      "metadata": {
        "id": "SXYCBMcgeX3F"
      }
    },
    {
      "cell_type": "code",
      "source": [
        "type(True)"
      ],
      "metadata": {
        "colab": {
          "base_uri": "https://localhost:8080/"
        },
        "id": "9rdqcd_geg4O",
        "outputId": "63f2e1e2-9a7f-479b-ae74-b344fa54b79f"
      },
      "execution_count": 58,
      "outputs": [
        {
          "output_type": "execute_result",
          "data": {
            "text/plain": [
              "bool"
            ]
          },
          "metadata": {},
          "execution_count": 58
        }
      ]
    },
    {
      "cell_type": "code",
      "source": [
        "type(False)"
      ],
      "metadata": {
        "id": "sTLqCy1yFsIa",
        "colab": {
          "base_uri": "https://localhost:8080/"
        },
        "outputId": "31592f35-69d4-4c13-a4d4-ce1b30b069a1"
      },
      "execution_count": 59,
      "outputs": [
        {
          "output_type": "execute_result",
          "data": {
            "text/plain": [
              "bool"
            ]
          },
          "metadata": {},
          "execution_count": 59
        }
      ]
    },
    {
      "cell_type": "code",
      "source": [
        "# Method resolution order\n",
        "bool.__mro__"
      ],
      "metadata": {
        "colab": {
          "base_uri": "https://localhost:8080/"
        },
        "id": "WHM6Q_M1emc6",
        "outputId": "35dd0117-5b8b-4ea6-f13c-6726727a230e"
      },
      "execution_count": 60,
      "outputs": [
        {
          "output_type": "execute_result",
          "data": {
            "text/plain": [
              "(bool, int, object)"
            ]
          },
          "metadata": {},
          "execution_count": 60
        }
      ]
    },
    {
      "cell_type": "code",
      "source": [
        "True + 19"
      ],
      "metadata": {
        "colab": {
          "base_uri": "https://localhost:8080/"
        },
        "id": "DTV3sddPemOj",
        "outputId": "51c31a53-0329-4959-b95e-dbad75d47a3e"
      },
      "execution_count": 61,
      "outputs": [
        {
          "output_type": "execute_result",
          "data": {
            "text/plain": [
              "20"
            ]
          },
          "metadata": {},
          "execution_count": 61
        }
      ]
    },
    {
      "cell_type": "code",
      "source": [
        "True + True - False + 3"
      ],
      "metadata": {
        "colab": {
          "base_uri": "https://localhost:8080/"
        },
        "id": "zBNazh17evjv",
        "outputId": "fb30dfdd-62c9-42a5-c133-f7a454e5d14a"
      },
      "execution_count": 62,
      "outputs": [
        {
          "output_type": "execute_result",
          "data": {
            "text/plain": [
              "5"
            ]
          },
          "metadata": {},
          "execution_count": 62
        }
      ]
    },
    {
      "cell_type": "markdown",
      "source": [
        "# Skill Challenge"
      ],
      "metadata": {
        "id": "HGWmmyuxFwNW"
      }
    },
    {
      "cell_type": "markdown",
      "source": [
        "Isolate the not nulls in *alcohol* series and assign them to a variable *wine_servings*."
      ],
      "metadata": {
        "id": "ahHr_wyVe8kS"
      }
    },
    {
      "cell_type": "code",
      "source": [
        "wine_servings = alcohol[alcohol.notnull()]\n",
        "wine_servings"
      ],
      "metadata": {
        "id": "x6kAbjGIFyGz",
        "colab": {
          "base_uri": "https://localhost:8080/"
        },
        "outputId": "402fd36b-4245-4a9e-dd00-046d5ba00aca"
      },
      "execution_count": 63,
      "outputs": [
        {
          "output_type": "execute_result",
          "data": {
            "text/plain": [
              "country\n",
              "Albania               54.0\n",
              "Algeria               14.0\n",
              "Andorra              312.0\n",
              "Angola                45.0\n",
              "Antigua & Barbuda     45.0\n",
              "                     ...  \n",
              "Vanuatu               11.0\n",
              "Venezuela              3.0\n",
              "Vietnam                1.0\n",
              "Zambia                 4.0\n",
              "Zimbabwe               4.0\n",
              "Name: wine_servings, Length: 162, dtype: float64"
            ]
          },
          "metadata": {},
          "execution_count": 63
        }
      ]
    },
    {
      "cell_type": "markdown",
      "source": [
        "What is the total wine consumed by countries in *wine_servings*?\n"
      ],
      "metadata": {
        "id": "tGtQmm0bfi28"
      }
    },
    {
      "cell_type": "code",
      "source": [
        "wine_servings.sum()"
      ],
      "metadata": {
        "colab": {
          "base_uri": "https://localhost:8080/"
        },
        "id": "9HM2zgmifTVX",
        "outputId": "e785b092-a8fe-4381-843d-7238f17f131a"
      },
      "execution_count": 64,
      "outputs": [
        {
          "output_type": "execute_result",
          "data": {
            "text/plain": [
              "8221.0"
            ]
          },
          "metadata": {},
          "execution_count": 64
        }
      ]
    },
    {
      "cell_type": "markdown",
      "source": [
        "In the wine_servings dataset, what was the total wine consumed by countries that consumed less than 100 servings?\n"
      ],
      "metadata": {
        "id": "-aMbi6d9f4FZ"
      }
    },
    {
      "cell_type": "code",
      "source": [
        "filter_servings = wine_servings[lambda x: [True if i<100 else False for i in x]]"
      ],
      "metadata": {
        "id": "LsD8pF2pfzDv"
      },
      "execution_count": 65,
      "outputs": []
    },
    {
      "cell_type": "code",
      "source": [
        "filter_servings.sum()"
      ],
      "metadata": {
        "colab": {
          "base_uri": "https://localhost:8080/"
        },
        "id": "iQvaTTMPgYSn",
        "outputId": "3b150f81-6a7e-444a-ec76-7eb6bfff9a7b"
      },
      "execution_count": 66,
      "outputs": [
        {
          "output_type": "execute_result",
          "data": {
            "text/plain": [
              "2416.0"
            ]
          },
          "metadata": {},
          "execution_count": 66
        }
      ]
    },
    {
      "cell_type": "markdown",
      "source": [
        "Another approach to:\n",
        "\n",
        "In the wine_servings dataset, what was the total wine consumed by countries that consumed less than 100 servings?\n"
      ],
      "metadata": {
        "id": "Nz3o3rV_hrpm"
      }
    },
    {
      "cell_type": "code",
      "source": [
        "wine_servings < 100"
      ],
      "metadata": {
        "colab": {
          "base_uri": "https://localhost:8080/"
        },
        "id": "hQrG7wnOg3bz",
        "outputId": "9b2669e5-9a25-4a7f-b3f9-780605461c5d"
      },
      "execution_count": 67,
      "outputs": [
        {
          "output_type": "execute_result",
          "data": {
            "text/plain": [
              "country\n",
              "Albania               True\n",
              "Algeria               True\n",
              "Andorra              False\n",
              "Angola                True\n",
              "Antigua & Barbuda     True\n",
              "                     ...  \n",
              "Vanuatu               True\n",
              "Venezuela             True\n",
              "Vietnam               True\n",
              "Zambia                True\n",
              "Zimbabwe              True\n",
              "Name: wine_servings, Length: 162, dtype: bool"
            ]
          },
          "metadata": {},
          "execution_count": 67
        }
      ]
    },
    {
      "cell_type": "code",
      "source": [
        "wine_servings[wine_servings < 100]"
      ],
      "metadata": {
        "colab": {
          "base_uri": "https://localhost:8080/"
        },
        "id": "68HGFPd_hfcY",
        "outputId": "34b6b63d-14ba-4bca-9504-9869342a37f7"
      },
      "execution_count": 68,
      "outputs": [
        {
          "output_type": "execute_result",
          "data": {
            "text/plain": [
              "country\n",
              "Albania              54.0\n",
              "Algeria              14.0\n",
              "Angola               45.0\n",
              "Antigua & Barbuda    45.0\n",
              "Armenia              11.0\n",
              "                     ... \n",
              "Vanuatu              11.0\n",
              "Venezuela             3.0\n",
              "Vietnam               1.0\n",
              "Zambia                4.0\n",
              "Zimbabwe              4.0\n",
              "Name: wine_servings, Length: 132, dtype: float64"
            ]
          },
          "metadata": {},
          "execution_count": 68
        }
      ]
    },
    {
      "cell_type": "code",
      "source": [
        "wine_servings[wine_servings < 100].sum()"
      ],
      "metadata": {
        "colab": {
          "base_uri": "https://localhost:8080/"
        },
        "id": "HpnYrAqphnPF",
        "outputId": "72db68bb-2237-4390-ead1-8e922982bc34"
      },
      "execution_count": 69,
      "outputs": [
        {
          "output_type": "execute_result",
          "data": {
            "text/plain": [
              "2416.0"
            ]
          },
          "metadata": {},
          "execution_count": 69
        }
      ]
    },
    {
      "cell_type": "markdown",
      "source": [
        "# Dropping and Filling NAs"
      ],
      "metadata": {
        "id": "Fc6p2mTCh6XJ"
      }
    },
    {
      "cell_type": "markdown",
      "source": [
        "Drop NaNs"
      ],
      "metadata": {
        "id": "VkHyjua1VD0d"
      }
    },
    {
      "cell_type": "code",
      "source": [
        "alcohol.dropna()"
      ],
      "metadata": {
        "id": "MMtOWAN8h_xJ",
        "colab": {
          "base_uri": "https://localhost:8080/"
        },
        "outputId": "bf22fa25-aecb-4b0a-ea82-6bddcef3742a"
      },
      "execution_count": 70,
      "outputs": [
        {
          "output_type": "execute_result",
          "data": {
            "text/plain": [
              "country\n",
              "Albania               54.0\n",
              "Algeria               14.0\n",
              "Andorra              312.0\n",
              "Angola                45.0\n",
              "Antigua & Barbuda     45.0\n",
              "                     ...  \n",
              "Vanuatu               11.0\n",
              "Venezuela              3.0\n",
              "Vietnam                1.0\n",
              "Zambia                 4.0\n",
              "Zimbabwe               4.0\n",
              "Name: wine_servings, Length: 162, dtype: float64"
            ]
          },
          "metadata": {},
          "execution_count": 70
        }
      ]
    },
    {
      "cell_type": "code",
      "source": [
        "alcohol.dropna().size == alcohol.notnull().sum()"
      ],
      "metadata": {
        "colab": {
          "base_uri": "https://localhost:8080/"
        },
        "id": "1HRr-6pLMxe7",
        "outputId": "cebea40d-ef8c-4f89-81df-ebd2f6e1e9b5"
      },
      "execution_count": 71,
      "outputs": [
        {
          "output_type": "execute_result",
          "data": {
            "text/plain": [
              "True"
            ]
          },
          "metadata": {},
          "execution_count": 71
        }
      ]
    },
    {
      "cell_type": "code",
      "source": [
        "# Original series not altered:\n",
        "alcohol"
      ],
      "metadata": {
        "colab": {
          "base_uri": "https://localhost:8080/"
        },
        "id": "D6Z_6F_fMxcA",
        "outputId": "b4394f13-8fd0-45f3-cb19-f92180cd338a"
      },
      "execution_count": 72,
      "outputs": [
        {
          "output_type": "execute_result",
          "data": {
            "text/plain": [
              "country\n",
              "Afghanistan      NaN\n",
              "Albania         54.0\n",
              "Algeria         14.0\n",
              "Andorra        312.0\n",
              "Angola          45.0\n",
              "               ...  \n",
              "Venezuela        3.0\n",
              "Vietnam          1.0\n",
              "Yemen            NaN\n",
              "Zambia           4.0\n",
              "Zimbabwe         4.0\n",
              "Name: wine_servings, Length: 193, dtype: float64"
            ]
          },
          "metadata": {},
          "execution_count": 72
        }
      ]
    },
    {
      "cell_type": "code",
      "source": [
        "# one way to alter series is using Reassignment:\n",
        "# alcohol = alcohol.dropna()"
      ],
      "metadata": {
        "id": "dL1hZ8azMxZk"
      },
      "execution_count": 73,
      "outputs": []
    },
    {
      "cell_type": "code",
      "source": [
        "# Another way to use inplace param\n",
        "# alcohol.dropna(inplace = True)\n",
        "# By default inplace parameter is set to False\n",
        "# So when we do:\n",
        "# alcohol.dropna() ~ alcohol.dropna(inplace = False)"
      ],
      "metadata": {
        "id": "LjZIEN0GMxWA"
      },
      "execution_count": 74,
      "outputs": []
    },
    {
      "cell_type": "markdown",
      "source": [
        "Fill NaNs"
      ],
      "metadata": {
        "id": "yJcIraM1VIPb"
      }
    },
    {
      "cell_type": "code",
      "source": [
        "alcohol.fillna(100, inplace = False)\n",
        "# this is equivalent to: alcohol.fillna(100)\n",
        "# inplace param if set to True will alter the original series"
      ],
      "metadata": {
        "colab": {
          "base_uri": "https://localhost:8080/"
        },
        "id": "rZWbHw9dTOzd",
        "outputId": "8e25b0bf-e09c-4b2a-826d-647318d14472"
      },
      "execution_count": 75,
      "outputs": [
        {
          "output_type": "execute_result",
          "data": {
            "text/plain": [
              "country\n",
              "Afghanistan    100.0\n",
              "Albania         54.0\n",
              "Algeria         14.0\n",
              "Andorra        312.0\n",
              "Angola          45.0\n",
              "               ...  \n",
              "Venezuela        3.0\n",
              "Vietnam          1.0\n",
              "Yemen          100.0\n",
              "Zambia           4.0\n",
              "Zimbabwe         4.0\n",
              "Name: wine_servings, Length: 193, dtype: float64"
            ]
          },
          "metadata": {},
          "execution_count": 75
        }
      ]
    },
    {
      "cell_type": "markdown",
      "source": [
        "# Descriptive Statistics"
      ],
      "metadata": {
        "id": "W9kZMFZ1X17A"
      }
    },
    {
      "cell_type": "code",
      "source": [
        "# Average\n",
        "# alcohol.sum()/alcohol.count()\n",
        "alcohol.mean()"
      ],
      "metadata": {
        "colab": {
          "base_uri": "https://localhost:8080/"
        },
        "id": "UHrDj3JkVbye",
        "outputId": "50d32493-22cc-4405-ca1a-ae1bd16fbe30"
      },
      "execution_count": 76,
      "outputs": [
        {
          "output_type": "execute_result",
          "data": {
            "text/plain": [
              "50.74691358024691"
            ]
          },
          "metadata": {},
          "execution_count": 76
        }
      ]
    },
    {
      "cell_type": "code",
      "source": [
        "# Median\n",
        "alcohol.median()"
      ],
      "metadata": {
        "colab": {
          "base_uri": "https://localhost:8080/"
        },
        "id": "Lj5m3HBxojca",
        "outputId": "b70d5f09-eba8-42ee-a498-734c3a15f0fb"
      },
      "execution_count": 77,
      "outputs": [
        {
          "output_type": "execute_result",
          "data": {
            "text/plain": [
              "11.5"
            ]
          },
          "metadata": {},
          "execution_count": 77
        }
      ]
    },
    {
      "cell_type": "code",
      "source": [
        "# Median- Another way\n",
        "# alcohol.quantile(q=.5) ~ alcohol.quantile(.5)\n",
        "alcohol.quantile(.5)"
      ],
      "metadata": {
        "colab": {
          "base_uri": "https://localhost:8080/"
        },
        "id": "22FjjdwTonHa",
        "outputId": "9261c0b2-b70d-419b-8969-e9406aa5c253"
      },
      "execution_count": 78,
      "outputs": [
        {
          "output_type": "execute_result",
          "data": {
            "text/plain": [
              "11.5"
            ]
          },
          "metadata": {},
          "execution_count": 78
        }
      ]
    },
    {
      "cell_type": "code",
      "source": [
        "# Understanding skew via data visulization in Pandas:\n",
        "alcohol.hist()"
      ],
      "metadata": {
        "colab": {
          "base_uri": "https://localhost:8080/",
          "height": 0
        },
        "id": "gYiXqa8eovAU",
        "outputId": "b95a1b30-c94f-481c-c58a-85e1bf84a2b8"
      },
      "execution_count": 79,
      "outputs": [
        {
          "output_type": "execute_result",
          "data": {
            "text/plain": [
              "<matplotlib.axes._subplots.AxesSubplot at 0x7f7f725b2690>"
            ]
          },
          "metadata": {},
          "execution_count": 79
        },
        {
          "output_type": "display_data",
          "data": {
            "text/plain": [
              "<Figure size 432x288 with 1 Axes>"
            ],
            "image/png": "[encoded data removed]"
          },
          "metadata": {
            "needs_background": "light"
          }
        }
      ]
    },
    {
      "cell_type": "code",
      "source": [
        "# iqr\n",
        "iqr = alcohol.quantile(.75) - alcohol.quantile(.25)\n",
        "iqr"
      ],
      "metadata": {
        "colab": {
          "base_uri": "https://localhost:8080/"
        },
        "id": "QemXrMGro8u-",
        "outputId": "4099ab1d-973b-4427-be6f-8046df018c86"
      },
      "execution_count": 80,
      "outputs": [
        {
          "output_type": "execute_result",
          "data": {
            "text/plain": [
              "58.25"
            ]
          },
          "metadata": {},
          "execution_count": 80
        }
      ]
    },
    {
      "cell_type": "code",
      "source": [
        "# Min and Max\n",
        "alcohol.min()"
      ],
      "metadata": {
        "colab": {
          "base_uri": "https://localhost:8080/"
        },
        "id": "8SNvk2dwrvPg",
        "outputId": "67578219-acb1-4ebc-b5f6-b22eba6e0906"
      },
      "execution_count": 81,
      "outputs": [
        {
          "output_type": "execute_result",
          "data": {
            "text/plain": [
              "1.0"
            ]
          },
          "metadata": {},
          "execution_count": 81
        }
      ]
    },
    {
      "cell_type": "code",
      "source": [
        "alcohol.max()"
      ],
      "metadata": {
        "colab": {
          "base_uri": "https://localhost:8080/"
        },
        "id": "ACvxSyyzr_zK",
        "outputId": "2b78bc42-a775-4efb-fa0a-984a33fd08d2"
      },
      "execution_count": 82,
      "outputs": [
        {
          "output_type": "execute_result",
          "data": {
            "text/plain": [
              "339.0"
            ]
          },
          "metadata": {},
          "execution_count": 82
        }
      ]
    },
    {
      "cell_type": "code",
      "source": [
        "# Standard Deviation:\n",
        "# is the square root of the variance\n",
        "alcohol.std()"
      ],
      "metadata": {
        "colab": {
          "base_uri": "https://localhost:8080/"
        },
        "id": "XJhdeWEHsBFw",
        "outputId": "18212cee-9fca-4e88-c428-1770f9410b2b"
      },
      "execution_count": 83,
      "outputs": [
        {
          "output_type": "execute_result",
          "data": {
            "text/plain": [
              "76.13491716376171"
            ]
          },
          "metadata": {},
          "execution_count": 83
        }
      ]
    },
    {
      "cell_type": "code",
      "source": [
        "# Variance\n",
        "alcohol.var()"
      ],
      "metadata": {
        "colab": {
          "base_uri": "https://localhost:8080/"
        },
        "id": "Df_qA-pvs692",
        "outputId": "b3115c9c-44e1-48c4-ae0b-5d66b0dd79fd"
      },
      "execution_count": 84,
      "outputs": [
        {
          "output_type": "execute_result",
          "data": {
            "text/plain": [
              "5796.5256115328575"
            ]
          },
          "metadata": {},
          "execution_count": 84
        }
      ]
    },
    {
      "cell_type": "code",
      "source": [
        "alcohol.std()**2 == alcohol.var()"
      ],
      "metadata": {
        "colab": {
          "base_uri": "https://localhost:8080/"
        },
        "id": "-KsRmvUttDnZ",
        "outputId": "395aeffb-4079-49ce-9314-e0eb6b50faca"
      },
      "execution_count": 85,
      "outputs": [
        {
          "output_type": "execute_result",
          "data": {
            "text/plain": [
              "True"
            ]
          },
          "metadata": {},
          "execution_count": 85
        }
      ]
    },
    {
      "cell_type": "markdown",
      "source": [
        "# The describe() Method"
      ],
      "metadata": {
        "id": "Y74m_mwJCD0o"
      }
    },
    {
      "cell_type": "code",
      "source": [
        "alcohol.describe()\n",
        "# Returns Pandas series containing descriptive statistics as data"
      ],
      "metadata": {
        "colab": {
          "base_uri": "https://localhost:8080/"
        },
        "id": "YcsM7dI_CIYB",
        "outputId": "bf79505b-a322-427f-ea96-e59d6959dfc1"
      },
      "execution_count": 86,
      "outputs": [
        {
          "output_type": "execute_result",
          "data": {
            "text/plain": [
              "count    162.000000\n",
              "mean      50.746914\n",
              "std       76.134917\n",
              "min        1.000000\n",
              "25%        3.000000\n",
              "50%       11.500000\n",
              "75%       61.250000\n",
              "max      339.000000\n",
              "Name: wine_servings, dtype: float64"
            ]
          },
          "metadata": {},
          "execution_count": 86
        }
      ]
    },
    {
      "cell_type": "code",
      "source": [
        "# percentiles parameter: To specify the percentiles we need:\n",
        "alcohol.describe(percentiles=[.19, .79])"
      ],
      "metadata": {
        "colab": {
          "base_uri": "https://localhost:8080/"
        },
        "id": "UZVoAXHaJXO4",
        "outputId": "35fa7856-b209-470c-940a-72ec5ba3c5d5"
      },
      "execution_count": 87,
      "outputs": [
        {
          "output_type": "execute_result",
          "data": {
            "text/plain": [
              "count    162.000000\n",
              "mean      50.746914\n",
              "std       76.134917\n",
              "min        1.000000\n",
              "19%        2.000000\n",
              "50%       11.500000\n",
              "79%       81.570000\n",
              "max      339.000000\n",
              "Name: wine_servings, dtype: float64"
            ]
          },
          "metadata": {},
          "execution_count": 87
        }
      ]
    },
    {
      "cell_type": "code",
      "source": [
        "# include and exclude parameters: To data based on data types\n",
        "alcohol.describe(percentiles=[.19, .79], include = float, exclude = object)"
      ],
      "metadata": {
        "colab": {
          "base_uri": "https://localhost:8080/"
        },
        "id": "w4tWq9DFJo78",
        "outputId": "fc2220d9-1be6-4b03-fa40-41e34df304c5"
      },
      "execution_count": 88,
      "outputs": [
        {
          "output_type": "execute_result",
          "data": {
            "text/plain": [
              "count    162.000000\n",
              "mean      50.746914\n",
              "std       76.134917\n",
              "min        1.000000\n",
              "19%        2.000000\n",
              "50%       11.500000\n",
              "79%       81.570000\n",
              "max      339.000000\n",
              "Name: wine_servings, dtype: float64"
            ]
          },
          "metadata": {},
          "execution_count": 88
        }
      ]
    },
    {
      "cell_type": "code",
      "source": [
        "alcohol.dtype"
      ],
      "metadata": {
        "colab": {
          "base_uri": "https://localhost:8080/"
        },
        "id": "fCsaAxNyK46K",
        "outputId": "a5a97a40-42fb-4420-e7af-049a1f8f270a"
      },
      "execution_count": 89,
      "outputs": [
        {
          "output_type": "execute_result",
          "data": {
            "text/plain": [
              "dtype('float64')"
            ]
          },
          "metadata": {},
          "execution_count": 89
        }
      ]
    },
    {
      "cell_type": "markdown",
      "source": [
        "# mode() And value_counts()"
      ],
      "metadata": {
        "id": "J-xG8XnkLVHA"
      }
    },
    {
      "cell_type": "markdown",
      "source": [
        "Mode"
      ],
      "metadata": {
        "id": "pxotBBjHvitZ"
      }
    },
    {
      "cell_type": "code",
      "source": [
        "# mode\n",
        "# returna a small series indicating the frequest-occurring element\n",
        "alcohol.mode()"
      ],
      "metadata": {
        "id": "eW4KF_7uK67d",
        "colab": {
          "base_uri": "https://localhost:8080/"
        },
        "outputId": "38748e95-2abc-4f90-fa3f-359b28412ebc"
      },
      "execution_count": 90,
      "outputs": [
        {
          "output_type": "execute_result",
          "data": {
            "text/plain": [
              "0    1.0\n",
              "dtype: float64"
            ]
          },
          "metadata": {},
          "execution_count": 90
        }
      ]
    },
    {
      "cell_type": "markdown",
      "source": [
        "Value counts"
      ],
      "metadata": {
        "id": "nmWubbO-vgbG"
      }
    },
    {
      "cell_type": "code",
      "source": [
        "alcohol == 1"
      ],
      "metadata": {
        "id": "XSUz69zb2VJs",
        "colab": {
          "base_uri": "https://localhost:8080/"
        },
        "outputId": "b2496b6e-8f50-4a39-9836-b8216ce93862"
      },
      "execution_count": 91,
      "outputs": [
        {
          "output_type": "execute_result",
          "data": {
            "text/plain": [
              "country\n",
              "Afghanistan    False\n",
              "Albania        False\n",
              "Algeria        False\n",
              "Andorra        False\n",
              "Angola         False\n",
              "               ...  \n",
              "Venezuela      False\n",
              "Vietnam         True\n",
              "Yemen          False\n",
              "Zambia         False\n",
              "Zimbabwe       False\n",
              "Name: wine_servings, Length: 193, dtype: bool"
            ]
          },
          "metadata": {},
          "execution_count": 91
        }
      ]
    },
    {
      "cell_type": "code",
      "source": [
        "alcohol[alcohol == 1]"
      ],
      "metadata": {
        "colab": {
          "base_uri": "https://localhost:8080/"
        },
        "id": "zUfhhJjNlG_T",
        "outputId": "5b245f9e-386a-4b9d-96c1-0ae043fd461d"
      },
      "execution_count": 92,
      "outputs": [
        {
          "output_type": "execute_result",
          "data": {
            "text/plain": [
              "country\n",
              "Brunei                      1.0\n",
              "Cambodia                    1.0\n",
              "Canada                      1.0\n",
              "Central African Republic    1.0\n",
              "Chad                        1.0\n",
              "Comoros                     1.0\n",
              "DR Congo                    1.0\n",
              "Egypt                       1.0\n",
              "Fiji                        1.0\n",
              "Gambia                      1.0\n",
              "Ghana                       1.0\n",
              "Guyana                      1.0\n",
              "Haiti                       1.0\n",
              "Jordan                      1.0\n",
              "Kiribati                    1.0\n",
              "Malawi                      1.0\n",
              "Mali                        1.0\n",
              "Morocco                     1.0\n",
              "Namibia                     1.0\n",
              "Nicaragua                   1.0\n",
              "Niger                       1.0\n",
              "Oman                        1.0\n",
              "Papua New Guinea            1.0\n",
              "Philippines                 1.0\n",
              "Solomon Islands             1.0\n",
              "Thailand                    1.0\n",
              "Tanzania                    1.0\n",
              "Vietnam                     1.0\n",
              "Name: wine_servings, dtype: float64"
            ]
          },
          "metadata": {},
          "execution_count": 92
        }
      ]
    },
    {
      "cell_type": "code",
      "source": [
        "# Getting the frequency count of single specific value i.e. 1 here\n",
        "alcohol[alcohol == 1].size"
      ],
      "metadata": {
        "colab": {
          "base_uri": "https://localhost:8080/"
        },
        "id": "E9hmeF3tlKs4",
        "outputId": "b6c3bd80-47d8-40b8-f97e-a9c4ae75273f"
      },
      "execution_count": 95,
      "outputs": [
        {
          "output_type": "execute_result",
          "data": {
            "text/plain": [
              "28"
            ]
          },
          "metadata": {},
          "execution_count": 95
        }
      ]
    },
    {
      "cell_type": "code",
      "source": [
        "# Value counts:\n",
        "# More comprehensive: Getting frequency count for all unique values in a series\n",
        "alcohol.value_counts()"
      ],
      "metadata": {
        "colab": {
          "base_uri": "https://localhost:8080/"
        },
        "id": "dXNTz_kdlNwT",
        "outputId": "89b78b81-10b6-4d03-f646-3b404f1f9c0b"
      },
      "execution_count": 97,
      "outputs": [
        {
          "output_type": "execute_result",
          "data": {
            "text/plain": [
              "1.0      28\n",
              "2.0      10\n",
              "7.0       9\n",
              "8.0       7\n",
              "5.0       6\n",
              "         ..\n",
              "218.0     1\n",
              "185.0     1\n",
              "78.0      1\n",
              "165.0     1\n",
              "22.0      1\n",
              "Name: wine_servings, Length: 71, dtype: int64"
            ]
          },
          "metadata": {},
          "execution_count": 97
        }
      ]
    },
    {
      "cell_type": "code",
      "source": [
        "# More convenient\n",
        "alcohol.value_counts().iloc[0]\n",
        "# Equivalent to: alcohol[alcohol == 1].size"
      ],
      "metadata": {
        "colab": {
          "base_uri": "https://localhost:8080/"
        },
        "id": "j3fM5HpJobKs",
        "outputId": "61593c4e-51b1-41ce-c7fa-0bc88b09664f"
      },
      "execution_count": 99,
      "outputs": [
        {
          "output_type": "execute_result",
          "data": {
            "text/plain": [
              "28"
            ]
          },
          "metadata": {},
          "execution_count": 99
        }
      ]
    },
    {
      "cell_type": "code",
      "source": [
        "# get Normalized values --> i.e. relative frequencies of all unique values in series\n",
        "# relative frequency calculated as: (frequency of value/ total number of non null values) i.e. 28/162\n",
        "alcohol.value_counts(normalize = True)\n",
        "# by default it is False and thus we get raw items as seem earlier: alcohol.value_counts(normalize = False)"
      ],
      "metadata": {
        "colab": {
          "base_uri": "https://localhost:8080/"
        },
        "id": "qCbB3bk-qWv1",
        "outputId": "e9e28a5f-111a-4704-e231-56ff1ba2e9f3"
      },
      "execution_count": 100,
      "outputs": [
        {
          "output_type": "execute_result",
          "data": {
            "text/plain": [
              "1.0      0.172840\n",
              "2.0      0.061728\n",
              "7.0      0.055556\n",
              "8.0      0.043210\n",
              "5.0      0.037037\n",
              "           ...   \n",
              "218.0    0.006173\n",
              "185.0    0.006173\n",
              "78.0     0.006173\n",
              "165.0    0.006173\n",
              "22.0     0.006173\n",
              "Name: wine_servings, Length: 71, dtype: float64"
            ]
          },
          "metadata": {},
          "execution_count": 100
        }
      ]
    },
    {
      "cell_type": "markdown",
      "source": [
        "# idxmax() And idxmin()"
      ],
      "metadata": {
        "id": "QQVN2qQXvlAv"
      }
    },
    {
      "cell_type": "code",
      "source": [
        "# Find out the country label that had max wine_servings: \n",
        "alcohol.max()"
      ],
      "metadata": {
        "colab": {
          "base_uri": "https://localhost:8080/"
        },
        "id": "fmd_SJyqvC0a",
        "outputId": "77ab98c6-10e6-4c50-a545-76fd4e5bfd4b"
      },
      "execution_count": 101,
      "outputs": [
        {
          "output_type": "execute_result",
          "data": {
            "text/plain": [
              "339.0"
            ]
          },
          "metadata": {},
          "execution_count": 101
        }
      ]
    },
    {
      "cell_type": "code",
      "source": [
        "# One approach: using boolean masks passed in indexing\n",
        "alcohol[alcohol == alcohol.max()]\n",
        "# returns a series containing country label and its value\n",
        "# also contains series attributes characterizing the series"
      ],
      "metadata": {
        "colab": {
          "base_uri": "https://localhost:8080/"
        },
        "id": "xjzorZ5Lxcgk",
        "outputId": "5b9f726e-c8a3-494b-c6f3-1ed35dd65375"
      },
      "execution_count": 104,
      "outputs": [
        {
          "output_type": "execute_result",
          "data": {
            "text/plain": [
              "country\n",
              "Portugal    339.0\n",
              "Name: wine_servings, dtype: float64"
            ]
          },
          "metadata": {},
          "execution_count": 104
        }
      ]
    },
    {
      "cell_type": "code",
      "source": [
        "alcohol[alcohol == alcohol.max()].index"
      ],
      "metadata": {
        "colab": {
          "base_uri": "https://localhost:8080/"
        },
        "id": "m3qhHlTD0ZL3",
        "outputId": "0d4ccaeb-8c46-49f8-ad44-52eddb4a7894"
      },
      "execution_count": 106,
      "outputs": [
        {
          "output_type": "execute_result",
          "data": {
            "text/plain": [
              "Index(['Portugal'], dtype='object', name='country')"
            ]
          },
          "metadata": {},
          "execution_count": 106
        }
      ]
    },
    {
      "cell_type": "code",
      "source": [
        "type(alcohol[alcohol == alcohol.max()].index)"
      ],
      "metadata": {
        "colab": {
          "base_uri": "https://localhost:8080/"
        },
        "id": "9pjc4A-U0caX",
        "outputId": "db120e75-0d3c-4ba3-cc80-595a6bb76963"
      },
      "execution_count": 107,
      "outputs": [
        {
          "output_type": "execute_result",
          "data": {
            "text/plain": [
              "pandas.core.indexes.base.Index"
            ]
          },
          "metadata": {},
          "execution_count": 107
        }
      ]
    },
    {
      "cell_type": "code",
      "source": [
        "alcohol[alcohol == alcohol.max()].index[0]"
      ],
      "metadata": {
        "colab": {
          "base_uri": "https://localhost:8080/",
          "height": 0
        },
        "id": "sUZNtSkV0cQ4",
        "outputId": "07359af2-d1ec-4c4f-be36-e333acbd8b75"
      },
      "execution_count": 108,
      "outputs": [
        {
          "output_type": "execute_result",
          "data": {
            "text/plain": [
              "'Portugal'"
            ],
            "application/vnd.google.colaboratory.intrinsic+json": {
              "type": "string"
            }
          },
          "metadata": {},
          "execution_count": 108
        }
      ]
    },
    {
      "cell_type": "code",
      "source": [
        "# Another approch: using idxmax()\n",
        "# only fetch the country label which has max value\n",
        "alcohol.idxmax()"
      ],
      "metadata": {
        "colab": {
          "base_uri": "https://localhost:8080/",
          "height": 0
        },
        "id": "sNUyNcKGxo6p",
        "outputId": "5d0059f0-79fe-4209-8a13-48af717ad712"
      },
      "execution_count": 105,
      "outputs": [
        {
          "output_type": "execute_result",
          "data": {
            "text/plain": [
              "'Portugal'"
            ],
            "application/vnd.google.colaboratory.intrinsic+json": {
              "type": "string"
            }
          },
          "metadata": {},
          "execution_count": 105
        }
      ]
    },
    {
      "cell_type": "code",
      "source": [
        "# only fetch the country label which has min value\n",
        "alcohol.idxmin()"
      ],
      "metadata": {
        "colab": {
          "base_uri": "https://localhost:8080/",
          "height": 0
        },
        "id": "oG8BD4MRy2-A",
        "outputId": "28227f0b-bf3d-4d9d-fa86-4c9d5b252140"
      },
      "execution_count": 109,
      "outputs": [
        {
          "output_type": "execute_result",
          "data": {
            "text/plain": [
              "'Brunei'"
            ],
            "application/vnd.google.colaboratory.intrinsic+json": {
              "type": "string"
            }
          },
          "metadata": {},
          "execution_count": 109
        }
      ]
    },
    {
      "cell_type": "code",
      "source": [
        "# Be careful of the interpretation with these functions\n",
        "# These functions always return the 1st label associated with max and min values\n",
        "# example shown below"
      ],
      "metadata": {
        "id": "UyOp9xhF1DWL"
      },
      "execution_count": 110,
      "outputs": []
    },
    {
      "cell_type": "code",
      "source": [
        "alcohol.min()"
      ],
      "metadata": {
        "colab": {
          "base_uri": "https://localhost:8080/"
        },
        "id": "b7qAxU1f4JTl",
        "outputId": "d1db6624-3fc6-4c54-f3ea-3cdbbde9e687"
      },
      "execution_count": 111,
      "outputs": [
        {
          "output_type": "execute_result",
          "data": {
            "text/plain": [
              "1.0"
            ]
          },
          "metadata": {},
          "execution_count": 111
        }
      ]
    },
    {
      "cell_type": "code",
      "source": [
        "alcohol.value_counts().head(1)"
      ],
      "metadata": {
        "colab": {
          "base_uri": "https://localhost:8080/"
        },
        "id": "ljoU8ogC4LZM",
        "outputId": "8e97c7ef-bd41-418b-a38c-f5450e4670c8"
      },
      "execution_count": 112,
      "outputs": [
        {
          "output_type": "execute_result",
          "data": {
            "text/plain": [
              "1.0    28\n",
              "Name: wine_servings, dtype: int64"
            ]
          },
          "metadata": {},
          "execution_count": 112
        }
      ]
    },
    {
      "cell_type": "code",
      "source": [
        "alcohol[alcohol == alcohol.min()]\n",
        "# there are 28 countries with min value as 1 but .idxmin() only gave Brunei (1st label associated with value 1)"
      ],
      "metadata": {
        "colab": {
          "base_uri": "https://localhost:8080/"
        },
        "id": "h56fRW6i4O8w",
        "outputId": "7eebd880-dbff-494d-dfac-11e742723734"
      },
      "execution_count": 113,
      "outputs": [
        {
          "output_type": "execute_result",
          "data": {
            "text/plain": [
              "country\n",
              "Brunei                      1.0\n",
              "Cambodia                    1.0\n",
              "Canada                      1.0\n",
              "Central African Republic    1.0\n",
              "Chad                        1.0\n",
              "Comoros                     1.0\n",
              "DR Congo                    1.0\n",
              "Egypt                       1.0\n",
              "Fiji                        1.0\n",
              "Gambia                      1.0\n",
              "Ghana                       1.0\n",
              "Guyana                      1.0\n",
              "Haiti                       1.0\n",
              "Jordan                      1.0\n",
              "Kiribati                    1.0\n",
              "Malawi                      1.0\n",
              "Mali                        1.0\n",
              "Morocco                     1.0\n",
              "Namibia                     1.0\n",
              "Nicaragua                   1.0\n",
              "Niger                       1.0\n",
              "Oman                        1.0\n",
              "Papua New Guinea            1.0\n",
              "Philippines                 1.0\n",
              "Solomon Islands             1.0\n",
              "Thailand                    1.0\n",
              "Tanzania                    1.0\n",
              "Vietnam                     1.0\n",
              "Name: wine_servings, dtype: float64"
            ]
          },
          "metadata": {},
          "execution_count": 113
        }
      ]
    },
    {
      "cell_type": "code",
      "source": [
        "# equivalence to be noted:\n",
        "alcohol[alcohol.idxmax()] == alcohol['Portugal'] == alcohol.max()"
      ],
      "metadata": {
        "colab": {
          "base_uri": "https://localhost:8080/"
        },
        "id": "wTn7KMdF4WYl",
        "outputId": "bc948016-1bc3-49d1-e02b-2efdfb0ed2c6"
      },
      "execution_count": 114,
      "outputs": [
        {
          "output_type": "execute_result",
          "data": {
            "text/plain": [
              "True"
            ]
          },
          "metadata": {},
          "execution_count": 114
        }
      ]
    },
    {
      "cell_type": "markdown",
      "source": [
        "# Sorting With sort_values()"
      ],
      "metadata": {
        "id": "QjuZlczI53F7"
      }
    },
    {
      "cell_type": "markdown",
      "source": [
        "Sorting by Values"
      ],
      "metadata": {
        "id": "K1JYT0tO_6ob"
      }
    },
    {
      "cell_type": "code",
      "source": [
        "alcohol.sort_values()\n",
        "# By default Ascending order sorting\n",
        "# ~ alcohol.sort_values(ascending = True)\n",
        "# small --> higher --> NaNs"
      ],
      "metadata": {
        "colab": {
          "base_uri": "https://localhost:8080/"
        },
        "id": "AJl341kC40qL",
        "outputId": "c6e14015-209e-4aaa-b058-1b33a50694bc"
      },
      "execution_count": 124,
      "outputs": [
        {
          "output_type": "execute_result",
          "data": {
            "text/plain": [
              "country\n",
              "Thailand           1.0\n",
              "Solomon Islands    1.0\n",
              "Brunei             1.0\n",
              "Haiti              1.0\n",
              "Cambodia           1.0\n",
              "                  ... \n",
              "Sri Lanka          NaN\n",
              "Sudan              NaN\n",
              "Tajikistan         NaN\n",
              "Uganda             NaN\n",
              "Yemen              NaN\n",
              "Name: wine_servings, Length: 193, dtype: float64"
            ]
          },
          "metadata": {},
          "execution_count": 124
        }
      ]
    },
    {
      "cell_type": "code",
      "source": [
        "# Setting ascending parameter to False to get descending order sorting\n",
        "# By default: ascending = True\n",
        "alcohol.sort_values(ascending = False)\n",
        "# higher --> small --> NaNs"
      ],
      "metadata": {
        "colab": {
          "base_uri": "https://localhost:8080/"
        },
        "id": "wOxY75fjACIY",
        "outputId": "5c2df24b-55ff-45c9-fb91-d5bffc842dd6"
      },
      "execution_count": 125,
      "outputs": [
        {
          "output_type": "execute_result",
          "data": {
            "text/plain": [
              "country\n",
              "Portugal      339.0\n",
              "Andorra       312.0\n",
              "Denmark       278.0\n",
              "Slovenia      276.0\n",
              "Luxembourg    271.0\n",
              "              ...  \n",
              "Sri Lanka       NaN\n",
              "Sudan           NaN\n",
              "Tajikistan      NaN\n",
              "Uganda          NaN\n",
              "Yemen           NaN\n",
              "Name: wine_servings, Length: 193, dtype: float64"
            ]
          },
          "metadata": {},
          "execution_count": 125
        }
      ]
    },
    {
      "cell_type": "code",
      "source": [
        "# Moving NaNs: Using parameter: na_position\n",
        "# Top --> na_position = 'first'\n",
        "# Bottom (default) --> na_position = 'last'\n",
        "# default setting: alcohol.sort_values(ascending = False, na_position = 'last') ~ alcohol.sort_values(ascending = False)\n",
        "alcohol.sort_values(ascending = False, na_position = 'first')"
      ],
      "metadata": {
        "colab": {
          "base_uri": "https://localhost:8080/"
        },
        "id": "uIRkobPEAeZh",
        "outputId": "5dbf8aff-f520-4df1-abf1-6fcfea99dee0"
      },
      "execution_count": 126,
      "outputs": [
        {
          "output_type": "execute_result",
          "data": {
            "text/plain": [
              "country\n",
              "Afghanistan                 NaN\n",
              "Bangladesh                  NaN\n",
              "Bhutan                      NaN\n",
              "Burundi                     NaN\n",
              "North Korea                 NaN\n",
              "                           ... \n",
              "Jordan                      1.0\n",
              "Solomon Islands             1.0\n",
              "Central African Republic    1.0\n",
              "Haiti                       1.0\n",
              "Chad                        1.0\n",
              "Name: wine_servings, Length: 193, dtype: float64"
            ]
          },
          "metadata": {},
          "execution_count": 126
        }
      ]
    },
    {
      "cell_type": "code",
      "source": [
        "# Specifying Sorting Algorithm\n",
        "# using parameter: kind\n",
        "# default setting: alcohol.sort_values(ascending = False, na_position = 'last', kind = 'quicksort') ~ alcohol.sort_values(ascending = False, na_position = 'last')\n",
        "# We also have other ooptions: heapsort, mergesort\n",
        "alcohol.sort_values(ascending = False, na_position = 'last', kind = 'mergesort')"
      ],
      "metadata": {
        "colab": {
          "base_uri": "https://localhost:8080/"
        },
        "id": "zxmeZxaNA-bX",
        "outputId": "efa1c4ba-b630-48d7-a032-c2eac7e3d82c"
      },
      "execution_count": 127,
      "outputs": [
        {
          "output_type": "execute_result",
          "data": {
            "text/plain": [
              "country\n",
              "Portugal      339.0\n",
              "Andorra       312.0\n",
              "Denmark       278.0\n",
              "Slovenia      276.0\n",
              "Luxembourg    271.0\n",
              "              ...  \n",
              "Sri Lanka       NaN\n",
              "Sudan           NaN\n",
              "Tajikistan      NaN\n",
              "Uganda          NaN\n",
              "Yemen           NaN\n",
              "Name: wine_servings, Length: 193, dtype: float64"
            ]
          },
          "metadata": {},
          "execution_count": 127
        }
      ]
    },
    {
      "cell_type": "code",
      "source": [
        "# sort_values() returns a sorted copy of the series.\n",
        "# It does not alter the original sderies. In order to achieve that we have two options:\n",
        "# Option1: Re-assignment\n",
        "#   alcohol = alcohol.sort_values(ascending = False, na_position = 'last', kind = 'quicksort')\n",
        "# Option2: inplace parameter (by default- inplace = False)\n",
        "#   alcohol.sort_values(ascending = False, na_position = 'last', kind = 'quicksort', inplace = True)"
      ],
      "metadata": {
        "id": "WlZWKdmHCdas"
      },
      "execution_count": 128,
      "outputs": []
    },
    {
      "cell_type": "markdown",
      "source": [
        "# nlargest() And nsmallest()"
      ],
      "metadata": {
        "id": "u9q5zZc3GKOk"
      }
    },
    {
      "cell_type": "code",
      "source": [
        "# Fetching top 10 countries with largest wine_servings than rest:\n",
        "# two ways:"
      ],
      "metadata": {
        "id": "rc0R92iWGHK-"
      },
      "execution_count": 129,
      "outputs": []
    },
    {
      "cell_type": "code",
      "source": [
        "# One way:\n",
        "alcohol.sort_values(ascending = False)[:10]"
      ],
      "metadata": {
        "colab": {
          "base_uri": "https://localhost:8080/"
        },
        "id": "l9drkIs7IsUR",
        "outputId": "73348878-bc13-41b0-fce7-71b682895495"
      },
      "execution_count": 130,
      "outputs": [
        {
          "output_type": "execute_result",
          "data": {
            "text/plain": [
              "country\n",
              "Portugal             339.0\n",
              "Andorra              312.0\n",
              "Denmark              278.0\n",
              "Slovenia             276.0\n",
              "Luxembourg           271.0\n",
              "Croatia              254.0\n",
              "Italy                237.0\n",
              "Equatorial Guinea    233.0\n",
              "Argentina            221.0\n",
              "Greece               218.0\n",
              "Name: wine_servings, dtype: float64"
            ]
          },
          "metadata": {},
          "execution_count": 130
        }
      ]
    },
    {
      "cell_type": "code",
      "source": [
        "# Pandorable way:\n",
        "alcohol.nlargest(n = 10)\n",
        "# ~ alcohol.nlargest(10)"
      ],
      "metadata": {
        "colab": {
          "base_uri": "https://localhost:8080/"
        },
        "id": "1RuPccGqI0Yo",
        "outputId": "d74df6d9-39bf-411b-b6ad-8e6ef64b42c4"
      },
      "execution_count": 136,
      "outputs": [
        {
          "output_type": "execute_result",
          "data": {
            "text/plain": [
              "country\n",
              "Portugal             339.0\n",
              "Andorra              312.0\n",
              "Denmark              278.0\n",
              "Slovenia             276.0\n",
              "Luxembourg           271.0\n",
              "Croatia              254.0\n",
              "Italy                237.0\n",
              "Equatorial Guinea    233.0\n",
              "Argentina            221.0\n",
              "Greece               218.0\n",
              "Name: wine_servings, dtype: float64"
            ]
          },
          "metadata": {},
          "execution_count": 136
        }
      ]
    },
    {
      "cell_type": "code",
      "source": [
        "alcohol.sort_values(ascending = False)[:10] == alcohol.nlargest(n = 10)\n",
        "# Both are equivalent"
      ],
      "metadata": {
        "colab": {
          "base_uri": "https://localhost:8080/"
        },
        "id": "HB1m7NVhI8TX",
        "outputId": "3d251211-c7bf-4950-c859-b14c506f3827"
      },
      "execution_count": 133,
      "outputs": [
        {
          "output_type": "execute_result",
          "data": {
            "text/plain": [
              "country\n",
              "Portugal             True\n",
              "Andorra              True\n",
              "Denmark              True\n",
              "Slovenia             True\n",
              "Luxembourg           True\n",
              "Croatia              True\n",
              "Italy                True\n",
              "Equatorial Guinea    True\n",
              "Argentina            True\n",
              "Greece               True\n",
              "Name: wine_servings, dtype: bool"
            ]
          },
          "metadata": {},
          "execution_count": 133
        }
      ]
    },
    {
      "cell_type": "code",
      "source": [
        "# To fetch the Smallest 20:\n",
        "alcohol.nsmallest(n = 20)\n",
        "# ~ alcohol.nsmallest(20)"
      ],
      "metadata": {
        "colab": {
          "base_uri": "https://localhost:8080/"
        },
        "id": "N1wYbL65JH59",
        "outputId": "81a3593e-384c-42af-dff7-037197d4d904"
      },
      "execution_count": 135,
      "outputs": [
        {
          "output_type": "execute_result",
          "data": {
            "text/plain": [
              "country\n",
              "Brunei                      1.0\n",
              "Cambodia                    1.0\n",
              "Canada                      1.0\n",
              "Central African Republic    1.0\n",
              "Chad                        1.0\n",
              "Comoros                     1.0\n",
              "DR Congo                    1.0\n",
              "Egypt                       1.0\n",
              "Fiji                        1.0\n",
              "Gambia                      1.0\n",
              "Ghana                       1.0\n",
              "Guyana                      1.0\n",
              "Haiti                       1.0\n",
              "Jordan                      1.0\n",
              "Kiribati                    1.0\n",
              "Malawi                      1.0\n",
              "Mali                        1.0\n",
              "Morocco                     1.0\n",
              "Namibia                     1.0\n",
              "Nicaragua                   1.0\n",
              "Name: wine_servings, dtype: float64"
            ]
          },
          "metadata": {},
          "execution_count": 135
        }
      ]
    },
    {
      "cell_type": "markdown",
      "source": [
        "# Sorting With sort_index()"
      ],
      "metadata": {
        "id": "_F5BOX5sKPhM"
      }
    },
    {
      "cell_type": "markdown",
      "source": [
        "Sorting by Imdex labels"
      ],
      "metadata": {
        "id": "7sryQXY-QlW0"
      }
    },
    {
      "cell_type": "code",
      "source": [
        "alcohol.sort_index()\n",
        "# By default ascending order"
      ],
      "metadata": {
        "colab": {
          "base_uri": "https://localhost:8080/"
        },
        "id": "B0X6gNSWJUpj",
        "outputId": "1e4ebad9-53af-4df5-ce5f-0f6388d9f516"
      },
      "execution_count": 137,
      "outputs": [
        {
          "output_type": "execute_result",
          "data": {
            "text/plain": [
              "country\n",
              "Afghanistan      NaN\n",
              "Albania         54.0\n",
              "Algeria         14.0\n",
              "Andorra        312.0\n",
              "Angola          45.0\n",
              "               ...  \n",
              "Venezuela        3.0\n",
              "Vietnam          1.0\n",
              "Yemen            NaN\n",
              "Zambia           4.0\n",
              "Zimbabwe         4.0\n",
              "Name: wine_servings, Length: 193, dtype: float64"
            ]
          },
          "metadata": {},
          "execution_count": 137
        }
      ]
    },
    {
      "cell_type": "code",
      "source": [
        "# In Descending order:\n",
        "alcohol.sort_index(ascending = False)"
      ],
      "metadata": {
        "colab": {
          "base_uri": "https://localhost:8080/"
        },
        "id": "cbA2gIUGQq4J",
        "outputId": "55b1600a-b630-4b97-ae18-400ab70d0f55"
      },
      "execution_count": 138,
      "outputs": [
        {
          "output_type": "execute_result",
          "data": {
            "text/plain": [
              "country\n",
              "Zimbabwe         4.0\n",
              "Zambia           4.0\n",
              "Yemen            NaN\n",
              "Vietnam          1.0\n",
              "Venezuela        3.0\n",
              "               ...  \n",
              "Angola          45.0\n",
              "Andorra        312.0\n",
              "Algeria         14.0\n",
              "Albania         54.0\n",
              "Afghanistan      NaN\n",
              "Name: wine_servings, Length: 193, dtype: float64"
            ]
          },
          "metadata": {},
          "execution_count": 138
        }
      ]
    },
    {
      "cell_type": "code",
      "source": [
        "# Moving NaNs:\n",
        "alcohol.sort_index(ascending = False, na_position = 'first')"
      ],
      "metadata": {
        "colab": {
          "base_uri": "https://localhost:8080/"
        },
        "id": "u3vqtMG-Q1dS",
        "outputId": "b204c84d-9507-46c1-c5aa-b6b05015717c"
      },
      "execution_count": 139,
      "outputs": [
        {
          "output_type": "execute_result",
          "data": {
            "text/plain": [
              "country\n",
              "Zimbabwe         4.0\n",
              "Zambia           4.0\n",
              "Yemen            NaN\n",
              "Vietnam          1.0\n",
              "Venezuela        3.0\n",
              "               ...  \n",
              "Angola          45.0\n",
              "Andorra        312.0\n",
              "Algeria         14.0\n",
              "Albania         54.0\n",
              "Afghanistan      NaN\n",
              "Name: wine_servings, Length: 193, dtype: float64"
            ]
          },
          "metadata": {},
          "execution_count": 139
        }
      ]
    },
    {
      "cell_type": "code",
      "source": [
        "# na_position not impacted our series as our index labels has no nulls:\n",
        "alcohol.index.isnull().sum()"
      ],
      "metadata": {
        "colab": {
          "base_uri": "https://localhost:8080/"
        },
        "id": "mB5vaZYxQ8wf",
        "outputId": "f198d257-cd97-49fe-e1d3-36f5b832b22d"
      },
      "execution_count": 140,
      "outputs": [
        {
          "output_type": "execute_result",
          "data": {
            "text/plain": [
              "0"
            ]
          },
          "metadata": {},
          "execution_count": 140
        }
      ]
    },
    {
      "cell_type": "code",
      "source": [
        "# sort_index() does not alter series in place, returns a copy instead\n",
        "# to Alter original series:\n",
        "# alcohol.sort_index(ascending = False, na_position = 'first', inplace = True)"
      ],
      "metadata": {
        "id": "QI64LCp3RGtb"
      },
      "execution_count": 141,
      "outputs": []
    },
    {
      "cell_type": "markdown",
      "source": [
        "# Skill Challenge"
      ],
      "metadata": {
        "id": "qeS5H5tpRlUk"
      }
    },
    {
      "cell_type": "markdown",
      "source": [
        "Step1: Select all the countries from alcohol that have more than 50 wine servings\n",
        "and the corresponding values in a Variable *fifty_plus*.\n",
        " "
      ],
      "metadata": {
        "id": "y6Oa3LJlR9ow"
      }
    },
    {
      "cell_type": "code",
      "source": [
        "fifty_plus = alcohol[alcohol > 50]\n",
        "fifty_plus"
      ],
      "metadata": {
        "colab": {
          "base_uri": "https://localhost:8080/"
        },
        "id": "T4nbxRKCR6xt",
        "outputId": "be767d8f-0de7-4720-c9ac-a0adc5823e58"
      },
      "execution_count": 143,
      "outputs": [
        {
          "output_type": "execute_result",
          "data": {
            "text/plain": [
              "country\n",
              "Albania                54.0\n",
              "Andorra               312.0\n",
              "Argentina             221.0\n",
              "Australia             212.0\n",
              "Austria               191.0\n",
              "Bahamas                51.0\n",
              "Belgium               212.0\n",
              "Bulgaria               94.0\n",
              "Chile                 172.0\n",
              "Cook Islands           74.0\n",
              "Croatia               254.0\n",
              "Cyprus                113.0\n",
              "Czech Republic        134.0\n",
              "Denmark               278.0\n",
              "Equatorial Guinea     233.0\n",
              "Estonia                59.0\n",
              "Finland                97.0\n",
              "Gabon                  59.0\n",
              "Georgia               149.0\n",
              "Germany               175.0\n",
              "Greece                218.0\n",
              "Hungary               185.0\n",
              "Iceland                78.0\n",
              "Ireland               165.0\n",
              "Italy                 237.0\n",
              "Laos                  123.0\n",
              "Latvia                 62.0\n",
              "Lithuania              56.0\n",
              "Luxembourg            271.0\n",
              "Montenegro            128.0\n",
              "New Zealand           175.0\n",
              "Norway                129.0\n",
              "Paraguay               74.0\n",
              "Poland                 56.0\n",
              "Portugal              339.0\n",
              "Romania               167.0\n",
              "Russian Federation     73.0\n",
              "St. Lucia              71.0\n",
              "Serbia                127.0\n",
              "Seychelles             51.0\n",
              "Slovakia              116.0\n",
              "Slovenia              276.0\n",
              "South Africa           81.0\n",
              "Spain                 112.0\n",
              "Sweden                186.0\n",
              "Macedonia              86.0\n",
              "United Kingdom        195.0\n",
              "USA                    84.0\n",
              "Name: wine_servings, dtype: float64"
            ]
          },
          "metadata": {},
          "execution_count": 143
        }
      ]
    },
    {
      "cell_type": "markdown",
      "source": [
        "Step2: From fifty_plus choose the countries with the smallest 20 wine_servings values."
      ],
      "metadata": {
        "id": "MlziaIYlSYFY"
      }
    },
    {
      "cell_type": "code",
      "source": [
        "fifty_plus.nsmallest(n = 20)"
      ],
      "metadata": {
        "colab": {
          "base_uri": "https://localhost:8080/"
        },
        "id": "30xMqgFLSYk6",
        "outputId": "d17f23a5-1d87-464b-c026-236c22263e38"
      },
      "execution_count": 147,
      "outputs": [
        {
          "output_type": "execute_result",
          "data": {
            "text/plain": [
              "country\n",
              "Bahamas                51.0\n",
              "Seychelles             51.0\n",
              "Albania                54.0\n",
              "Lithuania              56.0\n",
              "Poland                 56.0\n",
              "Estonia                59.0\n",
              "Gabon                  59.0\n",
              "Latvia                 62.0\n",
              "St. Lucia              71.0\n",
              "Russian Federation     73.0\n",
              "Cook Islands           74.0\n",
              "Paraguay               74.0\n",
              "Iceland                78.0\n",
              "South Africa           81.0\n",
              "USA                    84.0\n",
              "Macedonia              86.0\n",
              "Bulgaria               94.0\n",
              "Finland                97.0\n",
              "Spain                 112.0\n",
              "Cyprus                113.0\n",
              "Name: wine_servings, dtype: float64"
            ]
          },
          "metadata": {},
          "execution_count": 147
        }
      ]
    },
    {
      "cell_type": "markdown",
      "source": [
        "Step3: What is the Mean, Median and Standard Deviation from sample from step2 above?"
      ],
      "metadata": {
        "id": "KbcKNwwlTJbz"
      }
    },
    {
      "cell_type": "code",
      "source": [
        "mean = fifty_plus.nsmallest(n = 20).mean()\n",
        "mean"
      ],
      "metadata": {
        "colab": {
          "base_uri": "https://localhost:8080/"
        },
        "id": "uUt2_IB2S_nU",
        "outputId": "ee53002b-d104-4710-a18b-cd27ab70befb"
      },
      "execution_count": 149,
      "outputs": [
        {
          "output_type": "execute_result",
          "data": {
            "text/plain": [
              "74.25"
            ]
          },
          "metadata": {},
          "execution_count": 149
        }
      ]
    },
    {
      "cell_type": "code",
      "source": [
        "# median = fifty_plus.nsmallest(n = 20).quantile(.5)\n",
        "median = fifty_plus.nsmallest(n = 20).median()\n",
        "median"
      ],
      "metadata": {
        "colab": {
          "base_uri": "https://localhost:8080/"
        },
        "id": "ddzoCgn9Te7v",
        "outputId": "30784065-235f-47a3-e6da-cdc7464bdbe3"
      },
      "execution_count": 153,
      "outputs": [
        {
          "output_type": "execute_result",
          "data": {
            "text/plain": [
              "73.5"
            ]
          },
          "metadata": {},
          "execution_count": 153
        }
      ]
    },
    {
      "cell_type": "code",
      "source": [
        "std = fifty_plus.nsmallest(n = 20).std()\n",
        "std"
      ],
      "metadata": {
        "colab": {
          "base_uri": "https://localhost:8080/"
        },
        "id": "e2e487dyToqc",
        "outputId": "1126701d-8e95-41bc-fe80-3aac10bcd9e1"
      },
      "execution_count": 151,
      "outputs": [
        {
          "output_type": "execute_result",
          "data": {
            "text/plain": [
              "19.07292100831631"
            ]
          },
          "metadata": {},
          "execution_count": 151
        }
      ]
    },
    {
      "cell_type": "code",
      "source": [
        "fifty_plus.nsmallest(n = 20).describe()"
      ],
      "metadata": {
        "colab": {
          "base_uri": "https://localhost:8080/"
        },
        "id": "aPSsdJzeTtne",
        "outputId": "43875dfd-bfff-4481-82fe-3c56b122834a"
      },
      "execution_count": 152,
      "outputs": [
        {
          "output_type": "execute_result",
          "data": {
            "text/plain": [
              "count     20.000000\n",
              "mean      74.250000\n",
              "std       19.072921\n",
              "min       51.000000\n",
              "25%       58.250000\n",
              "50%       73.500000\n",
              "75%       84.500000\n",
              "max      113.000000\n",
              "Name: wine_servings, dtype: float64"
            ]
          },
          "metadata": {},
          "execution_count": 152
        }
      ]
    },
    {
      "cell_type": "markdown",
      "source": [
        "# Series Arithmatics And fill_value()"
      ],
      "metadata": {
        "id": "ozEITPh1UJSJ"
      }
    },
    {
      "cell_type": "code",
      "source": [
        "# Performing simple maths on our series:\n",
        "alcohol + 10"
      ],
      "metadata": {
        "colab": {
          "base_uri": "https://localhost:8080/"
        },
        "id": "mYS2dbtUTwsF",
        "outputId": "3d2826b1-5fb0-4bef-dd5c-64ff5b552e7e"
      },
      "execution_count": 154,
      "outputs": [
        {
          "output_type": "execute_result",
          "data": {
            "text/plain": [
              "country\n",
              "Afghanistan      NaN\n",
              "Albania         64.0\n",
              "Algeria         24.0\n",
              "Andorra        322.0\n",
              "Angola          55.0\n",
              "               ...  \n",
              "Venezuela       13.0\n",
              "Vietnam         11.0\n",
              "Yemen            NaN\n",
              "Zambia          14.0\n",
              "Zimbabwe        14.0\n",
              "Name: wine_servings, Length: 193, dtype: float64"
            ]
          },
          "metadata": {},
          "execution_count": 154
        }
      ]
    },
    {
      "cell_type": "code",
      "source": [
        "(alcohol +10) * 2"
      ],
      "metadata": {
        "colab": {
          "base_uri": "https://localhost:8080/"
        },
        "id": "F_dE3CxebsBL",
        "outputId": "14a49bd9-3385-41c6-c40c-7d9b985e8878"
      },
      "execution_count": 155,
      "outputs": [
        {
          "output_type": "execute_result",
          "data": {
            "text/plain": [
              "country\n",
              "Afghanistan      NaN\n",
              "Albania        128.0\n",
              "Algeria         48.0\n",
              "Andorra        644.0\n",
              "Angola         110.0\n",
              "               ...  \n",
              "Venezuela       26.0\n",
              "Vietnam         22.0\n",
              "Yemen            NaN\n",
              "Zambia          28.0\n",
              "Zimbabwe        28.0\n",
              "Name: wine_servings, Length: 193, dtype: float64"
            ]
          },
          "metadata": {},
          "execution_count": 155
        }
      ]
    },
    {
      "cell_type": "code",
      "source": [
        "alcohol.sort_index(inplace = True)"
      ],
      "metadata": {
        "id": "0iBRgphBbvkD"
      },
      "execution_count": 156,
      "outputs": []
    },
    {
      "cell_type": "code",
      "source": [
        "alcohol.head()"
      ],
      "metadata": {
        "colab": {
          "base_uri": "https://localhost:8080/"
        },
        "id": "ICwM8fGNb3MP",
        "outputId": "9afafcd1-15f5-496a-9db4-70dbeefda09c"
      },
      "execution_count": 157,
      "outputs": [
        {
          "output_type": "execute_result",
          "data": {
            "text/plain": [
              "country\n",
              "Afghanistan      NaN\n",
              "Albania         54.0\n",
              "Algeria         14.0\n",
              "Andorra        312.0\n",
              "Angola          45.0\n",
              "Name: wine_servings, dtype: float64"
            ]
          },
          "metadata": {},
          "execution_count": 157
        }
      ]
    },
    {
      "cell_type": "code",
      "source": [
        "more_drinks = pd.Series({'Albania': 6})"
      ],
      "metadata": {
        "id": "7u62nEYRb4nX"
      },
      "execution_count": 158,
      "outputs": []
    },
    {
      "cell_type": "code",
      "source": [
        "more_drinks + alcohol"
      ],
      "metadata": {
        "colab": {
          "base_uri": "https://localhost:8080/"
        },
        "id": "OIZ84KNOcCjj",
        "outputId": "ef227d9b-852b-4710-bd4b-fddfb7f1af38"
      },
      "execution_count": 159,
      "outputs": [
        {
          "output_type": "execute_result",
          "data": {
            "text/plain": [
              "Afghanistan     NaN\n",
              "Albania        60.0\n",
              "Algeria         NaN\n",
              "Andorra         NaN\n",
              "Angola          NaN\n",
              "               ... \n",
              "Venezuela       NaN\n",
              "Vietnam         NaN\n",
              "Yemen           NaN\n",
              "Zambia          NaN\n",
              "Zimbabwe        NaN\n",
              "Length: 193, dtype: float64"
            ]
          },
          "metadata": {},
          "execution_count": 159
        }
      ]
    },
    {
      "cell_type": "code",
      "source": [
        "more_drinks = pd.Series({'Albania': 6, 'Algeria': 10})"
      ],
      "metadata": {
        "id": "40Kwl3p8cFSV"
      },
      "execution_count": 160,
      "outputs": []
    },
    {
      "cell_type": "code",
      "source": [
        "more_drinks + alcohol\n",
        "# only common keys are populated and data loss for other keys"
      ],
      "metadata": {
        "colab": {
          "base_uri": "https://localhost:8080/"
        },
        "id": "fm5lxb8WcLlk",
        "outputId": "a9c80919-ea9a-44d2-9904-52c2c4a59d1e"
      },
      "execution_count": 164,
      "outputs": [
        {
          "output_type": "execute_result",
          "data": {
            "text/plain": [
              "Afghanistan     NaN\n",
              "Albania        60.0\n",
              "Algeria        24.0\n",
              "Andorra         NaN\n",
              "Angola          NaN\n",
              "               ... \n",
              "Venezuela       NaN\n",
              "Vietnam         NaN\n",
              "Yemen           NaN\n",
              "Zambia          NaN\n",
              "Zimbabwe        NaN\n",
              "Length: 193, dtype: float64"
            ]
          },
          "metadata": {},
          "execution_count": 164
        }
      ]
    },
    {
      "cell_type": "code",
      "source": [
        "alcohol.add(more_drinks)\n",
        "# ~ more_drinks + alcohol\n",
        "# only common keys are populated and data loss for other keys"
      ],
      "metadata": {
        "colab": {
          "base_uri": "https://localhost:8080/"
        },
        "id": "jyI_6F1EcOSk",
        "outputId": "02192202-6fec-4ca3-e164-04ffbc1a6b32"
      },
      "execution_count": 165,
      "outputs": [
        {
          "output_type": "execute_result",
          "data": {
            "text/plain": [
              "Afghanistan     NaN\n",
              "Albania        60.0\n",
              "Algeria        24.0\n",
              "Andorra         NaN\n",
              "Angola          NaN\n",
              "               ... \n",
              "Venezuela       NaN\n",
              "Vietnam         NaN\n",
              "Yemen           NaN\n",
              "Zambia          NaN\n",
              "Zimbabwe        NaN\n",
              "Length: 193, dtype: float64"
            ]
          },
          "metadata": {},
          "execution_count": 165
        }
      ]
    },
    {
      "cell_type": "code",
      "source": [
        "alcohol.add(more_drinks, fill_value = 0)\n",
        "# using fill_value we are saying that ifkey is not ehre in samller dataset, add 0 to their corresponding value in larger dataset\n",
        "# Still Afghanistana nd Yemen have NaNs as it was already NaN in alcohol series and werenot common with monre_drinks"
      ],
      "metadata": {
        "colab": {
          "base_uri": "https://localhost:8080/"
        },
        "id": "nNRljegKiZ9k",
        "outputId": "edcb8846-0ace-4c47-c409-fc29877c3a6d"
      },
      "execution_count": 167,
      "outputs": [
        {
          "output_type": "execute_result",
          "data": {
            "text/plain": [
              "Afghanistan      NaN\n",
              "Albania         60.0\n",
              "Algeria         24.0\n",
              "Andorra        312.0\n",
              "Angola          45.0\n",
              "               ...  \n",
              "Venezuela        3.0\n",
              "Vietnam          1.0\n",
              "Yemen            NaN\n",
              "Zambia           4.0\n",
              "Zimbabwe         4.0\n",
              "Length: 193, dtype: float64"
            ]
          },
          "metadata": {},
          "execution_count": 167
        }
      ]
    },
    {
      "cell_type": "code",
      "source": [
        "more_drinks = pd.Series({'Albania': 6, 'Algeria': 10, 'Afghanistan':100, 'Yemen':101})"
      ],
      "metadata": {
        "id": "Digp31cHieCE"
      },
      "execution_count": 168,
      "outputs": []
    },
    {
      "cell_type": "code",
      "source": [
        "alcohol.add(more_drinks, fill_value = 0)"
      ],
      "metadata": {
        "colab": {
          "base_uri": "https://localhost:8080/"
        },
        "id": "zezZ8YGtjO3h",
        "outputId": "bd5a0b80-e819-4857-bf23-5933e96f717c"
      },
      "execution_count": 169,
      "outputs": [
        {
          "output_type": "execute_result",
          "data": {
            "text/plain": [
              "Afghanistan    100.0\n",
              "Albania         60.0\n",
              "Algeria         24.0\n",
              "Andorra        312.0\n",
              "Angola          45.0\n",
              "               ...  \n",
              "Venezuela        3.0\n",
              "Vietnam          1.0\n",
              "Yemen          101.0\n",
              "Zambia           4.0\n",
              "Zimbabwe         4.0\n",
              "Length: 193, dtype: float64"
            ]
          },
          "metadata": {},
          "execution_count": 169
        }
      ]
    },
    {
      "cell_type": "code",
      "source": [
        "# Can also add imaginary country in our resulting dataset:\n",
        "more_drinks = pd.Series({'Albania': 6, 'Alberis': 19, 'Algeria': 10, 'Afghanistan':100, 'Yemen':101})\n",
        "alcohol.add(more_drinks, fill_value = 0)"
      ],
      "metadata": {
        "colab": {
          "base_uri": "https://localhost:8080/"
        },
        "id": "qH9U2OExjQ1K",
        "outputId": "9722f420-e977-4f38-ea0b-bc94656c24a8"
      },
      "execution_count": 170,
      "outputs": [
        {
          "output_type": "execute_result",
          "data": {
            "text/plain": [
              "Afghanistan    100.0\n",
              "Albania         60.0\n",
              "Alberis         19.0\n",
              "Algeria         24.0\n",
              "Andorra        312.0\n",
              "               ...  \n",
              "Venezuela        3.0\n",
              "Vietnam          1.0\n",
              "Yemen          101.0\n",
              "Zambia           4.0\n",
              "Zimbabwe         4.0\n",
              "Length: 194, dtype: float64"
            ]
          },
          "metadata": {},
          "execution_count": 170
        }
      ]
    },
    {
      "cell_type": "code",
      "source": [],
      "metadata": {
        "id": "xHpjZ3p5jglY"
      },
      "execution_count": null,
      "outputs": []
    }
  ]
}